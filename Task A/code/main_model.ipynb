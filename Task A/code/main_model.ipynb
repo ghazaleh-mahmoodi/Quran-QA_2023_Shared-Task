{
 "cells": [
  {
   "cell_type": "code",
   "execution_count": 1,
   "metadata": {
    "ExecuteTime": {
     "end_time": "2023-08-13T17:06:43.814127Z",
     "start_time": "2023-08-13T17:06:41.514694900Z"
    }
   },
   "outputs": [],
   "source": [
    "import logging\n",
    "import math\n",
    "import os\n",
    "import re\n",
    "from datetime import datetime\n",
    "\n",
    "import arabicstopwords.arabicstopwords as ar_stp\n",
    "import numpy as np\n",
    "import pandas as pd\n",
    "import pyterrier as pt\n",
    "import torch\n",
    "from sentence_transformers import LoggingHandler, SentenceTransformer, CrossEncoder, util, InputExample\n",
    "from sentence_transformers import models, losses\n",
    "from sentence_transformers import evaluation\n",
    "\n",
    "from snowballstemmer import stemmer\n",
    "from torch import nn\n",
    "# from simcse import SimSCE\n",
    "from torch.utils.data import DataLoader"
   ]
  },
  {
   "cell_type": "code",
   "execution_count": 2,
   "outputs": [
    {
     "name": "stdout",
     "output_type": "stream",
     "text": [
      "2.0.1+cu118\n",
      "True\n",
      "NVIDIA GeForce RTX 3090\n"
     ]
    }
   ],
   "source": [
    "print(torch.__version__)\n",
    "print(torch.cuda.is_available())\n",
    "# print(torch.cuda.device_count())\n",
    "# print(torch.cuda.current_device())\n",
    "print(torch.cuda.get_device_name(0))"
   ],
   "metadata": {
    "collapsed": false,
    "ExecuteTime": {
     "end_time": "2023-08-13T17:06:43.874238100Z",
     "start_time": "2023-08-13T17:06:43.814127Z"
    }
   }
  },
  {
   "cell_type": "markdown",
   "source": [
    "# Get Data"
   ],
   "metadata": {
    "collapsed": false,
    "ExecuteTime": {
     "end_time": "2023-08-11T08:04:53.469544200Z",
     "start_time": "2023-08-11T08:04:53.454643500Z"
    }
   },
   "outputs": [
    {
     "name": "stdout",
     "output_type": "stream",
     "text": [
      "2.0.1+cu118\n",
      "True\n",
      "1\n",
      "0\n",
      "NVIDIA GeForce RTX 3090\n"
     ]
    }
   ],
   "execution_count": 3
  },
  {
   "cell_type": "code",
   "execution_count": null,
   "outputs": [],
   "source": [
    "data_path = \"../data\"\n",
    "index_path = os.path.join(data_path, \"QPC_Index/data.properties\")\n",
    "\n",
    "query_train_path = os.path.join(data_path, \"QQA23_TaskA_train.tsv\")\n",
    "query_dev_path = os.path.join(data_path, \"QQA23_TaskA_dev.tsv\")\n",
    "\n",
    "passage_path = os.path.join(data_path, \"Thematic_QPC/QQA23_TaskA_QPC_v1.1.tsv\")\n",
    "\n",
    "qp_pair_train_path = os.path.join(data_path, \"qrels\\QQA23_TaskA_qrels_train.gold\")\n",
    "qp_pair_dev_path = os.path.join(data_path, \"qrels\\QQA23_TaskA_qrels_dev.gold\")"
   ],
   "metadata": {
    "collapsed": false
   }
  },
  {
   "cell_type": "markdown",
   "source": [
    "## Read file"
   ],
   "metadata": {
    "collapsed": false,
    "ExecuteTime": {
     "end_time": "2023-08-11T05:37:35.422287500Z",
     "start_time": "2023-08-11T05:37:35.406190400Z"
    }
   },
   "outputs": [],
   "execution_count": 3
  },
  {
   "cell_type": "code",
   "execution_count": 4,
   "outputs": [],
   "source": [
    "# read file based on its extension (tsv or xlsx)\n",
    "def read_file(input_file, sep=\"\\t\", names = \"\"):\n",
    "    if input_file.endswith(\".xlsx\"):\n",
    "        df = pd.read_excel(input_file)\n",
    "    else:\n",
    "        if names != \"\":\n",
    "            df = pd.read_csv(input_file, sep=sep, names=names,encoding=\"utf-8\")\n",
    "        else:\n",
    "            df = pd.read_csv(input_file, sep=sep,encoding=\"utf-8\")\n",
    "    return df"
   ],
   "metadata": {
    "collapsed": false,
    "ExecuteTime": {
     "end_time": "2023-08-13T17:06:43.874238100Z",
     "start_time": "2023-08-13T17:06:43.874238100Z"
    }
   }
  },
  {
   "cell_type": "markdown",
   "source": [
    "## Read Query-Passage Pair"
   ],
   "metadata": {
    "collapsed": false,
    "ExecuteTime": {
     "end_time": "2023-08-11T05:37:35.971927300Z",
     "start_time": "2023-08-11T05:37:35.956262200Z"
    }
   },
   "outputs": [],
   "execution_count": 4
  },
  {
   "cell_type": "code",
   "execution_count": 5,
   "outputs": [],
   "source": [
    "qrels_columns = [\"qid\", \"Q0\", \"docid\", \"relevance\"]\n",
    "\n",
    "def read_qrels_file(qrels_file):\n",
    "    # split_token = '\\t' if format_checker.is_tab_sparated(qrels_file) else  \"\\s+\"\n",
    "    df_qrels = pd.read_csv(qrels_file, sep='\\t', names=qrels_columns)\n",
    "    df_qrels[\"qid\"] = df_qrels[\"qid\"].astype(str)\n",
    "    df_qrels[\"docid\"] = df_qrels[\"docid\"].astype(str)\n",
    "    return df_qrels"
   ],
   "metadata": {
    "collapsed": false,
    "ExecuteTime": {
     "end_time": "2023-08-13T17:06:43.890226200Z",
     "start_time": "2023-08-13T17:06:43.874238100Z"
    }
   }
  },
  {
   "cell_type": "markdown",
   "source": [
    "## Load the index"
   ],
   "metadata": {
    "collapsed": false,
    "ExecuteTime": {
     "end_time": "2023-08-11T05:37:36.618544500Z",
     "start_time": "2023-08-11T05:37:36.598224700Z"
    }
   },
   "outputs": [],
   "execution_count": 5
  },
  {
   "cell_type": "code",
   "execution_count": 6,
   "outputs": [],
   "source": [
    "def load_index(index_path):\n",
    "    if not pt.started():\n",
    "        pt.init(helper_version=\"0.0.6\")\n",
    "\n",
    "    try:\n",
    "        index = pt.IndexFactory.of(index_path)\n",
    "        print(\"Index was loaded successfully from this path: \", index_path)\n",
    "        return index\n",
    "    except Exception as e:\n",
    "        print('Cannot load the index, check exception details {}'.format(e))\n",
    "        return []"
   ],
   "metadata": {
    "collapsed": false,
    "ExecuteTime": {
     "end_time": "2023-08-13T17:06:43.914227400Z",
     "start_time": "2023-08-13T17:06:43.890226200Z"
    }
   }
  },
  {
   "attachments": {},
   "cell_type": "markdown",
   "metadata": {
    "ExecuteTime": {
     "end_time": "2023-08-11T05:37:37.652006400Z",
     "start_time": "2023-08-11T05:37:37.639499500Z"
    }
   },
   "source": [
    "## Cleaning\n",
    "Clean text from urls, handles, special characters, tabs, line jumps, extra white space, and puntuations."
   ],
   "outputs": [],
   "execution_count": 6
  },
  {
   "cell_type": "code",
   "execution_count": 7,
   "metadata": {
    "ExecuteTime": {
     "end_time": "2023-08-13T17:06:43.922226Z",
     "start_time": "2023-08-13T17:06:43.906281700Z"
    }
   },
   "outputs": [],
   "source": [
    "# Clean text from urls, handles, special characters, tabs, line jumps, and extra white space.\n",
    "def clean(text):\n",
    "    text = re.sub(r\"http\\S+\", \" \", text)  # remove urls\n",
    "    text = re.sub(r\"@[\\w]*\", \" \", text)  # remove handles\n",
    "    text = re.sub(r\"[\\.\\,\\#_\\|\\:\\?\\?\\/\\=]\", \" \", text) # remove special characters\n",
    "    text = re.sub(r\"\\t\", \" \", text)  # remove tabs\n",
    "    text = re.sub(r\"\\n\", \" \", text)  # remove line jump\n",
    "    text = re.sub(r\"\\s+\", \" \", text)  # remove extra white space\n",
    "    text = re.sub(r'[^\\w\\s]', '', text) # Removing punctuations in string using regex\n",
    "    text = text.strip()\n",
    "    return text"
   ]
  },
  {
   "attachments": {},
   "cell_type": "markdown",
   "metadata": {
    "ExecuteTime": {
     "end_time": "2023-08-11T05:37:38.819398900Z",
     "start_time": "2023-08-11T05:37:38.803754900Z"
    }
   },
   "source": [
    "## Preprocessing\n",
    "Preprocess the arabic input text by performing normalization, stemming, and removing stop words."
   ],
   "outputs": [],
   "execution_count": 7
  },
  {
   "cell_type": "code",
   "execution_count": 8,
   "metadata": {
    "ExecuteTime": {
     "end_time": "2023-08-13T17:06:43.938235900Z",
     "start_time": "2023-08-13T17:06:43.922226Z"
    }
   },
   "outputs": [],
   "source": [
    "# arabic stemmer\n",
    "ar_stemmer = stemmer(\"arabic\")\n",
    "\n",
    "# remove arabic stop words\n",
    "def ar_remove_stop_words(sentence):\n",
    "    terms=[]\n",
    "    stopWords= set(ar_stp.stopwords_list())\n",
    "    for term in sentence.split() : \n",
    "        if term not in stopWords :\n",
    "            terms.append(term)\n",
    "    return \" \".join(terms)\n",
    "\n",
    "\n",
    "# normalize the arabic text\n",
    "def normalize_arabic(text):\n",
    "    text = re.sub(\"[إأٱآا]\", \"ا\", text)\n",
    "    text = re.sub(\"ى\", \"ي\", text)\n",
    "    text = re.sub(\"ؤ\", \"ء\", text)\n",
    "    text = re.sub(\"ئ\", \"ء\", text)\n",
    "    text = re.sub(\"ة\", \"ه\", text)\n",
    "    return(text)\n",
    "\n",
    "# stem the arabic text\n",
    "def ar_stem(sentence):\n",
    "    return \" \".join([ar_stemmer.stemWord(i) for i in sentence.split()])\n",
    "\n",
    "\n",
    "# apply all preprocessing steps needed for Arabic text\n",
    "def preprocess_arabic(text): \n",
    "    text = normalize_arabic(text)\n",
    "    text = ar_remove_stop_words(text)\n",
    "    text = ar_stem(text)\n",
    "    return text"
   ]
  },
  {
   "cell_type": "code",
   "execution_count": 9,
   "outputs": [],
   "source": [
    "def prepare_data(path, column, id_type, id_column='docno'):\n",
    "        df = read_file(path, names=['docno', 'text'])\n",
    "\n",
    "        print(\"Cleaning passages\")\n",
    "        # apply the cleaning functions on the queries/questions\n",
    "        df[column] = df['text'].apply(clean)\n",
    "\n",
    "        # apply normalization, stemming and stop word removal\n",
    "        print(\"Preprocessing - Applying normalization, stemming and stop word removal\")\n",
    "        df[column] = df[column].apply(preprocess_arabic)\n",
    "\n",
    "        df[id_type] = df[id_column].astype(str) # convert the id column to string\n",
    "        df = df[[id_type, 'text', column]] # keep the columns needed for search\n",
    "\n",
    "        print(\"Done with preparation!\")\n",
    "        return df\n"
   ],
   "metadata": {
    "collapsed": false,
    "ExecuteTime": {
     "end_time": "2023-08-13T17:06:43.962270900Z",
     "start_time": "2023-08-13T17:06:43.938235900Z"
    }
   }
  },
  {
   "cell_type": "markdown",
   "source": [
    "### Index"
   ],
   "metadata": {
    "collapsed": false,
    "ExecuteTime": {
     "end_time": "2023-08-11T05:37:39.775198Z",
     "start_time": "2023-08-11T05:37:39.759112600Z"
    }
   },
   "outputs": [],
   "execution_count": 9
  },
  {
   "cell_type": "code",
   "execution_count": 10,
   "outputs": [
    {
     "name": "stderr",
     "output_type": "stream",
     "text": [
      "PyTerrier 0.9.2 has loaded Terrier 5.7 (built by craigm on 2022-11-10 18:30) and terrier-helper 0.0.6\n",
      "\n"
     ]
    },
    {
     "name": "stdout",
     "output_type": "stream",
     "text": [
      "Index was loaded successfully from this path:  ../data\\QPC_Index/data.properties\n"
     ]
    }
   ],
   "source": [
    "index = load_index(index_path=index_path)\n",
    "\n",
    "# print(index.getCollectionStatistics().toString())\n",
    "# print(index.getMetaIndex().getKeys())\n",
    "\n",
    "# for kv in index.getLexicon():\n",
    "#     print((kv.getKey())+\"\\t\"+ kv.getValue().toString())\n",
    "# index.getLexicon()[\"فاعل\"].toString()"
   ],
   "metadata": {
    "collapsed": false,
    "ExecuteTime": {
     "end_time": "2023-08-13T17:06:44.524847800Z",
     "start_time": "2023-08-13T17:06:43.954258800Z"
    }
   }
  },
  {
   "cell_type": "markdown",
   "source": [
    "### Load Passage and Query"
   ],
   "metadata": {
    "collapsed": false
   }
  },
  {
   "cell_type": "code",
   "execution_count": 11,
   "outputs": [
    {
     "name": "stdout",
     "output_type": "stream",
     "text": [
      "Cleaning passages\n",
      "Preprocessing - Applying normalization, stemming and stop word removal\n",
      "Done with preparation!\n",
      "Cleaning passages\n",
      "Preprocessing - Applying normalization, stemming and stop word removal\n",
      "Done with preparation!\n",
      "Cleaning passages\n",
      "Preprocessing - Applying normalization, stemming and stop word removal\n",
      "Done with preparation!\n"
     ]
    }
   ],
   "source": [
    "df_passage = prepare_data(passage_path, 'passage', 'pid')\n",
    "\n",
    "df_query_train = prepare_data(query_train_path, 'query', 'qid')\n",
    "df_query_dev = prepare_data(query_dev_path, 'query', 'qid')\n",
    "\n",
    "df_qppair_train = read_qrels_file(qp_pair_train_path)\n",
    "\n",
    "df_qppair_dev = read_qrels_file(qp_pair_dev_path)\n"
   ],
   "metadata": {
    "collapsed": false,
    "ExecuteTime": {
     "end_time": "2023-08-13T17:06:48.277343100Z",
     "start_time": "2023-08-13T17:06:44.524847800Z"
    }
   }
  },
  {
   "cell_type": "markdown",
   "source": [
    "# Model"
   ],
   "metadata": {
    "collapsed": false,
    "ExecuteTime": {
     "end_time": "2023-08-11T05:37:45.398058Z",
     "start_time": "2023-08-11T05:37:45.303203100Z"
    }
   },
   "outputs": [
    {
     "data": {
      "text/plain": "     qid  Q0      docid  relevance\n0    114   0   28:76-80          1\n1    124   0  2:234-237          1\n2    126   0   37:62-74          1\n3    126   0   44:40-50          1\n4    126   0   56:41-56          1\n..   ...  ..        ...        ...\n155  428   0   47:20-24          1\n156  322   0         -1          1\n157  260   0         -1          1\n158  384   0         -1          1\n159  336   0         -1          1\n\n[160 rows x 4 columns]",
      "text/html": "<div>\n<style scoped>\n    .dataframe tbody tr th:only-of-type {\n        vertical-align: middle;\n    }\n\n    .dataframe tbody tr th {\n        vertical-align: top;\n    }\n\n    .dataframe thead th {\n        text-align: right;\n    }\n</style>\n<table border=\"1\" class=\"dataframe\">\n  <thead>\n    <tr style=\"text-align: right;\">\n      <th></th>\n      <th>qid</th>\n      <th>Q0</th>\n      <th>docid</th>\n      <th>relevance</th>\n    </tr>\n  </thead>\n  <tbody>\n    <tr>\n      <th>0</th>\n      <td>114</td>\n      <td>0</td>\n      <td>28:76-80</td>\n      <td>1</td>\n    </tr>\n    <tr>\n      <th>1</th>\n      <td>124</td>\n      <td>0</td>\n      <td>2:234-237</td>\n      <td>1</td>\n    </tr>\n    <tr>\n      <th>2</th>\n      <td>126</td>\n      <td>0</td>\n      <td>37:62-74</td>\n      <td>1</td>\n    </tr>\n    <tr>\n      <th>3</th>\n      <td>126</td>\n      <td>0</td>\n      <td>44:40-50</td>\n      <td>1</td>\n    </tr>\n    <tr>\n      <th>4</th>\n      <td>126</td>\n      <td>0</td>\n      <td>56:41-56</td>\n      <td>1</td>\n    </tr>\n    <tr>\n      <th>...</th>\n      <td>...</td>\n      <td>...</td>\n      <td>...</td>\n      <td>...</td>\n    </tr>\n    <tr>\n      <th>155</th>\n      <td>428</td>\n      <td>0</td>\n      <td>47:20-24</td>\n      <td>1</td>\n    </tr>\n    <tr>\n      <th>156</th>\n      <td>322</td>\n      <td>0</td>\n      <td>-1</td>\n      <td>1</td>\n    </tr>\n    <tr>\n      <th>157</th>\n      <td>260</td>\n      <td>0</td>\n      <td>-1</td>\n      <td>1</td>\n    </tr>\n    <tr>\n      <th>158</th>\n      <td>384</td>\n      <td>0</td>\n      <td>-1</td>\n      <td>1</td>\n    </tr>\n    <tr>\n      <th>159</th>\n      <td>336</td>\n      <td>0</td>\n      <td>-1</td>\n      <td>1</td>\n    </tr>\n  </tbody>\n</table>\n<p>160 rows × 4 columns</p>\n</div>"
     },
     "execution_count": 15,
     "metadata": {},
     "output_type": "execute_result"
    }
   ],
   "execution_count": 15
  },
  {
   "cell_type": "markdown",
   "source": [
    "## Sentence Embedding\n"
   ],
   "metadata": {
    "collapsed": false
   }
  },
  {
   "cell_type": "code",
   "execution_count": null,
   "outputs": [],
   "source": [
    "#### Just some code to print debug information to stdout\n",
    "logging.basicConfig(format='%(asctime)s - %(message)s',\n",
    "                    datefmt='%Y-%m-%d %H:%M:%S',\n",
    "                    level=logging.INFO,\n",
    "                    handlers=[LoggingHandler()])\n",
    "#### /print debug information to stdout"
   ],
   "metadata": {
    "collapsed": false
   }
  },
  {
   "cell_type": "markdown",
   "source": [
    "### Retrieval"
   ],
   "metadata": {
    "collapsed": false,
    "ExecuteTime": {
     "end_time": "2023-08-11T05:37:46.826773500Z",
     "start_time": "2023-08-11T05:37:46.811255200Z"
    }
   },
   "outputs": [],
   "execution_count": 17
  },
  {
   "cell_type": "code",
   "execution_count": null,
   "outputs": [],
   "source": [
    "def save_query_passage_retrieval(result, tag, run_save=False, df_query= df_query_train):\n",
    "    if tag == \"BM25\":\n",
    "        result[\"Q0\"] = [\"Q0\"] * len(result)\n",
    "        result[\"tag\"] = [tag] * len(result)\n",
    "        result['qid'] = result[\"qid\"]\n",
    "        result['pid'] = result[\"docno\"]\n",
    "        tag = \"BM25_Final\"\n",
    "        result = result[[\"qid\", \"Q0\", \"pid\", \"rank\", \"score\", \"tag\"]]\n",
    "\n",
    "    elif tag == \"SimCSE_biencoder\" or tag == \"SimCSE_bm25_biencoder\":\n",
    "        np_result = np.array(result).flatten()\n",
    "        print(len(np_result))\n",
    "        result = pd.DataFrame()\n",
    "\n",
    "        result[\"qid\"] = df_query[\"qid\"].tolist() * top_k\n",
    "        result = result.sort_values(by=['qid']).reset_index(drop=True)\n",
    "        result[\"Q0\"] = [\"Q0\"] * len(np_result)\n",
    "        result[\"pid\"] = [df_passage.iloc[x['corpus_id']]['pid'] for x in np_result]\n",
    "        result[\"rank\"] = list(range(1, top_k+1)) * len(df_query)\n",
    "        result[\"score\"] = [x['score'] for x in np_result]\n",
    "        result[\"tag\"] = [tag] * len(np_result)\n",
    "\n",
    "    elif tag == \"SimCSE_cross\":\n",
    "        result['tag'] = tag\n",
    "        result['Q0'] = 'Q0'\n",
    "        result = result[[\"qid\", \"Q0\", \"pid\", \"rank\", \"score\", \"tag\"]]\n",
    "\n",
    "    if run_save:\n",
    "        run_save_path = os.path.join(data_path, f\"runs/{tag}.tsv\")\n",
    "        result.to_csv(run_save_path, sep=\"\\t\", index=False, header=False)\n",
    "\n",
    "    return result"
   ],
   "metadata": {
    "collapsed": false
   }
  },
  {
   "cell_type": "code",
   "execution_count": null,
   "outputs": [],
   "source": [
    "#TODO : test with different models\n",
    "# https://www.sbert.net/docs/pretrained_models.html\n",
    "\n",
    "# bi_model_name = \"sentence-transformers/distiluse-base-multilingual-cased-v1\" ## train : 0.48, dev : 0.12\n",
    "# bi_model_name = \"sentence-transformers/paraphrase-multilingual-MiniLM-L12-v2\"\n",
    "bi_model_name = \"sentence-transformers/paraphrase-multilingual-mpnet-base-v2\"\n",
    "# bi_model_name = \"sentence-transformers/paraphrase-xlm-r-multilingual-v1\"\n",
    "\n",
    "# Best model for asymetric similarity\n",
    "#https://www.sbert.net/docs/pretrained-models/msmarco-v3.html\n",
    "# bi_model_name = \"sentence-transformers/msmarco-distilbert-base-v4\"\n",
    "\n",
    "#bi_model_name = \"aubmindlab/bert-base-arabert\"\n",
    "\n",
    "# bi_model_name = \"aubmindlab/bert-large-arabertv02\" # run 0 :\n",
    "# bi_model_name = \"wissamantoun/araelectra-base-artydiqa\" # run 1 : train:0.51 but dev near 0\n",
    "#bi_model_name = \"salti/AraElectra-base-finetuned-ARCD\" # run 2 : pAP@10 = 0.397\n",
    "# bi_model_name = \"ZeyadAhmed/AraElectra-Arabic-SQuADv2-QA\" # run 3 : pAP@10 = 0.435\n",
    "#bi_model_name = \"timpal0l/mdeberta-v3-base-squad2\" # run 4 : pAP@10 = 0.367\n",
    "\n",
    "\n",
    "# i guess this is not a good model for this task\n",
    "#bi_model_name = \"gfdgdfgdg/arap_qa_bert\" # run 5 : pAP@10 = 0.184\n",
    "#bi_model_name = \"gfdgdfgdg/arap_qa_bert_large_v2\" # run6 : pAP@10 = 0.372\n",
    "#bi_model_name = \"gfdgdfgdg/arap_qa_bert_v2\" # run7 : pAP@10 = 0.344\n",
    "#bi_model_name = \"zohaib99k/Bert_Arabic-SQuADv2-QA\" # run8 : pAP@10 = 0.435\n",
    "#bi_model_name = \"arabi-elidrisi/ArabicDistilBERT_QA\" #run 9 : pAP@10 = 0.343\n",
    "#bi_model_name = \"MMars/Question_Answering_AraBERT_xtreme_ar\" #run 10 : pAP@10 = 0.337\n",
    "# bi_model_name = \"abdalrahmanshahrour/ArabicQA\" # run 11 : pAP@10 = 0.304\n",
    "# bi_model_name = \"abdalrahmanshahrour/xtremeQA-ar\" # run 12 : pAP@10 = 0.120\n",
    "\n",
    "model_save_path = os.path.join(data_path, f'model/training_simcse-{bi_model_name}-'+datetime.now().strftime(\"%Y-%m-%d_%H-%M-%S\"))"
   ],
   "metadata": {
    "collapsed": false
   }
  },
  {
   "cell_type": "code",
   "execution_count": null,
   "outputs": [],
   "source": [
    "# Use Huggingface/transformers model (like BERT, RoBERTa, XLNet, XLM-R) for mapping tokens to embeddings\n",
    "#TODO : change max_seq_length to 384 or 512\n",
    "word_embedding_model = models.Transformer(bi_model_name, max_seq_length=512)\n",
    "print(\"word_embedding_model Max Sequence Length:\", word_embedding_model.max_seq_length)\n",
    "print(\"word_embedding_model dimension\", word_embedding_model.get_word_embedding_dimension())\n",
    "\n",
    "# Apply mean pooling to get one fixed sized sentence vector\n",
    "pooling_model = models.Pooling(word_embedding_model.get_word_embedding_dimension())\n",
    "print(\"pooling_model sentence embedding dimension\", pooling_model.get_sentence_embedding_dimension())\n",
    "\n",
    "#TODO : change out_features to 512\n",
    "dense_model = models.Dense(in_features=pooling_model.get_sentence_embedding_dimension(), out_features=256, activation_function=nn.Tanh())\n",
    "\n",
    "# bi_encoder = SentenceTransformer(modules=[word_embedding_model, pooling_model])\n",
    "bi_encoder = SentenceTransformer(modules=[word_embedding_model, pooling_model, dense_model])"
   ],
   "metadata": {
    "collapsed": false
   }
  },
  {
   "cell_type": "code",
   "execution_count": null,
   "outputs": [],
   "source": [
    "#TODO : Data augmentation\n",
    "# https://github.com/UKPLab/sentence-transformers/blob/master/examples/training/data_augmentation/train_sts_indomain_nlpaug.py\n",
    "# data augmentation\n",
    "# from nlpaug.util.file.download import DownloadUtil\n",
    "# DownloadUtil.download_word2vec(dest_dir='.') # Download word2vec model\n",
    "# import nlpaug.augmenter.word as naw\n",
    "# aug = naw.WordEmbsAug(model_type='word2vec', model_path='GoogleNews-vectors-negative300.bin', action=\"substitute\")\n",
    "# augmented_text = aug.augment(text)\n"
   ],
   "metadata": {
    "collapsed": false
   }
  },
  {
   "cell_type": "code",
   "execution_count": null,
   "outputs": [],
   "source": [
    "train_samples_passage = []\n",
    "for _, row in df_passage.iterrows():\n",
    "    train_samples_passage.append(InputExample(texts=[row['passage'], row['passage']]))\n",
    "\n",
    "len(train_samples_passage)"
   ],
   "metadata": {
    "collapsed": false
   }
  },
  {
   "cell_type": "code",
   "execution_count": null,
   "outputs": [],
   "source": [
    "train_samples_qp = []\n",
    "for _, row in df_qppair_train.iterrows():\n",
    "    query_id = row['qid']\n",
    "\n",
    "    query = df_query_train[df_query_train['qid'] == query_id]['query'].tolist()[0]\n",
    "    passage_id = row['docid']\n",
    "    if passage_id == '-1':\n",
    "        continue\n",
    "    else:\n",
    "        passage = df_passage[df_passage['pid'] == passage_id]['passage'].tolist()[0]\n",
    "        label = row['relevance']\n",
    "        #positive sample\n",
    "        train_samples_qp.append(InputExample(texts=[query, passage], label=label))\n",
    "        train_samples_qp.append(InputExample(texts=[passage, query], label=label))\n",
    "print(len(train_samples_qp))"
   ],
   "metadata": {
    "collapsed": false
   }
  },
  {
   "cell_type": "code",
   "execution_count": null,
   "outputs": [],
   "source": [
    "train_samples_qp_contrastive = []\n",
    "top_k = 75\n",
    "BM25_model = pt.BatchRetrieve(index, controls = {\"wmodel\": \"BM25\"}, num_results=75)\n",
    "print(top_k)\n",
    "for _, row in df_qppair_train.groupby('qid'):\n",
    "    # print(row)\n",
    "    query_id = row['qid'].tolist()[0]\n",
    "    query = df_query_train[df_query_train['qid'] == query_id]['query'].tolist()[0]\n",
    "    bm25_related_passage = BM25_model.search(query)['docno'].tolist()\n",
    "    positive_passage = row['docid'].tolist()\n",
    "    negative_passage = list(set(bm25_related_passage) - set(positive_passage))\n",
    "    # print(bm25_related_passage)\n",
    "    # print(possitive_passage)\n",
    "    # print(negative_passage)\n",
    "\n",
    "    for pos_passage in positive_passage:\n",
    "        if pos_passage == '-1':\n",
    "            continue\n",
    "        else:\n",
    "            passage = df_passage[df_passage['pid'] == pos_passage]['passage'].tolist()[0]\n",
    "            label = 1\n",
    "            #positive sample\n",
    "            train_samples_qp_contrastive.append(InputExample(texts=[query, passage], label=label))\n",
    "            train_samples_qp_contrastive.append(InputExample(texts=[passage, query], label=label))\n",
    "\n",
    "    for neg_passage in negative_passage:\n",
    "        if neg_passage == '-1':\n",
    "            continue\n",
    "        else:\n",
    "            passage = df_passage[df_passage['pid'] == neg_passage]['passage'].tolist()[0]\n",
    "            label = 0\n",
    "            #positive sample\n",
    "            train_samples_qp_contrastive.append(InputExample(texts=[query, passage], label=label))\n",
    "            train_samples_qp_contrastive.append(InputExample(texts=[passage, query], label=label))\n",
    "\n",
    "len(train_samples_qp_contrastive)"
   ],
   "metadata": {
    "collapsed": false
   }
  },
  {
   "cell_type": "code",
   "execution_count": null,
   "outputs": [],
   "source": [
    "train_samples_qp_multiple_negative_ranking = []\n",
    "for _, row in df_qppair_train.groupby('qid'):\n",
    "    # print(row)\n",
    "    query_id = row['qid'].tolist()[0]\n",
    "    query = df_query_train[df_query_train['qid'] == query_id]['query'].tolist()[0]\n",
    "    positive_passage = row['docid'].tolist()\n",
    "    for pos_passage in positive_passage:\n",
    "        if pos_passage == '-1':\n",
    "            continue\n",
    "        else:\n",
    "            passage = df_passage[df_passage['pid'] == pos_passage]['passage'].tolist()[0]\n",
    "            label = 1\n",
    "            #positive sample\n",
    "            train_samples_qp_multiple_negative_ranking.append(InputExample(texts=[query, passage], label=label))\n",
    "            train_samples_qp_multiple_negative_ranking.append(InputExample(texts=[passage, query], label=label))\n",
    "\n",
    "print(len(train_samples_qp_multiple_negative_ranking))"
   ],
   "metadata": {
    "collapsed": false
   }
  },
  {
   "cell_type": "code",
   "execution_count": 36,
   "outputs": [
    {
     "name": "stdout",
     "output_type": "stream",
     "text": [
      "10\n",
      "14047\n"
     ]
    }
   ],
   "source": [
    "train_samples_qp_triple = []\n",
    "print(top_k)\n",
    "BM25_model = pt.BatchRetrieve(index, controls = {\"wmodel\": \"BM25\"}, num_results=20)\n",
    "for _, row in df_qppair_train.groupby('qid'):\n",
    "    # print(row)\n",
    "    query_id = row['qid'].tolist()[0]\n",
    "    query = df_query_train[df_query_train['qid'] == query_id]['query'].tolist()[0]\n",
    "    bm25_related_passage = BM25_model.search(query)['docno'].tolist()\n",
    "    possitive_passage = row['docid'].tolist()\n",
    "    negative_passage = list(set(bm25_related_passage) - set(possitive_passage))\n",
    "    # print(bm25_related_passage)\n",
    "    # print(possitive_passage)\n",
    "    # print(negative_passage)\n",
    "\n",
    "    for pos_passage_id in possitive_passage:\n",
    "        for neg_passage_id in negative_passage:\n",
    "            if pos_passage_id == '-1':\n",
    "                continue\n",
    "            else:\n",
    "                pos_passage = df_passage[df_passage['pid'] == pos_passage_id]['passage'].tolist()[0]\n",
    "                neg_passage = df_passage[df_passage['pid'] == neg_passage_id]['passage'].tolist()[0]\n",
    "                train_samples_qp_triple.append(InputExample(texts=[query, pos_passage, neg_passage]))\n",
    "\n",
    "print(len(train_samples_qp_triple))"
   ],
   "metadata": {
    "collapsed": false,
    "ExecuteTime": {
     "end_time": "2023-08-13T17:20:53.561804400Z",
     "start_time": "2023-08-13T17:20:48.179300600Z"
    }
   }
  },
  {
   "cell_type": "markdown",
   "source": [
    "#### Train Bi-Encoder"
   ],
   "metadata": {
    "collapsed": false,
    "ExecuteTime": {
     "end_time": "2023-08-11T05:41:25.811358200Z",
     "start_time": "2023-08-11T05:40:51.432672100Z"
    }
   },
   "outputs": [],
   "execution_count": null
  },
  {
   "cell_type": "code",
   "execution_count": 41,
   "outputs": [],
   "source": [
    "num_epochs = 3\n",
    "train_batch_size = 64\n",
    "\n",
    "# train_passage_dataloader = DataLoader(train_samples_passage, shuffle=True, batch_size=train_batch_size)\n",
    "# train_qp_dataloader = DataLoader(train_samples_qp, shuffle=True, batch_size=train_batch_size)\n",
    "train_qp_contrastive_dataloader = DataLoader(train_samples_qp_contrastive, shuffle=True, batch_size=train_batch_size)\n",
    "# train_qp_triple_dataloader = DataLoader(train_samples_qp_triple, shuffle=True, batch_size=train_batch_size)\n",
    "train_qp_multiple_negative_ranking_dataloader = DataLoader(train_samples_qp_multiple_negative_ranking, shuffle=True, batch_size=train_batch_size)\n",
    "\n",
    "train_biencoder_loss_MultipleNegativesRanking = losses.MultipleNegativesRankingLoss(bi_encoder)\n",
    "train_biencoder_loss_Contrastive = losses.ContrastiveLoss(bi_encoder)\n",
    "# train_biencoder_loss = losses.OnlineContrastiveLoss(bi_encoder)\n",
    "# train_biencoder_loss_triple = losses.TripletLoss(model=bi_encoder)\n",
    "# train_biencoder_loss_CosineSimilarity = losses.CosineSimilarityLoss(bi_encoder)"
   ],
   "metadata": {
    "collapsed": false,
    "ExecuteTime": {
     "end_time": "2023-08-13T17:27:49.923846400Z",
     "start_time": "2023-08-13T17:27:49.911118700Z"
    }
   }
  },
  {
   "cell_type": "code",
   "execution_count": 42,
   "outputs": [
    {
     "data": {
      "text/plain": "'\\nmodel_save_path = ../data\\\\model/training_simcse-sentence-transformers/distiluse-base-multilingual-cased-v1-2023-08-12_07-37-04\\ntrain  : 0.78 but worse on test\\n'"
     },
     "execution_count": 42,
     "metadata": {},
     "output_type": "execute_result"
    }
   ],
   "source": [
    "'''\n",
    "model_save_path = ../data\\\\model/training_simcse-sentence-transformers/distiluse-base-multilingual-cased-v1-2023-08-12_07-37-04\n",
    "train  : 0.78 but worse on test\n",
    "'''\n"
   ],
   "metadata": {
    "collapsed": false,
    "ExecuteTime": {
     "end_time": "2023-08-13T17:27:50.290314800Z",
     "start_time": "2023-08-13T17:27:50.266271900Z"
    }
   }
  },
  {
   "cell_type": "code",
   "execution_count": null,
   "outputs": [
    {
     "name": "stdout",
     "output_type": "stream",
     "text": [
      "2023-08-13 10:27:50 - Warmup-steps: 19\n"
     ]
    },
    {
     "data": {
      "text/plain": "Epoch:   0%|          | 0/3 [00:00<?, ?it/s]",
      "application/vnd.jupyter.widget-view+json": {
       "version_major": 2,
       "version_minor": 0,
       "model_id": "a218da50065443dea9f00520c9a23f3b"
      }
     },
     "metadata": {},
     "output_type": "display_data"
    },
    {
     "data": {
      "text/plain": "Iteration:   0%|          | 0/30 [00:00<?, ?it/s]",
      "application/vnd.jupyter.widget-view+json": {
       "version_major": 2,
       "version_minor": 0,
       "model_id": "d3fa61d0bf9c48e99dfd13642f9f5e59"
      }
     },
     "metadata": {},
     "output_type": "display_data"
    },
    {
     "name": "stdout",
     "output_type": "stream",
     "text": [
      "2023-08-13 10:35:49 - Information Retrieval Evaluation on  dataset after epoch 0:\n",
      "2023-08-13 10:35:50 - Queries: 25\n",
      "2023-08-13 10:35:50 - Corpus: 1266\n",
      "\n",
      "2023-08-13 10:35:50 - Score-Function: cos_sim\n",
      "2023-08-13 10:35:50 - Accuracy@10: 20.00%\n",
      "2023-08-13 10:35:50 - Precision@10: 2.80%\n",
      "2023-08-13 10:35:50 - Recall@10: 8.45%\n",
      "2023-08-13 10:35:50 - MRR@10: 0.0890\n",
      "2023-08-13 10:35:50 - NDCG@10: 0.0572\n",
      "2023-08-13 10:35:50 - MAP@10: 0.0322\n",
      "2023-08-13 10:35:50 - Score-Function: dot_score\n",
      "2023-08-13 10:35:50 - Accuracy@10: 12.00%\n",
      "2023-08-13 10:35:50 - Precision@10: 2.00%\n",
      "2023-08-13 10:35:50 - Recall@10: 4.48%\n",
      "2023-08-13 10:35:50 - MRR@10: 0.0467\n",
      "2023-08-13 10:35:50 - NDCG@10: 0.0359\n",
      "2023-08-13 10:35:50 - MAP@10: 0.0219\n",
      "2023-08-13 10:35:50 - Save model to ../data\\model/training_simcse-sentence-transformers/paraphrase-multilingual-mpnet-base-v2-2023-08-13_10-06-48\n"
     ]
    },
    {
     "data": {
      "text/plain": "Iteration:   0%|          | 0/30 [00:00<?, ?it/s]",
      "application/vnd.jupyter.widget-view+json": {
       "version_major": 2,
       "version_minor": 0,
       "model_id": "b86fa19f654f482887269309600cc7b9"
      }
     },
     "metadata": {},
     "output_type": "display_data"
    },
    {
     "name": "stdout",
     "output_type": "stream",
     "text": [
      "2023-08-13 10:43:12 - Information Retrieval Evaluation on  dataset after epoch 1:\n",
      "2023-08-13 10:43:13 - Queries: 25\n",
      "2023-08-13 10:43:13 - Corpus: 1266\n",
      "\n",
      "2023-08-13 10:43:13 - Score-Function: cos_sim\n",
      "2023-08-13 10:43:13 - Accuracy@10: 28.00%\n",
      "2023-08-13 10:43:13 - Precision@10: 3.60%\n",
      "2023-08-13 10:43:13 - Recall@10: 13.02%\n",
      "2023-08-13 10:43:13 - MRR@10: 0.1044\n",
      "2023-08-13 10:43:13 - NDCG@10: 0.0784\n",
      "2023-08-13 10:43:13 - MAP@10: 0.0436\n",
      "2023-08-13 10:43:13 - Score-Function: dot_score\n",
      "2023-08-13 10:43:13 - Accuracy@10: 12.00%\n",
      "2023-08-13 10:43:13 - Precision@10: 2.00%\n",
      "2023-08-13 10:43:13 - Recall@10: 4.48%\n",
      "2023-08-13 10:43:13 - MRR@10: 0.0480\n",
      "2023-08-13 10:43:13 - NDCG@10: 0.0372\n",
      "2023-08-13 10:43:13 - MAP@10: 0.0238\n",
      "2023-08-13 10:43:13 - Save model to ../data\\model/training_simcse-sentence-transformers/paraphrase-multilingual-mpnet-base-v2-2023-08-13_10-06-48\n"
     ]
    },
    {
     "data": {
      "text/plain": "Iteration:   0%|          | 0/30 [00:00<?, ?it/s]",
      "application/vnd.jupyter.widget-view+json": {
       "version_major": 2,
       "version_minor": 0,
       "model_id": "693b609d7d574d6ba1638f126f62c098"
      }
     },
     "metadata": {},
     "output_type": "display_data"
    }
   ],
   "source": [
    "#  asymmetric semantic search\n",
    "warmup_steps = math.ceil(len(train_qp_contrastive_dataloader) * num_epochs * 0.02) #10% of train data for warm-up\n",
    "logging.info(\"Warmup-steps: {}\".format(warmup_steps))\n",
    "\n",
    "# logging.info(\"Performance before training\")\n",
    "# dev_evaluator(model)\n",
    "#RerankingEvaluator\n",
    "#InformationRetrievalEvaluator\n",
    "\n",
    "# https://github.com/UKPLab/sentence-transformers/blob/master/examples/training/quora_duplicate_questions/training_OnlineContrastiveLoss.py\n",
    "\n",
    "dev_evaluator = evaluation.InformationRetrievalEvaluator(\n",
    "                                df_query_dev.groupby('qid')['query'].apply(str).to_dict(),\n",
    "                                df_passage.groupby('pid')['passage'].apply(str).to_dict(),\n",
    "                                df_qppair_dev.groupby('qid')['docid'].apply(set).to_dict(),\n",
    "                                accuracy_at_k = [10],\n",
    "                                precision_recall_at_k  = [10],\n",
    "                                map_at_k = [10], mrr_at_k=[10]\n",
    "                                #, score_functions='cos_sim'\n",
    "                                )\n",
    "\n",
    "#multi-task training\n",
    "bi_encoder.fit(\n",
    "          train_objectives=[\n",
    "                        # (train_passage_dataloader, train_biencoder_loss_MultipleNegativesRanking), #SimCSE\n",
    "                        (train_qp_contrastive_dataloader, train_biencoder_loss_Contrastive),\n",
    "                        (train_qp_multiple_negative_ranking_dataloader, train_biencoder_loss_MultipleNegativesRanking),\n",
    "                        # (train_qp_triple_dataloader, train_biencoder_loss_triple)\n",
    "                        # (train_qp_contrastive_dataloader, train_biencoder_loss_CosineSimilarity)\n",
    "                        # (train_qp_triple_dataloader, train_biencoder_loss)\n",
    "              ],\n",
    "              evaluator=dev_evaluator,\n",
    "              epochs=num_epochs,\n",
    "              evaluation_steps=301,\n",
    "              warmup_steps=warmup_steps,\n",
    "              output_path=model_save_path\n",
    "              )"
   ],
   "metadata": {
    "collapsed": false,
    "is_executing": true,
    "ExecuteTime": {
     "start_time": "2023-08-13T17:27:50.811442900Z"
    }
   }
  },
  {
   "cell_type": "code",
   "execution_count": null,
   "outputs": [],
   "source": [
    "passage_embeddings = bi_encoder.encode(df_passage['passage'].tolist(), convert_to_tensor=True, show_progress_bar=True)\n",
    "query_train_embeddings = bi_encoder.encode(df_query_train['query'].tolist(), convert_to_tensor=True, show_progress_bar=True)\n",
    "query_dev_embeddings = bi_encoder.encode(df_query_dev['query'].tolist(), convert_to_tensor=True, show_progress_bar=True)\n",
    "\n",
    "df_passage['embedding'] = passage_embeddings.cpu().numpy().tolist()\n",
    "df_query_train['embedding'] = query_train_embeddings.cpu().numpy().tolist()\n",
    "df_query_dev['embedding'] = query_dev_embeddings.cpu().numpy().tolist()"
   ],
   "metadata": {
    "collapsed": false,
    "is_executing": true
   }
  },
  {
   "cell_type": "markdown",
   "source": [
    "#### Semantic Search"
   ],
   "metadata": {
    "collapsed": false,
    "ExecuteTime": {
     "end_time": "2023-08-11T05:46:25.782885900Z",
     "start_time": "2023-08-11T05:44:41.894786800Z"
    }
   },
   "outputs": [
    {
     "name": "stdout",
     "output_type": "stream",
     "text": [
      "2023-08-10 22:44:41 - Warmup-steps: 45\n"
     ]
    },
    {
     "data": {
      "text/plain": "Epoch:   0%|          | 0/1 [00:00<?, ?it/s]",
      "application/vnd.jupyter.widget-view+json": {
       "version_major": 2,
       "version_minor": 0,
       "model_id": "bcc6162ce81a487ab3117f9ea8f9561c"
      }
     },
     "metadata": {},
     "output_type": "display_data"
    },
    {
     "data": {
      "text/plain": "Iteration:   0%|          | 0/450 [00:00<?, ?it/s]",
      "application/vnd.jupyter.widget-view+json": {
       "version_major": 2,
       "version_minor": 0,
       "model_id": "a806fa4399334ed995b40f378b05711f"
      }
     },
     "metadata": {},
     "output_type": "display_data"
    },
    {
     "ename": "KeyboardInterrupt",
     "evalue": "",
     "output_type": "error",
     "traceback": [
      "\u001B[1;31m---------------------------------------------------------------------------\u001B[0m",
      "\u001B[1;31mKeyboardInterrupt\u001B[0m                         Traceback (most recent call last)",
      "Cell \u001B[1;32mIn[30], line 7\u001B[0m\n\u001B[0;32m      2\u001B[0m logging\u001B[38;5;241m.\u001B[39minfo(\u001B[38;5;124m\"\u001B[39m\u001B[38;5;124mWarmup-steps: \u001B[39m\u001B[38;5;132;01m{}\u001B[39;00m\u001B[38;5;124m\"\u001B[39m\u001B[38;5;241m.\u001B[39mformat(warmup_steps))\n\u001B[0;32m      4\u001B[0m \u001B[38;5;66;03m# logging.info(\"Performance before training\")\u001B[39;00m\n\u001B[0;32m      5\u001B[0m \u001B[38;5;66;03m# dev_evaluator(model)\u001B[39;00m\n\u001B[1;32m----> 7\u001B[0m \u001B[43mbi_encoder\u001B[49m\u001B[38;5;241;43m.\u001B[39;49m\u001B[43mfit\u001B[49m\u001B[43m(\u001B[49m\u001B[43mtrain_objectives\u001B[49m\u001B[38;5;241;43m=\u001B[39;49m\u001B[43m[\u001B[49m\u001B[43m(\u001B[49m\u001B[43mtrain_biencoder_dataloader\u001B[49m\u001B[43m,\u001B[49m\u001B[43m \u001B[49m\u001B[43mtrain_biencoder_loss\u001B[49m\u001B[43m)\u001B[49m\u001B[43m]\u001B[49m\u001B[43m,\u001B[49m\n\u001B[0;32m      8\u001B[0m \u001B[43m          \u001B[49m\u001B[38;5;66;43;03m# evaluator=dev_evaluator,\u001B[39;49;00m\n\u001B[0;32m      9\u001B[0m \u001B[43m          \u001B[49m\u001B[43mepochs\u001B[49m\u001B[38;5;241;43m=\u001B[39;49m\u001B[43mnum_epochs\u001B[49m\u001B[43m,\u001B[49m\n\u001B[0;32m     10\u001B[0m \u001B[43m          \u001B[49m\u001B[43mevaluation_steps\u001B[49m\u001B[38;5;241;43m=\u001B[39;49m\u001B[38;5;241;43m100\u001B[39;49m\u001B[43m,\u001B[49m\n\u001B[0;32m     11\u001B[0m \u001B[43m          \u001B[49m\u001B[43mwarmup_steps\u001B[49m\u001B[38;5;241;43m=\u001B[39;49m\u001B[43mwarmup_steps\u001B[49m\u001B[43m,\u001B[49m\n\u001B[0;32m     12\u001B[0m \u001B[43m          \u001B[49m\u001B[38;5;66;43;03m# output_path=model_save_path\u001B[39;49;00m\n\u001B[0;32m     13\u001B[0m \u001B[43m          \u001B[49m\u001B[43m)\u001B[49m\n",
      "File \u001B[1;32mC:\\Users\\gargo\\AppData\\Local\\Programs\\Python\\Python310\\lib\\site-packages\\sentence_transformers\\SentenceTransformer.py:722\u001B[0m, in \u001B[0;36mSentenceTransformer.fit\u001B[1;34m(self, train_objectives, evaluator, epochs, steps_per_epoch, scheduler, warmup_steps, optimizer_class, optimizer_params, weight_decay, evaluation_steps, output_path, save_best_model, max_grad_norm, use_amp, callback, show_progress_bar, checkpoint_path, checkpoint_save_steps, checkpoint_save_total_limit)\u001B[0m\n\u001B[0;32m    720\u001B[0m \u001B[38;5;28;01melse\u001B[39;00m:\n\u001B[0;32m    721\u001B[0m     loss_value \u001B[38;5;241m=\u001B[39m loss_model(features, labels)\n\u001B[1;32m--> 722\u001B[0m     \u001B[43mloss_value\u001B[49m\u001B[38;5;241;43m.\u001B[39;49m\u001B[43mbackward\u001B[49m\u001B[43m(\u001B[49m\u001B[43m)\u001B[49m\n\u001B[0;32m    723\u001B[0m     torch\u001B[38;5;241m.\u001B[39mnn\u001B[38;5;241m.\u001B[39mutils\u001B[38;5;241m.\u001B[39mclip_grad_norm_(loss_model\u001B[38;5;241m.\u001B[39mparameters(), max_grad_norm)\n\u001B[0;32m    724\u001B[0m     optimizer\u001B[38;5;241m.\u001B[39mstep()\n",
      "File \u001B[1;32mC:\\Users\\gargo\\AppData\\Local\\Programs\\Python\\Python310\\lib\\site-packages\\torch\\_tensor.py:487\u001B[0m, in \u001B[0;36mTensor.backward\u001B[1;34m(self, gradient, retain_graph, create_graph, inputs)\u001B[0m\n\u001B[0;32m    477\u001B[0m \u001B[38;5;28;01mif\u001B[39;00m has_torch_function_unary(\u001B[38;5;28mself\u001B[39m):\n\u001B[0;32m    478\u001B[0m     \u001B[38;5;28;01mreturn\u001B[39;00m handle_torch_function(\n\u001B[0;32m    479\u001B[0m         Tensor\u001B[38;5;241m.\u001B[39mbackward,\n\u001B[0;32m    480\u001B[0m         (\u001B[38;5;28mself\u001B[39m,),\n\u001B[1;32m   (...)\u001B[0m\n\u001B[0;32m    485\u001B[0m         inputs\u001B[38;5;241m=\u001B[39minputs,\n\u001B[0;32m    486\u001B[0m     )\n\u001B[1;32m--> 487\u001B[0m \u001B[43mtorch\u001B[49m\u001B[38;5;241;43m.\u001B[39;49m\u001B[43mautograd\u001B[49m\u001B[38;5;241;43m.\u001B[39;49m\u001B[43mbackward\u001B[49m\u001B[43m(\u001B[49m\n\u001B[0;32m    488\u001B[0m \u001B[43m    \u001B[49m\u001B[38;5;28;43mself\u001B[39;49m\u001B[43m,\u001B[49m\u001B[43m \u001B[49m\u001B[43mgradient\u001B[49m\u001B[43m,\u001B[49m\u001B[43m \u001B[49m\u001B[43mretain_graph\u001B[49m\u001B[43m,\u001B[49m\u001B[43m \u001B[49m\u001B[43mcreate_graph\u001B[49m\u001B[43m,\u001B[49m\u001B[43m \u001B[49m\u001B[43minputs\u001B[49m\u001B[38;5;241;43m=\u001B[39;49m\u001B[43minputs\u001B[49m\n\u001B[0;32m    489\u001B[0m \u001B[43m\u001B[49m\u001B[43m)\u001B[49m\n",
      "File \u001B[1;32mC:\\Users\\gargo\\AppData\\Local\\Programs\\Python\\Python310\\lib\\site-packages\\torch\\autograd\\__init__.py:200\u001B[0m, in \u001B[0;36mbackward\u001B[1;34m(tensors, grad_tensors, retain_graph, create_graph, grad_variables, inputs)\u001B[0m\n\u001B[0;32m    195\u001B[0m     retain_graph \u001B[38;5;241m=\u001B[39m create_graph\n\u001B[0;32m    197\u001B[0m \u001B[38;5;66;03m# The reason we repeat same the comment below is that\u001B[39;00m\n\u001B[0;32m    198\u001B[0m \u001B[38;5;66;03m# some Python versions print out the first line of a multi-line function\u001B[39;00m\n\u001B[0;32m    199\u001B[0m \u001B[38;5;66;03m# calls in the traceback and some print out the last line\u001B[39;00m\n\u001B[1;32m--> 200\u001B[0m \u001B[43mVariable\u001B[49m\u001B[38;5;241;43m.\u001B[39;49m\u001B[43m_execution_engine\u001B[49m\u001B[38;5;241;43m.\u001B[39;49m\u001B[43mrun_backward\u001B[49m\u001B[43m(\u001B[49m\u001B[43m  \u001B[49m\u001B[38;5;66;43;03m# Calls into the C++ engine to run the backward pass\u001B[39;49;00m\n\u001B[0;32m    201\u001B[0m \u001B[43m    \u001B[49m\u001B[43mtensors\u001B[49m\u001B[43m,\u001B[49m\u001B[43m \u001B[49m\u001B[43mgrad_tensors_\u001B[49m\u001B[43m,\u001B[49m\u001B[43m \u001B[49m\u001B[43mretain_graph\u001B[49m\u001B[43m,\u001B[49m\u001B[43m \u001B[49m\u001B[43mcreate_graph\u001B[49m\u001B[43m,\u001B[49m\u001B[43m \u001B[49m\u001B[43minputs\u001B[49m\u001B[43m,\u001B[49m\n\u001B[0;32m    202\u001B[0m \u001B[43m    \u001B[49m\u001B[43mallow_unreachable\u001B[49m\u001B[38;5;241;43m=\u001B[39;49m\u001B[38;5;28;43;01mTrue\u001B[39;49;00m\u001B[43m,\u001B[49m\u001B[43m \u001B[49m\u001B[43maccumulate_grad\u001B[49m\u001B[38;5;241;43m=\u001B[39;49m\u001B[38;5;28;43;01mTrue\u001B[39;49;00m\u001B[43m)\u001B[49m\n",
      "\u001B[1;31mKeyboardInterrupt\u001B[0m: "
     ]
    }
   ],
   "execution_count": 30
  },
  {
   "cell_type": "code",
   "execution_count": null,
   "outputs": [],
   "source": [
    "#bi_encoder.save(\"sentence-transformers/paraphrase-multilingual-mpnet-base-v2_dev_0.16_train_0.50_contrastive_multiple_neg_ranking_loss_MULTIASK\")"
   ],
   "metadata": {
    "collapsed": false,
    "is_executing": true
   }
  },
  {
   "cell_type": "code",
   "execution_count": null,
   "outputs": [],
   "source": [
    "tag = \"SimCSE_biencoder\"\n",
    "top_k = 10\n",
    "hits = []\n",
    "hits = util.semantic_search(query_train_embeddings, passage_embeddings, top_k=top_k)\n",
    "df_run = save_query_passage_retrieval(hits, tag, run_save=True, df_query=df_query_train)\n",
    "\n",
    "print(bi_model_name, \"all passage embeddings\")\n",
    "! python QQA23_TaskA_eval.py \\\n",
    "    -r \"../data/runs/SimCSE_biencoder.tsv\" \\\n",
    "    -q \"../data/qrels/QQA23_TaskA_qrels_train.gold\"\n",
    "\n",
    "# df_run"
   ],
   "metadata": {
    "collapsed": false,
    "is_executing": true
   }
  },
  {
   "cell_type": "code",
   "execution_count": null,
   "outputs": [],
   "source": [
    "# passage_embeddings = bi_encoder.encode(df_passage['passage'].tolist(), convert_to_tensor=True, show_progress_bar=True)\n",
    "# query_train_embeddings = bi_encoder.encode(df_query_train['query'].tolist(), convert_to_tensor=True, show_progress_bar=True)\n",
    "# query_dev_embeddings = bi_encoder.encode(df_query_dev['query'].tolist(), convert_to_tensor=True, show_progress_bar=True)\n",
    "#\n",
    "# df_passage['embedding'] = passage_embeddings.cpu().numpy().tolist()\n",
    "# df_query_train['embedding'] = query_train_embeddings.cpu().numpy().tolist()\n",
    "# df_query_dev['embedding'] = query_dev_embeddings.cpu().numpy().tolist()\n",
    "\n",
    "tag = \"SimCSE_biencoder\"\n",
    "top_k = 10\n",
    "hits = []\n",
    "hits = util.semantic_search(query_dev_embeddings, passage_embeddings, top_k=top_k)\n",
    "# hits = util.cos_sim(query_dev_embeddings, passage_embeddings)\n",
    "df_run = save_query_passage_retrieval(hits, tag, run_save=True, df_query=df_query_dev)\n",
    "\n",
    "print(bi_model_name, \"all passage embeddings\")\n",
    "! python QQA23_TaskA_eval.py \\\n",
    "    -r \"../data/runs/SimCSE_biencoder.tsv\" \\\n",
    "    -q \"../data/qrels/QQA23_TaskA_qrels_dev.gold\"\n",
    "\n",
    "df_run"
   ],
   "metadata": {
    "collapsed": false,
    "is_executing": true
   }
  },
  {
   "cell_type": "code",
   "execution_count": null,
   "outputs": [],
   "source": [
    "tag = \"SimCSE_bm25_biencoder\"\n",
    "top_k = 10\n",
    "BM25_model = pt.BatchRetrieve(index, controls = {\"wmodel\": \"BM25\"}, num_results=15)\n",
    "bm25_biencoder_hit= []\n",
    "for query in df_query_dev['query'].tolist():\n",
    "    bm25_result = BM25_model.search(query)\n",
    "    bm25_related_passage = bm25_result['docno'].tolist()\n",
    "    passage =  df_passage[df_passage['pid'].isin(bm25_related_passage)]['passage'].tolist()\n",
    "    # print(len(passage))\n",
    "    try:\n",
    "        query_embedding = bi_encoder.encode(query, convert_to_tensor=True, show_progress_bar=False)\n",
    "        passage_embeddings = bi_encoder.encode(passage, convert_to_tensor=True, show_progress_bar=False)\n",
    "        # TODO\n",
    "        '''\n",
    "        check similarity between query and passage, with methods is better for this task?\n",
    "        util.dot_score\n",
    "        util.cos_sim\n",
    "        util.pairwise_dot_score\n",
    "        util.pairwise_cos_sim\n",
    "        '''\n",
    "        hit = util.semantic_search(query_embedding, passage_embeddings, top_k=top_k)[0]\n",
    "\n",
    "        mapping = {index : row['docno'] for index, row in bm25_result.iterrows()}\n",
    "\n",
    "    except:\n",
    "        #len passage is 0 but why ?\n",
    "        print(f\"len passage : {len(passage)}, qury : {query}\")\n",
    "        query_embedding = bi_encoder.encode(query, convert_to_tensor=True, show_progress_bar=False)\n",
    "        passage = df_passage['passage'].tolist()\n",
    "        passage_embeddings = bi_encoder.encode(passage, convert_to_tensor=True, show_progress_bar=False)\n",
    "        hit = util.semantic_search(query_embedding, passage_embeddings, top_k=top_k)[0]\n",
    "        mapping = {index : row['pid'] for index, row in df_passage.iterrows()}\n",
    "\n",
    "    for i in range(len(hit)):\n",
    "        hit[i]['corpus_id'] = mapping[hit[i]['corpus_id']]\n",
    "\n",
    "    hit = sorted(hit, key=lambda x: x['score'], reverse=True)\n",
    "\n",
    "    bm25_biencoder_hit.append(hit)\n"
   ],
   "metadata": {
    "collapsed": false,
    "is_executing": true
   }
  },
  {
   "cell_type": "code",
   "execution_count": null,
   "outputs": [],
   "source": [
    "bm25_biencoder_hit_df = pd.DataFrame()\n",
    "for i in range(len(bm25_biencoder_hit)):\n",
    "    for j in range(len(bm25_biencoder_hit[i])):\n",
    "        new_record = pd.DataFrame([{\"qid\": df_query_dev['qid'].tolist()[i],\n",
    "                \"Q0\": \"Q0\",\n",
    "                \"pid\": bm25_biencoder_hit[i][j]['corpus_id'],\n",
    "                \"rank\": j,\n",
    "                \"score\": bm25_biencoder_hit[i][j]['score'],\n",
    "                \"tag\": tag\n",
    "            }])\n",
    "        bm25_biencoder_hit_df = pd.concat([bm25_biencoder_hit_df, new_record], ignore_index=True)\n",
    "bm25_biencoder_hit_df"
   ],
   "metadata": {
    "collapsed": false,
    "is_executing": true
   }
  },
  {
   "cell_type": "code",
   "execution_count": null,
   "outputs": [],
   "source": [
    "bm25_biencoder_hit_df.to_csv(\"../data/runs/BM25_BiEncoder.tsv\", sep=\"\\t\", index=False, header=False)"
   ],
   "metadata": {
    "collapsed": false,
    "is_executing": true
   }
  },
  {
   "cell_type": "code",
   "execution_count": null,
   "outputs": [],
   "source": [
    "print(\"BM25 hits with BiEncoder\")\n",
    "!python QQA23_TaskA_eval.py \\\n",
    "    -r \"../data/runs/BM25_BiEncoder.tsv\" \\\n",
    "    -q \"../data/qrels/QQA23_TaskA_qrels_dev.gold\""
   ],
   "metadata": {
    "collapsed": false,
    "is_executing": true
   }
  },
  {
   "cell_type": "markdown",
   "source": [
    "### Re-ranker (Cross-Encoder)"
   ],
   "metadata": {
    "collapsed": false,
    "ExecuteTime": {
     "end_time": "2023-08-11T05:47:42.914442500Z",
     "start_time": "2023-08-11T05:47:22.960408800Z"
    }
   },
   "outputs": [
    {
     "data": {
      "text/plain": "Batches:   0%|          | 0/40 [00:00<?, ?it/s]",
      "application/vnd.jupyter.widget-view+json": {
       "version_major": 2,
       "version_minor": 0,
       "model_id": "d69556b7ac9d45e0b85d4cd432ad3f28"
      }
     },
     "metadata": {},
     "output_type": "display_data"
    },
    {
     "data": {
      "text/plain": "Batches:   0%|          | 0/6 [00:00<?, ?it/s]",
      "application/vnd.jupyter.widget-view+json": {
       "version_major": 2,
       "version_minor": 0,
       "model_id": "a867eb20b7c946c5a9c55f405b333b95"
      }
     },
     "metadata": {},
     "output_type": "display_data"
    },
    {
     "data": {
      "text/plain": "Batches:   0%|          | 0/1 [00:00<?, ?it/s]",
      "application/vnd.jupyter.widget-view+json": {
       "version_major": 2,
       "version_minor": 0,
       "model_id": "36b3a37474e0422b9f4138639d5c3c57"
      }
     },
     "metadata": {},
     "output_type": "display_data"
    }
   ],
   "execution_count": 35
  },
  {
   "cell_type": "code",
   "execution_count": null,
   "outputs": [],
   "source": [
    "#TODO:\n",
    "'''\n",
    "https://github.com/Guzpenha/transformer_rankers\n",
    "https://colab.research.google.com/drive/1wGmaO3emC7Sg-tA7nGehIQ2vjOLN9S5e?usp=sharing#scrollTo=y9ps5zmOHxe4\n",
    "'''\n",
    "\n",
    "# cross_model_name = \"cross-encoder/ms-marco-MiniLM-L-6-v2\"\n",
    "# cross_model_name = \"cross-encoder/ms-marco-TinyBERT-L-2\"\n",
    "# cross_model_name = \"distilroberta-base\"\n",
    "# cross_model_name = \"amberoad/bert-multilingual-passage-reranking-msmarco\"\n",
    "cross_model_name = \"ZeyadAhmed/AraElectra-Arabic-SQuADv2-CLS\""
   ],
   "metadata": {
    "collapsed": false
   }
  },
  {
   "cell_type": "markdown",
   "source": [
    "#### Train Cross-Encoder"
   ],
   "metadata": {
    "collapsed": false,
    "ExecuteTime": {
     "end_time": "2023-08-11T08:03:32.288313900Z",
     "start_time": "2023-08-11T08:03:32.282907500Z"
    }
   },
   "outputs": [],
   "execution_count": 228
  },
  {
   "cell_type": "code",
   "execution_count": null,
   "outputs": [],
   "source": [
    "# Fine-tune cross-encoder on the query-passage\n",
    "torch.cuda.empty_cache()\n",
    "#https://sbert.net/docs/package_reference/cross_encoder.html\n",
    "\n",
    "cross_encoder = CrossEncoder(cross_model_name)\n",
    "# warmup_steps = math.ceil(len(train_qp_dataloader) * num_epochs * 0.1) #10% of train data for warm-up\n",
    "# logging.info(\"Warmup-steps: {}\".format(warmup_steps))\n",
    "#\n",
    "# cross_encoder.fit(train_qp_dataloader,\n",
    "#           # evaluator=dev_evaluator,\n",
    "#           epochs=num_epochs,\n",
    "#           evaluation_steps=100,\n",
    "#           warmup_steps=warmup_steps,\n",
    "#           output_path=model_save_path\n",
    "#           )"
   ],
   "metadata": {
    "collapsed": false
   }
  },
  {
   "cell_type": "code",
   "execution_count": null,
   "outputs": [],
   "source": [
    "tag = \"SimCSE_cross\"\n",
    "df_final = pd.DataFrame()\n",
    "for qid, filter_passages in df_run.groupby('qid'):\n",
    "    cross_inp = []\n",
    "    q = df_query_dev[df_query_dev['qid'] == qid]\n",
    "    for x in filter_passages.values:\n",
    "        p = df_passage[df_passage['pid'] == x[2]]\n",
    "        cross_inp.append([q['query'].tolist()[0], p['passage'].tolist()[0]])\n",
    "\n",
    "    similarity_scores = cross_encoder.predict(cross_inp, show_progress_bar=False)\n",
    "\n",
    "    # Sort the scores in decreasing order\n",
    "    sim_scores_argsort = reversed(np.argsort(similarity_scores))\n",
    "\n",
    "    print(len(similarity_scores))\n",
    "    print(len(filter_passages['pid'].values))\n",
    "    df_temp = pd.DataFrame({'qid': qid, 'pid': filter_passages['pid'].values, 'score': similarity_scores})\n",
    "    df_temp = df_temp.sort_values(by=['score'], ascending=False)[:10]\n",
    "    df_temp['rank'] = range(1, len(df_temp) + 1)\n",
    "\n",
    "    df_final = pd.concat([df_final, df_temp], ignore_index=True)\n",
    "\n",
    "df_final = save_query_passage_retrieval(df_final, tag, run_save=True)\n",
    "\n",
    "print(\"cross-encoder model name\", cross_model_name)\n",
    "! python QQA23_TaskA_eval.py \\\n",
    "    -r \"../data/runs/SimCSE_cross.tsv\" \\\n",
    "    -q \"../data/qrels/QQA23_TaskA_qrels_train.gold\"\n",
    "df_final"
   ],
   "metadata": {
    "collapsed": false
   }
  },
  {
   "cell_type": "code",
   "execution_count": null,
   "outputs": [],
   "source": [],
   "metadata": {
    "collapsed": false
   }
  },
  {
   "cell_type": "code",
   "execution_count": null,
   "outputs": [],
   "source": [
    "tag = \"BM25\"\n",
    "\n",
    "df_query = prepare_query_for_search(query_train_path)\n",
    "# df_query = prepare_query_for_search(query_dev_path)\n",
    "\n",
    "df_run = BM25_model.transform(df_query)\n",
    "df_run = save_query_passage_retrieval(df_run, tag, run_save=True)\n",
    "df_run"
   ],
   "metadata": {
    "collapsed": false
   }
  },
  {
   "cell_type": "code",
   "execution_count": null,
   "outputs": [],
   "source": [
    "sample = \"عمران\"\n",
    "BM25_model.search(sample)"
   ],
   "metadata": {
    "collapsed": false
   }
  },
  {
   "attachments": {},
   "cell_type": "markdown",
   "metadata": {},
   "source": [
    "# Evaluation"
   ]
  },
  {
   "cell_type": "code",
   "execution_count": null,
   "outputs": [],
   "source": [
    "! python QQA23_TaskA_eval.py \\\n",
    "    -r \"../data/runs/BM25_Final.tsv\" \\\n",
    "    -q \"../data/qrels/QQA23_TaskA_qrels_dev.gold\""
   ],
   "metadata": {
    "collapsed": false
   }
  },
  {
   "cell_type": "code",
   "execution_count": null,
   "metadata": {},
   "outputs": [],
   "source": [
    "! python QQA23_TaskA_eval.py \\\n",
    "    -r \"../data/runs/bigIR_BM25.tsv\" \\\n",
    "    -q \"../data/qrels/QQA23_TaskA_qrels_dev.gold\""
   ]
  },
  {
   "attachments": {},
   "cell_type": "markdown",
   "metadata": {
    "ExecuteTime": {
     "end_time": "2023-08-10T18:38:44.158487Z",
     "start_time": "2023-08-10T18:38:44.140305500Z"
    }
   },
   "source": [
    "Here, we are just evaluating the perfect run for the dev set"
   ],
   "outputs": [],
   "execution_count": 124
  },
  {
   "cell_type": "code",
   "execution_count": null,
   "metadata": {},
   "outputs": [],
   "source": [
    "! python QQA23_TaskA_eval.py \\\n",
    "    -r \"../data/runs/dev_perfect.tsv\" \\\n",
    "    -q \"../data/qrels/QQA23_TaskA_qrels_dev.gold\""
   ]
  }
 ],
 "metadata": {
  "kernelspec": {
   "display_name": "tweetEnv",
   "language": "python",
   "name": "python3"
  },
  "language_info": {
   "codemirror_mode": {
    "name": "ipython",
    "version": 3
   },
   "file_extension": ".py",
   "mimetype": "text/x-python",
   "name": "python",
   "nbconvert_exporter": "python",
   "pygments_lexer": "ipython3",
   "version": "3.8.5"
  },
  "orig_nbformat": 4
 },
 "nbformat": 4,
 "nbformat_minor": 2
}
