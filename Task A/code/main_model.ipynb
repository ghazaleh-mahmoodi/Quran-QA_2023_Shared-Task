{
 "cells": [
  {
   "cell_type": "code",
   "execution_count": 1,
   "metadata": {
    "ExecuteTime": {
     "end_time": "2023-08-17T01:21:11.499683400Z",
     "start_time": "2023-08-17T01:21:04.761684300Z"
    }
   },
   "outputs": [
    {
     "name": "stderr",
     "output_type": "stream",
     "text": [
      "[nltk_data] Downloading package punkt to\n",
      "[nltk_data]     C:\\Users\\yegmo\\AppData\\Roaming\\nltk_data...\n",
      "[nltk_data]   Package punkt is already up-to-date!\n"
     ]
    },
    {
     "data": {
      "text/plain": [
       "True"
      ]
     },
     "execution_count": 1,
     "metadata": {},
     "output_type": "execute_result"
    }
   ],
   "source": [
    "import logging\n",
    "import math\n",
    "import os\n",
    "import re\n",
    "from datetime import datetime\n",
    "\n",
    "import arabicstopwords.arabicstopwords as ar_stp\n",
    "import nltk\n",
    "import numpy as np\n",
    "import pandas as pd\n",
    "import pyterrier as pt\n",
    "import torch\n",
    "from datasets import load_dataset\n",
    "from sentence_transformers import LoggingHandler, SentenceTransformer, util, InputExample\n",
    "from sentence_transformers import evaluation\n",
    "from sentence_transformers import models, losses, datasets\n",
    "from snowballstemmer import stemmer\n",
    "from torch import nn\n",
    "# from simcse import SimSCE\n",
    "from torch.utils.data import DataLoader\n",
    "\n",
    "nltk.download('punkt')"
   ]
  },
  {
   "cell_type": "code",
   "execution_count": 2,
   "metadata": {
    "ExecuteTime": {
     "end_time": "2023-08-17T01:21:11.503893800Z",
     "start_time": "2023-08-17T01:21:11.503893800Z"
    },
    "collapsed": false
   },
   "outputs": [],
   "source": [
    "# torch.cude.empty_cache\n",
    "#### Just some code to print debug information to stdout\n",
    "logging.basicConfig(format='%(asctime)s - %(message)s',\n",
    "                    datefmt='%Y-%m-%d %H:%M:%S',\n",
    "                    level=logging.INFO,\n",
    "                    handlers=[LoggingHandler()])\n",
    "#### /print debug information to stdout"
   ]
  },
  {
   "cell_type": "code",
   "execution_count": 3,
   "metadata": {
    "ExecuteTime": {
     "end_time": "2023-08-17T01:21:11.550966Z",
     "start_time": "2023-08-17T01:21:11.503893800Z"
    },
    "collapsed": false
   },
   "outputs": [
    {
     "name": "stdout",
     "output_type": "stream",
     "text": [
      "2.0.1+cu118\n",
      "True\n",
      "NVIDIA GeForce RTX 3090\n"
     ]
    }
   ],
   "source": [
    "print(torch.__version__)\n",
    "print(torch.cuda.is_available())\n",
    "# print(torch.cuda.device_count())\n",
    "# print(torch.cuda.current_device())\n",
    "print(torch.cuda.get_device_name(0))"
   ]
  },
  {
   "cell_type": "markdown",
   "metadata": {
    "ExecuteTime": {
     "end_time": "2023-08-11T08:04:53.469544200Z",
     "start_time": "2023-08-11T08:04:53.454643500Z"
    },
    "collapsed": false
   },
   "source": [
    "# Get Data"
   ]
  },
  {
   "cell_type": "code",
   "execution_count": 4,
   "metadata": {
    "ExecuteTime": {
     "end_time": "2023-08-17T01:21:11.584405Z",
     "start_time": "2023-08-17T01:21:11.552725Z"
    },
    "collapsed": false
   },
   "outputs": [],
   "source": [
    "data_path = \"../data\"\n",
    "index_path = os.path.join(data_path, \"QPC_Index/data.properties\")\n",
    "\n",
    "query_train_path = os.path.join(data_path, \"QQA23_TaskA_train.tsv\")\n",
    "query_dev_path = os.path.join(data_path, \"QQA23_TaskA_dev.tsv\")\n",
    "query_test_path = os.path.join(data_path, \"QQA23_TaskA_test.tsv\")\n",
    "\n",
    "passage_path = os.path.join(data_path, \"Thematic_QPC/QQA23_TaskA_QPC_v1.1.tsv\")\n",
    "\n",
    "qp_pair_train_path = os.path.join(data_path, \"qrels\\QQA23_TaskA_qrels_train.gold\")\n",
    "qp_pair_dev_path = os.path.join(data_path, \"qrels\\QQA23_TaskA_qrels_dev.gold\")\n",
    "\n",
    "task_B_train_path = os.path.join(data_path, \"Task B data/QQA23_TaskB_qrcd_v1.2_train_preprocessed.jsonl\")\n"
   ]
  },
  {
   "cell_type": "markdown",
   "metadata": {
    "ExecuteTime": {
     "end_time": "2023-08-11T05:37:35.422287500Z",
     "start_time": "2023-08-11T05:37:35.406190400Z"
    },
    "collapsed": false
   },
   "source": [
    "## Read file"
   ]
  },
  {
   "cell_type": "code",
   "execution_count": 5,
   "metadata": {
    "ExecuteTime": {
     "end_time": "2023-08-17T01:21:11.591413Z",
     "start_time": "2023-08-17T01:21:11.568755700Z"
    },
    "collapsed": false
   },
   "outputs": [],
   "source": [
    "# read file based on its extension (tsv or xlsx)\n",
    "def read_file(input_file, sep=\"\\t\", names = \"\"):\n",
    "    if input_file.endswith(\".xlsx\"):\n",
    "        df = pd.read_excel(input_file)\n",
    "    else:\n",
    "        if names != \"\":\n",
    "            df = pd.read_csv(input_file, sep=sep, names=names,encoding=\"utf-8\")\n",
    "        else:\n",
    "            df = pd.read_csv(input_file, sep=sep,encoding=\"utf-8\")\n",
    "    return df"
   ]
  },
  {
   "cell_type": "code",
   "execution_count": 6,
   "metadata": {
    "ExecuteTime": {
     "end_time": "2023-08-17T01:21:11.600417600Z",
     "start_time": "2023-08-17T01:21:11.584405Z"
    },
    "collapsed": false
   },
   "outputs": [],
   "source": [
    "qrels_columns = [\"qid\", \"Q0\", \"docid\", \"relevance\"]\n",
    "\n",
    "def read_qrels_file(qrels_file):\n",
    "    # split_token = '\\t' if format_checker.is_tab_sparated(qrels_file) else  \"\\s+\"\n",
    "    df_qrels = pd.read_csv(qrels_file, sep='\\t', names=qrels_columns)\n",
    "    df_qrels[\"qid\"] = df_qrels[\"qid\"].astype(str)\n",
    "    df_qrels[\"docid\"] = df_qrels[\"docid\"].astype(str)\n",
    "    return df_qrels"
   ]
  },
  {
   "cell_type": "code",
   "execution_count": 7,
   "metadata": {
    "ExecuteTime": {
     "end_time": "2023-08-17T01:21:11.622569700Z",
     "start_time": "2023-08-17T01:21:11.600417600Z"
    },
    "collapsed": false
   },
   "outputs": [],
   "source": [
    "def load_index(index_path):\n",
    "    if not pt.started():\n",
    "        pt.init(helper_version=\"0.0.6\")\n",
    "\n",
    "    try:\n",
    "        index = pt.IndexFactory.of(index_path)\n",
    "        print(\"Index was loaded successfully from this path: \", index_path)\n",
    "        return index\n",
    "    except Exception as e:\n",
    "        print('Cannot load the index, check exception details {}'.format(e))\n",
    "        return []"
   ]
  },
  {
   "attachments": {},
   "cell_type": "markdown",
   "metadata": {
    "ExecuteTime": {
     "end_time": "2023-08-11T05:37:37.652006400Z",
     "start_time": "2023-08-11T05:37:37.639499500Z"
    }
   },
   "source": [
    "## Cleaning & Preprocessing\n",
    "Clean text from urls, handles, special characters, tabs, line jumps, extra white space, and puntuations.\n",
    "Preprocess the arabic input text by performing normalization, stemming, and removing stop words."
   ]
  },
  {
   "cell_type": "code",
   "execution_count": 8,
   "metadata": {
    "ExecuteTime": {
     "end_time": "2023-08-17T01:21:11.647715700Z",
     "start_time": "2023-08-17T01:21:11.616060300Z"
    }
   },
   "outputs": [],
   "source": [
    "# Clean text from urls, handles, special characters, tabs, line jumps, and extra white space.\n",
    "def clean(text):\n",
    "    text = re.sub(r\"http\\S+\", \" \", text)  # remove urls\n",
    "    text = re.sub(r\"@[\\w]*\", \" \", text)  # remove handles\n",
    "    text = re.sub(r\"[\\.\\,\\#_\\|\\:\\?\\?\\/\\=]\", \" \", text) # remove special characters\n",
    "    text = re.sub(r\"\\t\", \" \", text)  # remove tabs\n",
    "    text = re.sub(r\"\\n\", \" \", text)  # remove line jump\n",
    "    text = re.sub(r\"\\s+\", \" \", text)  # remove extra white space\n",
    "    text = re.sub(r'[^\\w\\s]', '', text) # Removing punctuations in string using regex\n",
    "    text = text.strip()\n",
    "    return text"
   ]
  },
  {
   "cell_type": "code",
   "execution_count": 9,
   "metadata": {
    "ExecuteTime": {
     "end_time": "2023-08-17T01:21:11.653724600Z",
     "start_time": "2023-08-17T01:21:11.632073400Z"
    }
   },
   "outputs": [],
   "source": [
    "# arabic stemmer\n",
    "ar_stemmer = stemmer(\"arabic\")\n",
    "\n",
    "# remove arabic stop words\n",
    "def ar_remove_stop_words(sentence):\n",
    "    terms=[]\n",
    "    stopWords= set(ar_stp.stopwords_list())\n",
    "    for term in sentence.split() : \n",
    "        if term not in stopWords :\n",
    "            terms.append(term)\n",
    "    return \" \".join(terms)\n",
    "\n",
    "\n",
    "# normalize the arabic text\n",
    "def normalize_arabic(text):\n",
    "    text = re.sub(\"[إأٱآا]\", \"ا\", text)\n",
    "    text = re.sub(\"ى\", \"ي\", text)\n",
    "    text = re.sub(\"ؤ\", \"ء\", text)\n",
    "    text = re.sub(\"ئ\", \"ء\", text)\n",
    "    text = re.sub(\"ة\", \"ه\", text)\n",
    "    return(text)\n",
    "\n",
    "# stem the arabic text\n",
    "def ar_stem(sentence):\n",
    "    return \" \".join([ar_stemmer.stemWord(i) for i in sentence.split()])\n",
    "\n",
    "\n",
    "# apply all preprocessing steps needed for Arabic text\n",
    "def preprocess_arabic(text): \n",
    "    text = normalize_arabic(text)\n",
    "    text = ar_remove_stop_words(text)\n",
    "    text = ar_stem(text)\n",
    "    return text"
   ]
  },
  {
   "cell_type": "code",
   "execution_count": 10,
   "metadata": {
    "ExecuteTime": {
     "end_time": "2023-08-17T01:21:11.679369300Z",
     "start_time": "2023-08-17T01:21:11.647715700Z"
    },
    "collapsed": false
   },
   "outputs": [],
   "source": [
    "def prepare_data(path, column, id_type, id_column='docno'):\n",
    "        df = read_file(path, names=['docno', 'text'])\n",
    "\n",
    "        df[column] = df['text'].apply(clean)\n",
    "        df[column] = df[column].apply(preprocess_arabic)\n",
    "\n",
    "        df[id_type] = df[id_column].astype(str) # convert the id column to string\n",
    "        df = df[[id_type, 'text', column]] # keep the columns needed for search\n",
    "\n",
    "        print(f\"Done with preparation with {column}!\")\n",
    "        return df"
   ]
  },
  {
   "cell_type": "markdown",
   "metadata": {
    "ExecuteTime": {
     "end_time": "2023-08-11T05:37:39.775198Z",
     "start_time": "2023-08-11T05:37:39.759112600Z"
    },
    "collapsed": false
   },
   "source": [
    "## Loading"
   ]
  },
  {
   "cell_type": "code",
   "execution_count": 11,
   "metadata": {
    "ExecuteTime": {
     "end_time": "2023-08-17T01:21:12.288943600Z",
     "start_time": "2023-08-17T01:21:11.679369300Z"
    },
    "collapsed": false
   },
   "outputs": [
    {
     "name": "stderr",
     "output_type": "stream",
     "text": [
      "PyTerrier 0.9.2 has loaded Terrier 5.7 (built by craigm on 2022-11-10 18:30) and terrier-helper 0.0.6\n",
      "\n"
     ]
    },
    {
     "name": "stdout",
     "output_type": "stream",
     "text": [
      "Index was loaded successfully from this path:  ../data\\QPC_Index/data.properties\n"
     ]
    }
   ],
   "source": [
    "index = load_index(index_path=index_path)\n",
    "\n",
    "# print(index.getCollectionStatistics().toString())\n",
    "# print(index.getMetaIndex().getKeys())\n",
    "# for kv in index.getLexicon():\n",
    "#     print((kv.getKey())+\"\\t\"+ kv.getValue().toString())\n",
    "# index.getLexicon()[\"فاعل\"].toString()"
   ]
  },
  {
   "cell_type": "code",
   "execution_count": null,
   "metadata": {
    "ExecuteTime": {
     "end_time": "2023-08-17T01:21:16.697385100Z",
     "start_time": "2023-08-17T01:21:12.288943600Z"
    },
    "collapsed": false
   },
   "outputs": [],
   "source": [
    "df_passage = prepare_data(passage_path, 'passage', 'pid')\n",
    "\n",
    "df_query_train = prepare_data(query_train_path, 'query', 'qid')\n",
    "df_query_dev = prepare_data(query_dev_path, 'query', 'qid')\n",
    "df_query_test = prepare_data(query_test_path, 'query', 'qid')\n",
    "\n",
    "df_qppair_train = read_qrels_file(qp_pair_train_path)\n",
    "\n",
    "df_qppair_dev = read_qrels_file(qp_pair_dev_path)\n"
   ]
  },
  {
   "cell_type": "markdown",
   "metadata": {
    "collapsed": false
   },
   "source": [
    "# Model - Sentence Embedding"
   ]
  },
  {
   "cell_type": "code",
   "execution_count": null,
   "metadata": {
    "collapsed": false
   },
   "outputs": [],
   "source": [
    "def save_query_passage_retrieval(result, tag, run_save=False, df_query=df_query_train, top_k=10):\n",
    "    if tag == \"BM25\":\n",
    "        result[\"Q0\"] = [\"Q0\"] * len(result)\n",
    "        result[\"tag\"] = [tag] * len(result)\n",
    "        result['qid'] = result[\"qid\"]\n",
    "        result['pid'] = result[\"docno\"]\n",
    "        tag = \"BM25_Final\"\n",
    "        result = result[[\"qid\", \"Q0\", \"pid\", \"rank\", \"score\", \"tag\"]]\n",
    "\n",
    "    elif \"SimCSE_bi\" in tag:\n",
    "        np_result = np.array(result).flatten()\n",
    "        result = pd.DataFrame()\n",
    "\n",
    "        result[\"qid\"] = df_query[\"qid\"].tolist() * top_k\n",
    "        result = result.sort_values(by=['qid']).reset_index(drop=True)\n",
    "        result[\"Q0\"] = [\"Q0\"] * len(result)\n",
    "        result[\"pid\"] = [df_passage.iloc[x['corpus_id']]['pid'] for x in np_result]\n",
    "        result[\"rank\"] = list(range(1, top_k+1)) * len(df_query)\n",
    "        result[\"score\"] = [x['score'] for x in np_result]\n",
    "        result[\"tag\"] = [tag] * len(np_result)\n",
    "\n",
    "    elif tag == \"SimCSE_bmbiencd\":\n",
    "        df_result = pd.DataFrame()\n",
    "        for i in range(len(bm25_biencoder_hit)):\n",
    "            for j in range(len(bm25_biencoder_hit[i])):\n",
    "                new_record = pd.DataFrame([{\"qid\": df_query_dev['qid'].tolist()[i],\n",
    "                        \"Q0\": \"Q0\",\n",
    "                        \"pid\": bm25_biencoder_hit[i][j]['corpus_id'],\n",
    "                        \"rank\": j,\n",
    "                        \"score\": bm25_biencoder_hit[i][j]['score'],\n",
    "                        \"tag\": tag\n",
    "                    }])\n",
    "                df_result = pd.concat([df_result, new_record], ignore_index=True)\n",
    "        result = df_result\n",
    "        print(type(result))\n",
    "\n",
    "    elif tag == \"SimCSE_cross\":\n",
    "        result['tag'] = tag\n",
    "        result['Q0'] = 'Q0'\n",
    "        result = result[[\"qid\", \"Q0\", \"pid\", \"rank\", \"score\", \"tag\"]]\n",
    "\n",
    "    if run_save:\n",
    "        run_save_path = os.path.join(data_path, f\"runs/{tag}.tsv\")\n",
    "        # print(run_save_path)\n",
    "        result.to_csv(run_save_path, sep=\"\\t\", index=False, header=False)\n",
    "\n",
    "    return result"
   ]
  },
  {
   "cell_type": "markdown",
   "metadata": {
    "collapsed": false
   },
   "source": [
    "## Convert Data to SentenceTransformer InputFormat"
   ]
  },
  {
   "cell_type": "markdown",
   "metadata": {
    "collapsed": false
   },
   "source": [
    "#### Simple passage-passage pair"
   ]
  },
  {
   "cell_type": "code",
   "execution_count": null,
   "metadata": {
    "collapsed": false
   },
   "outputs": [],
   "source": [
    "train_samples_passage = []\n",
    "for _, row in df_passage.iterrows():\n",
    "    train_samples_passage.append(InputExample(texts=[row['passage'], row['passage']]))\n",
    "\n",
    "print(\"len(train_samples_passage) =\", len(train_samples_passage))"
   ]
  },
  {
   "cell_type": "markdown",
   "metadata": {
    "collapsed": false
   },
   "source": [
    "#### query-passage double pair with relevance label = 1 (positive)"
   ]
  },
  {
   "cell_type": "code",
   "execution_count": null,
   "metadata": {
    "collapsed": false
   },
   "outputs": [],
   "source": [
    "train_samples_qp = []\n",
    "for _, row in df_qppair_train.iterrows():\n",
    "    query_id = row['qid']\n",
    "    query = df_query_train[df_query_train['qid'] == query_id]['query'].tolist()[0]\n",
    "    passage_id = row['docid']\n",
    "\n",
    "    if passage_id == '-1':\n",
    "        continue\n",
    "    else:\n",
    "        passage = df_passage[df_passage['pid'] == passage_id]['passage'].tolist()[0]\n",
    "        label = row['relevance']\n",
    "        #positive sample\n",
    "        train_samples_qp.append(InputExample(texts=[query, passage], label=label))\n",
    "        train_samples_qp.append(InputExample(texts=[passage, query], label=label))\n",
    "\n",
    "print(\"len(train_samples_qp) =\", len(train_samples_qp))"
   ]
  },
  {
   "cell_type": "markdown",
   "metadata": {
    "collapsed": false
   },
   "source": [
    "#### contrastive: query-passage double pair with relevance label = 1 (positive) and not found BM25 top-k passages with relevance label = 0 (negative)"
   ]
  },
  {
   "cell_type": "code",
   "execution_count": null,
   "metadata": {
    "collapsed": false
   },
   "outputs": [],
   "source": [
    "train_samples_qp_contrastive = []\n",
    "\n",
    "top_k = 1000\n",
    "print(\"top_k =\", top_k)\n",
    "BM25_model = pt.BatchRetrieve(index, controls = {\"wmodel\": \"BM25\"}, num_results=top_k)\n",
    "\n",
    "for _, row in df_qppair_train.groupby('qid'):\n",
    "    query_id = row['qid'].tolist()[0]\n",
    "    query = df_query_train[df_query_train['qid'] == query_id]['query'].tolist()[0]\n",
    "    bm25_related_passage = BM25_model.search(query)['docno'].tolist()\n",
    "    positive_passage = row['docid'].tolist()\n",
    "    negative_passage = list(set(bm25_related_passage) - set(positive_passage))\n",
    "\n",
    "    for pos_passage in positive_passage:\n",
    "        if pos_passage == '-1':\n",
    "            continue\n",
    "        else:\n",
    "            passage = df_passage[df_passage['pid'] == pos_passage]['passage'].tolist()[0]\n",
    "            label = 1\n",
    "            #positive sample\n",
    "            train_samples_qp_contrastive.append(InputExample(texts=[query, passage], label=label))\n",
    "            train_samples_qp_contrastive.append(InputExample(texts=[passage, query], label=label))\n",
    "\n",
    "    for neg_passage in negative_passage:\n",
    "        if neg_passage == '-1':\n",
    "            continue\n",
    "        else:\n",
    "            passage = df_passage[df_passage['pid'] == neg_passage]['passage'].tolist()[0]\n",
    "            label = 0\n",
    "            #positive sample\n",
    "            train_samples_qp_contrastive.append(InputExample(texts=[query, passage], label=label))\n",
    "            train_samples_qp_contrastive.append(InputExample(texts=[passage, query], label=label))\n",
    "\n",
    "print(\"len(train_samples_qp_contrastive) =\", len(train_samples_qp_contrastive))"
   ]
  },
  {
   "cell_type": "markdown",
   "metadata": {
    "collapsed": false
   },
   "source": [
    "#### multiple negative ranking: query-passage double pair with relevance label = 1 (positive)"
   ]
  },
  {
   "cell_type": "code",
   "execution_count": null,
   "metadata": {
    "collapsed": false
   },
   "outputs": [],
   "source": [
    "train_samples_qp_multiple_negative_ranking = []\n",
    "for _, row in df_qppair_train.groupby('qid'):\n",
    "    query_id = row['qid'].tolist()[0]\n",
    "    query = df_query_train[df_query_train['qid'] == query_id]['query'].tolist()[0]\n",
    "    positive_passage = row['docid'].tolist()\n",
    "    for pos_passage in positive_passage:\n",
    "        if pos_passage == '-1':\n",
    "            continue\n",
    "        else:\n",
    "            passage = df_passage[df_passage['pid'] == pos_passage]['passage'].tolist()[0]\n",
    "            label = 1\n",
    "            #positive sample\n",
    "            train_samples_qp_multiple_negative_ranking.append(InputExample(texts=[query, passage], label=label))\n",
    "            train_samples_qp_multiple_negative_ranking.append(InputExample(texts=[passage, query], label=label))\n",
    "\n",
    "print(\"len(train_samples_qp_multiple_negative_ranking) =\", len(train_samples_qp_multiple_negative_ranking))"
   ]
  },
  {
   "cell_type": "markdown",
   "metadata": {
    "collapsed": false
   },
   "source": [
    "#### triple: query-positive passage-negative passage; negative passage is not found in BM25 top-k passages"
   ]
  },
  {
   "cell_type": "code",
   "execution_count": 13,
   "metadata": {
    "ExecuteTime": {
     "end_time": "2023-08-17T01:21:17.084505Z",
     "start_time": "2023-08-17T01:21:17.037145200Z"
    },
    "collapsed": false
   },
   "outputs": [
    {
     "name": "stdout",
     "output_type": "stream",
     "text": [
      "top_k = 100\n"
     ]
    },
    {
     "ename": "NameError",
     "evalue": "name 'df_qppair_train' is not defined",
     "output_type": "error",
     "traceback": [
      "\u001b[1;31m---------------------------------------------------------------------------\u001b[0m",
      "\u001b[1;31mNameError\u001b[0m                                 Traceback (most recent call last)",
      "Cell \u001b[1;32mIn[13], line 7\u001b[0m\n\u001b[0;32m      3\u001b[0m BM25_model \u001b[38;5;241m=\u001b[39m pt\u001b[38;5;241m.\u001b[39mBatchRetrieve(index, controls \u001b[38;5;241m=\u001b[39m {\u001b[38;5;124m\"\u001b[39m\u001b[38;5;124mwmodel\u001b[39m\u001b[38;5;124m\"\u001b[39m: \u001b[38;5;124m\"\u001b[39m\u001b[38;5;124mBM25\u001b[39m\u001b[38;5;124m\"\u001b[39m}, num_results\u001b[38;5;241m=\u001b[39mtop_k)\n\u001b[0;32m      5\u001b[0m train_samples_qp_triple \u001b[38;5;241m=\u001b[39m []\n\u001b[1;32m----> 7\u001b[0m \u001b[38;5;28;01mfor\u001b[39;00m _, row \u001b[38;5;129;01min\u001b[39;00m \u001b[43mdf_qppair_train\u001b[49m\u001b[38;5;241m.\u001b[39mgroupby(\u001b[38;5;124m'\u001b[39m\u001b[38;5;124mqid\u001b[39m\u001b[38;5;124m'\u001b[39m):\n\u001b[0;32m      8\u001b[0m     \u001b[38;5;66;03m# print(row)\u001b[39;00m\n\u001b[0;32m      9\u001b[0m     query_id \u001b[38;5;241m=\u001b[39m row[\u001b[38;5;124m'\u001b[39m\u001b[38;5;124mqid\u001b[39m\u001b[38;5;124m'\u001b[39m]\u001b[38;5;241m.\u001b[39mtolist()[\u001b[38;5;241m0\u001b[39m]\n\u001b[0;32m     10\u001b[0m     query \u001b[38;5;241m=\u001b[39m df_query_train[df_query_train[\u001b[38;5;124m'\u001b[39m\u001b[38;5;124mqid\u001b[39m\u001b[38;5;124m'\u001b[39m] \u001b[38;5;241m==\u001b[39m query_id][\u001b[38;5;124m'\u001b[39m\u001b[38;5;124mquery\u001b[39m\u001b[38;5;124m'\u001b[39m]\u001b[38;5;241m.\u001b[39mtolist()[\u001b[38;5;241m0\u001b[39m]\n",
      "\u001b[1;31mNameError\u001b[0m: name 'df_qppair_train' is not defined"
     ]
    }
   ],
   "source": [
    "top_k = 100\n",
    "print(\"top_k =\", top_k)\n",
    "BM25_model = pt.BatchRetrieve(index, controls = {\"wmodel\": \"BM25\"}, num_results=top_k)\n",
    "\n",
    "train_samples_qp_triple = []\n",
    "\n",
    "for _, row in df_qppair_train.groupby('qid'):\n",
    "    # print(row)\n",
    "    query_id = row['qid'].tolist()[0]\n",
    "    query = df_query_train[df_query_train['qid'] == query_id]['query'].tolist()[0]\n",
    "    bm25_related_passage = BM25_model.search(query)['docno'].tolist()\n",
    "    positive_passage = row['docid'].tolist()\n",
    "    negative_passage = list(set(bm25_related_passage) - set(positive_passage))\n",
    "    # print(bm25_related_passage)\n",
    "    # print(possitive_passage)\n",
    "    # print(negative_passage)\n",
    "\n",
    "    for pos_passage_id in positive_passage:\n",
    "        for neg_passage_id in negative_passage:\n",
    "            if pos_passage_id == '-1':\n",
    "                continue\n",
    "            else:\n",
    "                pos_passage = df_passage[df_passage['pid'] == pos_passage_id]['passage'].tolist()[0]\n",
    "                neg_passage = df_passage[df_passage['pid'] == neg_passage_id]['passage'].tolist()[0]\n",
    "                train_samples_qp_triple.append(InputExample(texts=[query, pos_passage, neg_passage]))\n",
    "\n",
    "print(\"len train_samples_qp_triple =\", len(train_samples_qp_triple))"
   ]
  },
  {
   "cell_type": "markdown",
   "metadata": {
    "collapsed": false
   },
   "source": [
    "## Additional Data"
   ]
  },
  {
   "cell_type": "markdown",
   "metadata": {
    "collapsed": false
   },
   "source": [
    "### Mr. TyDi"
   ]
  },
  {
   "cell_type": "code",
   "execution_count": null,
   "metadata": {
    "collapsed": false
   },
   "outputs": [],
   "source": [
    "train_samples_mr_tydi_triple = []\n",
    "#https://huggingface.co/datasets/castorini/mr-tydi\n",
    "mr_tydi_dataset = load_dataset(\"castorini/mr-tydi\", \"arabic\", split=\"train\").to_pandas()\n",
    "\n",
    "for _, row in mr_tydi_dataset.iterrows():\n",
    "    query = row['query']\n",
    "    positive_passages = row['positive_passages']\n",
    "    negative_passages = row['negative_passages']\n",
    "\n",
    "    for pos_passage in positive_passages:\n",
    "        for neg_passage in negative_passages:\n",
    "            train_samples_mr_tydi_triple.append(InputExample(texts=[query, pos_passage, neg_passage]))\n",
    "\n",
    "print(\"len(train_samples_mr_tydi_triple) =\", len(train_samples_mr_tydi_triple))"
   ]
  },
  {
   "cell_type": "markdown",
   "metadata": {
    "collapsed": false
   },
   "source": [
    "### Task B Data"
   ]
  },
  {
   "cell_type": "code",
   "execution_count": null,
   "metadata": {
    "collapsed": false
   },
   "outputs": [],
   "source": [
    "import json\n",
    "\n",
    "def load_jsonl(input_path) -> list:\n",
    "    data = []\n",
    "    with open(input_path, 'r', encoding='utf-8') as f:\n",
    "        for line in f:\n",
    "            data.append(json.loads(line.rstrip('\\n|\\r')))\n",
    "    print('Loaded {} records from {}'.format(len(data), input_path))\n",
    "    return data\n",
    "\n",
    "\n",
    "train_samples_qp_task_B = []\n",
    "train_passage_question_objects_task_B  = load_jsonl(task_B_train_path)\n",
    "for passage_question_object in train_passage_question_objects_task_B:\n",
    "    query = passage_question_object[\"question\"]\n",
    "    passage = passage_question_object[\"passage\"]\n",
    "    if len(passage_question_object[\"answers\"]) > 0:\n",
    "        train_samples_qp_task_B.append(InputExample(texts=[query, passage], label=1))\n",
    "    else:\n",
    "        train_samples_qp_task_B.append(InputExample(texts=[query, passage], label=0))\n",
    "\n",
    "train_passage_question_objects_task_B = pd.DataFrame(train_passage_question_objects_task_B)\n",
    "print(\"len(train_samples_qp_task_B) =\", len(train_samples_qp_task_B))"
   ]
  },
  {
   "cell_type": "markdown",
   "metadata": {
    "collapsed": false
   },
   "source": [
    "## Fine Tuning"
   ]
  },
  {
   "cell_type": "markdown",
   "metadata": {
    "collapsed": false
   },
   "source": [
    "### TSDAE"
   ]
  },
  {
   "cell_type": "code",
   "execution_count": null,
   "metadata": {
    "collapsed": false
   },
   "outputs": [],
   "source": [
    "run_tsdae = False\n",
    "\n",
    "if run_tsdae:\n",
    "    # Define your sentence transformer model using CLS pooling\n",
    "    model_name = 'aubmindlab/bert-base-arabert'\n",
    "    batch_size = 8\n",
    "    num_epochs = 8\n",
    "\n",
    "    word_embedding_model = models.Transformer(model_name)\n",
    "    pooling_model = models.Pooling(word_embedding_model.get_word_embedding_dimension(), 'cls')\n",
    "    model = SentenceTransformer(modules=[word_embedding_model, pooling_model])\n",
    "\n",
    "    # Define a list with sentences (1k - 100k sentences)\n",
    "    train_sentences = df_passage['passage'].tolist()\n",
    "\n",
    "    # Create the special denoising dataset that adds noise on-the-fly\n",
    "    train_dataset = datasets.DenoisingAutoEncoderDataset(train_sentences)\n",
    "\n",
    "    # DataLoader to batch your data\n",
    "    train_dataloader = DataLoader(train_dataset, batch_size=batch_size, shuffle=True)\n",
    "\n",
    "    # Use the denoising auto-encoder loss\n",
    "    train_loss = losses.DenoisingAutoEncoderLoss(model, decoder_name_or_path=model_name, tie_encoder_decoder=True)\n",
    "\n",
    "    # Call the fit method\n",
    "    model.fit(\n",
    "        train_objectives=[(train_dataloader, train_loss)],\n",
    "        epochs=num_epochs,\n",
    "        weight_decay=0,\n",
    "        scheduler='constantlr',\n",
    "        optimizer_params={'lr': 3e-5},\n",
    "        show_progress_bar=True\n",
    "    )\n",
    "\n",
    "    model.save(data_path, f'fine_tune/tsdae-model')"
   ]
  },
  {
   "cell_type": "markdown",
   "metadata": {
    "collapsed": false
   },
   "source": [
    "### SimCSE"
   ]
  },
  {
   "cell_type": "code",
   "execution_count": null,
   "metadata": {
    "collapsed": false
   },
   "outputs": [],
   "source": [
    "run_simcse = True\n",
    "if run_simcse:\n",
    "    # Define your sentence transformer model using CLS pooling\n",
    "    model_name = 'aubmindlab/bert-base-arabert'\n",
    "    batch_size = 128\n",
    "    num_epochs = 3\n",
    "\n",
    "    word_embedding_model = models.Transformer(model_name, max_seq_length=164)\n",
    "    pooling_model = models.Pooling(word_embedding_model.get_word_embedding_dimension())\n",
    "    model = SentenceTransformer(modules=[word_embedding_model, pooling_model])\n",
    "\n",
    "    # Define a list with sentences (1k - 100k sentences)\n",
    "    train_sentences = df_passage['passage'].tolist()\n",
    "\n",
    "    # Convert train sentences to sentence pairs\n",
    "    train_data = [InputExample(texts=[s, s]) for s in train_sentences]\n",
    "\n",
    "    # DataLoader to batch your data\n",
    "    train_dataloader = DataLoader(train_data, batch_size=batch_size, shuffle=True)\n",
    "    train_samples_qp_task_B_dataloader = DataLoader(train_samples_qp_task_B, batch_size=batch_size, shuffle=True)\n",
    "\n",
    "    # Use the MultipleNegativesRankingLoss loss\n",
    "    train_loss = losses.MultipleNegativesRankingLoss(model)\n",
    "    constraint_loss = losses.ContrastiveLoss(model)\n",
    "\n",
    "    model.fit(\n",
    "        train_objectives=[(train_dataloader, train_loss), (train_samples_qp_task_B_dataloader, constraint_loss)],\n",
    "        epochs=num_epochs,\n",
    "        show_progress_bar=True\n",
    "    )\n",
    "\n",
    "    # model.save(os.path.join(data_path, f'fine_tune/simcse-model'))\n",
    "    # model.save(os.path.join(data_path, 'fine_tune/simcse-model-v1'))\n",
    "    # model.save(os.path.join(data_path, 'fine_tune/simcse-model-v2'))\n",
    "    # model.save(os.path.join(data_path, 'fine_tune/simcse-model-v3'))\n",
    "    model.save(os.path.join(data_path, 'fine_tune/simcse-model-v4'))\n"
   ]
  },
  {
   "cell_type": "markdown",
   "metadata": {
    "collapsed": false
   },
   "source": [
    "### CT (Semantic Re-Tuning With Contrastive Tension (CT))"
   ]
  },
  {
   "cell_type": "code",
   "execution_count": null,
   "metadata": {
    "collapsed": false
   },
   "outputs": [],
   "source": [
    "run_ct = False\n",
    "if run_ct:\n",
    "    # Define your sentence transformer model using CLS pooling\n",
    "    model_name = 'aubmindlab/bert-base-arabert'\n",
    "    word_embedding_model = models.Transformer(model_name, max_seq_length=164)\n",
    "    # Apply mean pooling to get one fixed sized sentence vector\n",
    "    pooling_model = models.Pooling(word_embedding_model.get_word_embedding_dimension())\n",
    "    model = SentenceTransformer(modules=[word_embedding_model, pooling_model])\n",
    "\n",
    "    # Define a list with sentences (1k - 100k sentences)\n",
    "    train_sentences = df_passage['passage'].tolist()\n",
    "\n",
    "    # For ContrastiveTension we need a special data loader to construct batches with the desired properties\n",
    "    train_dataloader =  losses.ContrastiveTensionDataLoader(train_sentences, batch_size=64, pos_neg_ratio=8)\n",
    "\n",
    "    # As loss, we losses.ContrastiveTensionLoss\n",
    "    train_loss = losses.ContrastiveTensionLoss(model)\n",
    "    num_epochs = 8\n",
    "    warmup_steps = math.ceil(len(train_dataloader) * num_epochs * 0.1)  # 10% of train data for warm-up\n",
    "    logging.info(\"Warmup-steps: {}\".format(warmup_steps))\n",
    "\n",
    "    # Train the model\n",
    "    model.fit(train_objectives=[(train_dataloader, train_loss)],\n",
    "              epochs=num_epochs,\n",
    "              optimizer_class=torch.optim.RMSprop,\n",
    "              optimizer_params={'lr': 5e-5},\n",
    "              show_progress_bar=True,\n",
    "              use_amp=False  # Set to True, if your GPU supports FP16 cores\n",
    "              )\n",
    "\n",
    "    model.save(data_path, f'fine_tune/ct-model')"
   ]
  },
  {
   "cell_type": "markdown",
   "metadata": {
    "collapsed": false
   },
   "source": [
    "#### CT In Batch Negative"
   ]
  },
  {
   "cell_type": "code",
   "execution_count": null,
   "metadata": {
    "collapsed": false
   },
   "outputs": [],
   "source": [
    "# # Define your sentence transformer model using CLS pooling\n",
    "# model_name = 'aubmindlab/bert-base-arabert'\n",
    "# word_embedding_model = models.Transformer(model_name, max_seq_length=164)\n",
    "# # Apply mean pooling to get one fixed sized sentence vector\n",
    "# pooling_model = models.Pooling(word_embedding_model.get_word_embedding_dimension())\n",
    "# model = SentenceTransformer(modules=[word_embedding_model, pooling_model])\n",
    "#\n",
    "# # Define a list with sentences (1k - 100k sentences)\n",
    "# train_sentences = df_passage['passage'].tolist()\n",
    "#\n",
    "# # A regular torch DataLoader and as loss we use losses.ContrastiveTensionLossInBatchNegatives\n",
    "# train_dataloader = DataLoader(train_sentences, batch_size=64, shuffle=True, drop_last=True)\n",
    "# train_loss = losses.ContrastiveTensionLossInBatchNegatives(model)\n",
    "#\n",
    "# num_epochs = 8\n",
    "# warmup_steps = math.ceil(len(train_dataloader) * num_epochs * 0.1)  # 10% of train data for warm-up\n",
    "# logging.info(\"Warmup-steps: {}\".format(warmup_steps))\n",
    "#\n",
    "# # Train the model\n",
    "# model.fit(train_objectives=[(train_dataloader, train_loss)],\n",
    "#           epochs=num_epochs,\n",
    "#           optimizer_class=torch.optim.RMSprop,\n",
    "#           optimizer_params={'lr': 5e-5},\n",
    "#           show_progress_bar=True,\n",
    "#           use_amp=False  # Set to True, if your GPU supports FP16 cores\n",
    "#           )\n",
    "#\n",
    "# # model.save(data_path, f'fine_tune/ct-model')\n",
    "# model.save(data_path, f'fine_tune/ct-in-batch-negative-model')"
   ]
  },
  {
   "cell_type": "markdown",
   "metadata": {
    "ExecuteTime": {
     "end_time": "2023-08-11T05:41:25.811358200Z",
     "start_time": "2023-08-11T05:40:51.432672100Z"
    },
    "collapsed": false
   },
   "source": [
    "## Train Bi-Encoder"
   ]
  },
  {
   "cell_type": "code",
   "execution_count": null,
   "metadata": {
    "collapsed": false
   },
   "outputs": [],
   "source": [
    "# https://www.sbert.net/docs/pretrained_models.html\n",
    "# https://www.sbert.net/docs/pretrained-models/msmarco-v3.html\n",
    "\n",
    "################# fine tune #################\n",
    "# bi_model_name = \"data_path, f'model/fine_tune/tsdae-model\"\n",
    "# bi_model_name = \"fine_tune/tsdae-model\"\n",
    "\n",
    "\n",
    "# bi_model_name = os.path.join(data_path, \"fine_tune/simcse-model\") # Best\n",
    "# bi_model_name = os.path.join(data_path, \"fine_tune/simcse-model-v1\")\n",
    "# bi_model_name = os.path.join(data_path, \"fine_tune/simcse-model-v2\")\n",
    "bi_model_name = os.path.join(data_path, \"fine_tune/simcse-model-v4\")\n",
    "\n",
    "# bi_model_name = \"fine_tine/ct-model\"\n",
    "# bi_model_name = \"fine_tine/simcse-model-paraphrase-multilingual-mpnet-base-v2\"\n",
    "\n",
    "####################################### Our Best Models #######################################\n",
    "# bi_model_name = \"aubmindlab/bert-base-arabert\"\n",
    "# bi_model_name = \"sentence-transformers/paraphrase-multilingual-mpnet-base-v2\"\n",
    "\n",
    "####################################### TODO: try other models\n",
    "# bi_model_name = \"xlm-roberta-base\"\n",
    "# bi_model_name = \"sentence-transformers/paraphrase-xlm-r-multilingual-v1\"\n",
    "# bi_model_name = \"sentence-transformers/msmarco-distilbert-base-v4\"\n",
    "\n",
    "# bi_model_name = \"aubmindlab/bert-base-arabertv2\"\n",
    "# bi_model_name = \"aubmindlab/araelectra-base-discriminator\"\n",
    "# bi_model_name = \"aubmindlab/bert-base-arabertv01\"\n",
    "# bi_model_name = \"aubmindlab/bert-base-arabertv2\"\n",
    "# bi_model_name = \"aubmindlab/bert-base-arabertv02\"\n",
    "\n",
    "# i guess this is not a good model for this task but we should try\n",
    "#bi_model_name = \"gfdgdfgdg/arap_qa_bert\" # run 5 : pAP@10 = 0.184\n",
    "#bi_model_name = \"gfdgdfgdg/arap_qa_bert_large_v2\" # run6 : pAP@10 = 0.372\n",
    "#bi_model_name = \"gfdgdfgdg/arap_qa_bert_v2\" # run7 : pAP@10 = 0.344\n",
    "#bi_model_name = \"zohaib99k/Bert_Arabic-SQuADv2-QA\" # run8 : pAP@10 = 0.435\n",
    "#bi_model_name = \"arabi-elidrisi/ArabicDistilBERT_QA\" #run 9 : pAP@10 = 0.343\n",
    "#bi_model_name = \"MMars/Question_Answering_AraBERT_xtreme_ar\" #run 10 : pAP@10 = 0.337\n",
    "# bi_model_name = \"abdalrahmanshahrour/ArabicQA\" # run 11 : pAP@10 = 0.304\n",
    "# bi_model_name = \"abdalrahmanshahrour/xtremeQA-ar\" # run 12 : pAP@10 = 0.120\n",
    "\n",
    "\n",
    "####################################### Checked models #######################################\n",
    "# bi_model_name = \"aubmindlab/bert-large-arabertv02\"\n",
    "\n",
    "# bi_model_name = \"sentence-transformers/distiluse-base-multilingual-cased-v1\" ## train : 0.48, dev : 0.12\n",
    "# bi_model_name = \"sentence-transformers/paraphrase-multilingual-MiniLM-L12-v2\"\n",
    "\n",
    "# bi_model_name = \"wissamantoun/araelectra-base-artydiqa\" # run 1 : train:0.51 but dev near 0\n",
    "# bi_model_name = \"salti/AraElectra-base-finetuned-ARCD\" # run 2 : pAP@10 = 0.397\n",
    "# bi_model_name = \"ZeyadAhmed/AraElectra-Arabic-SQuADv2-QA\" # run 3 : pAP@10 = 0.435\n",
    "# bi_model_name = \"timpal0l/mdeberta-v3-base-squad2\" # run 4 : pAP@10 = 0.367\n",
    "\n",
    "model_save_path = os.path.join(data_path, f'model/training_simcse-{bi_model_name}-'+datetime.now().strftime(\"%Y-%m-%d_%H-%M-%S\"))"
   ]
  },
  {
   "cell_type": "code",
   "execution_count": null,
   "metadata": {
    "collapsed": false
   },
   "outputs": [],
   "source": [
    "# Use Huggingface/transformers model (like BERT, RoBERTa, XLNet, XLM-R) for mapping tokens to embeddings\n",
    "#TODO : change max_seq_length to 384 or 512\n",
    "max_seq_length = 128\n",
    "word_embedding_model = models.Transformer(bi_model_name, max_seq_length=128)\n",
    "print(\"word_embedding_model Max Sequence Length:\", word_embedding_model.max_seq_length)\n",
    "print(\"word_embedding_model dimension\", word_embedding_model.get_word_embedding_dimension())\n",
    "\n",
    "# Apply mean pooling to get one fixed sized sentence vector\n",
    "pooling_model = models.Pooling(word_embedding_model.get_word_embedding_dimension())\n",
    "print(\"pooling_model sentence embedding dimension\", pooling_model.get_sentence_embedding_dimension())\n",
    "\n",
    "#TODO : change out_features to 512\n",
    "dense_model = models.Dense(in_features=pooling_model.get_sentence_embedding_dimension(), out_features=512, activation_function=nn.Tanh())\n",
    "\n",
    "# bi_encoder = SentenceTransformer(modules=[word_embedding_model, pooling_model])\n",
    "bi_encoder = SentenceTransformer(modules=[word_embedding_model, pooling_model, dense_model])"
   ]
  },
  {
   "cell_type": "code",
   "execution_count": null,
   "metadata": {
    "collapsed": false
   },
   "outputs": [],
   "source": [
    "num_epochs = 5\n",
    "train_batch_size = 64\n",
    "\n",
    "# train_passage_dataloader = DataLoader(train_samples_passage, shuffle=True, batch_size=train_batch_size)\n",
    "# train_qp_dataloader = DataLoader(train_samples_qp, shuffle=True, batch_size=train_batch_size)\n",
    "train_qp_contrastive_dataloader = DataLoader(train_samples_qp_contrastive, shuffle=True, batch_size=train_batch_size)\n",
    "train_qp_triple_dataloader = DataLoader(train_samples_qp_triple, shuffle=True, batch_size=train_batch_size)\n",
    "train_qp_multiple_negative_ranking_dataloader = DataLoader(train_samples_qp_multiple_negative_ranking, shuffle=True, batch_size=train_batch_size)\n",
    "train_qp_mr_tydi_triple = DataLoader(train_samples_mr_tydi_triple, shuffle=True, batch_size=train_batch_size)\n",
    "# train_samples_qp_task_B_dataloader = DataLoader(train_samples_qp_task_B, shuffle=True, batch_size=train_batch_size)\n",
    "\n",
    "train_biencoder_loss_MultipleNegativesRanking = losses.MultipleNegativesRankingLoss(bi_encoder)\n",
    "train_biencoder_loss_Contrastive = losses.ContrastiveLoss(bi_encoder)\n",
    "train_biencoder_loss_Triple = losses.TripletLoss(model=bi_encoder)\n",
    "# train_biencoder_loss_OnlineContrastive = losses.OnlineContrastiveLoss(bi_encoder)\n",
    "# train_biencoder_loss_CosineSimilarity = losses.CosineSimilarityLoss(bi_encoder)"
   ]
  },
  {
   "cell_type": "code",
   "execution_count": null,
   "metadata": {
    "collapsed": false
   },
   "outputs": [],
   "source": [
    "#TODO : https://github.com/UKPLab/sentence-transformers/blob/master/examples/training/multilingual/make_multilingual.py\n",
    "#teacher_model_name = 'fine_tine/simcse-model'   #Our monolingual teacher model, we want to convert to multiple languages\n",
    "#student_model_name = 'xlm-roberta-base'       #Multilingual base model we use to imitate the teacher model"
   ]
  },
  {
   "cell_type": "code",
   "execution_count": null,
   "metadata": {
    "collapsed": false
   },
   "outputs": [],
   "source": [
    "torch.cuda.empty_cache()\n",
    "#  asymmetric semantic search\n",
    "warmup_steps = math.ceil(len(train_qp_contrastive_dataloader) * num_epochs * 0.1) #10% of train data for warm-up\n",
    "logging.info(\"Warmup-steps: {}\".format(warmup_steps))\n",
    "\n",
    "# logging.info(\"Performance before training\")\n",
    "# dev_evaluator(model)\n",
    "#RerankingEvaluator\n",
    "#InformationRetrievalEvaluator\n",
    "# https://github.com/UKPLab/sentence-transformers/blob/master/examples/training/quora_duplicate_questions/training_OnlineContrastiveLoss.py\n",
    "\n",
    "\n",
    "#Task B data -> good results\n",
    "\n",
    "# bi_encoder.fit(\n",
    "#           train_objectives=[\n",
    "#                         (train_samples_qp_task_B_dataloader, train_biencoder_loss_MultipleNegativesRanking)],  epochs=3)\n",
    "\n",
    "dev_evaluator = evaluation.InformationRetrievalEvaluator(\n",
    "                                df_query_dev.groupby('qid')['query'].apply(str).to_dict(),\n",
    "                                df_passage.groupby('pid')['passage'].apply(str).to_dict(),\n",
    "                                df_qppair_dev.groupby('qid')['docid'].apply(set).to_dict(),\n",
    "                                accuracy_at_k = [10],\n",
    "                                precision_recall_at_k  = [10],\n",
    "                                map_at_k = [10], mrr_at_k=[10]\n",
    "                                #, score_functions='cos_sim'\n",
    "                                )\n",
    "\n",
    "#m ulti-task training\n",
    "print(\"train_batch_size\", train_batch_size)\n",
    "bi_encoder.fit(\n",
    "          train_objectives=[\n",
    "                        # (train_passage_dataloader, train_biencoder_loss_MultipleNegativesRanking), #SimCSE\n",
    "                        (train_qp_contrastive_dataloader, train_biencoder_loss_Contrastive),\n",
    "                        # (train_qp_multiple_negative_ranking_dataloader, train_biencoder_loss_MultipleNegativesRanking),\n",
    "\n",
    "                        (train_qp_mr_tydi_triple, train_biencoder_loss_MultipleNegativesRanking),\n",
    "\n",
    "                        # (train_qp_triple_dataloader, train_biencoder_loss_Triple)\n",
    "                        # (train_qp_contrastive_dataloader, train_biencoder_loss_CosineSimilarity)\n",
    "                        # (train_qp_triple_dataloader, train_biencoder_loss)\n",
    "              ],\n",
    "              evaluator=dev_evaluator,\n",
    "              epochs=num_epochs,\n",
    "              evaluation_steps=301,\n",
    "              warmup_steps=warmup_steps,\n",
    "              # output_path=\"D:/IR/Quran_QA/Task A/data/fine_tune_simcse-model_MultiTaskTraining_3epoch_64batchsize_contraintive_multiple_negative_ranking\"\n",
    "              )"
   ]
  },
  {
   "cell_type": "code",
   "execution_count": null,
   "metadata": {
    "collapsed": false
   },
   "outputs": [],
   "source": [
    "passage_embeddings = bi_encoder.encode(df_passage['passage'].tolist(), convert_to_tensor=True, show_progress_bar=True)\n",
    "query_train_embeddings = bi_encoder.encode(df_query_train['query'].tolist(), convert_to_tensor=True, show_progress_bar=True)\n",
    "query_dev_embeddings = bi_encoder.encode(df_query_dev['query'].tolist(), convert_to_tensor=True, show_progress_bar=True)\n",
    "query_tset_embeddings = bi_encoder.encode(df_query_test['query'].tolist(), convert_to_tensor=True, show_progress_bar=True)\n",
    "\n",
    "df_passage['embedding'] = passage_embeddings.cpu().numpy().tolist()\n",
    "df_query_train['embedding'] = query_train_embeddings.cpu().numpy().tolist()\n",
    "df_query_dev['embedding'] = query_dev_embeddings.cpu().numpy().tolist()\n",
    "df_query_test['embedding'] = query_tset_embeddings.cpu().numpy().tolist()"
   ]
  },
  {
   "cell_type": "markdown",
   "metadata": {
    "ExecuteTime": {
     "end_time": "2023-08-11T05:46:25.782885900Z",
     "start_time": "2023-08-11T05:44:41.894786800Z"
    },
    "collapsed": false
   },
   "source": [
    "#### Semantic Search"
   ]
  },
  {
   "cell_type": "code",
   "execution_count": null,
   "metadata": {
    "collapsed": false
   },
   "outputs": [],
   "source": [
    "tag = \"SimCSE_bitrain4\"\n",
    "hits = util.semantic_search(query_train_embeddings, passage_embeddings, top_k=10)\n",
    "df_run = save_query_passage_retrieval(hits, tag, run_save=True, df_query=df_query_train)\n",
    "\n",
    "print(bi_model_name, \"all passage embeddings\", \"\\nnum_epochs =\", num_epochs,)\n",
    "! python QQA23_TaskA_eval.py \\\n",
    "    -r \"../data/runs/SimCSE_bitrain4.tsv\" \\\n",
    "    -q \"../data/qrels/QQA23_TaskA_qrels_train.gold\"\n",
    "# df_run"
   ]
  },
  {
   "cell_type": "code",
   "execution_count": null,
   "metadata": {
    "collapsed": false
   },
   "outputs": [],
   "source": [
    "tag = \"SimCSE_bidev4\"\n",
    "top_k = 10\n",
    "hits = util.semantic_search(query_dev_embeddings, passage_embeddings, top_k=top_k)\n",
    "# hits = util.cos_sim(query_dev_embeddings, passage_embeddings)\n",
    "df_run = save_query_passage_retrieval(hits, tag, run_save=True, df_query=df_query_dev, top_k=top_k)\n",
    "\n",
    "print(bi_model_name, \"all passage embeddings\")\n",
    "! python QQA23_TaskA_eval.py \\\n",
    "    -r \"../data/runs/SimCSE_bidev25.tsv\" \\\n",
    "    -q \"../data/qrels/QQA23_TaskA_qrels_dev.gold\""
   ]
  },
  {
   "cell_type": "markdown",
   "metadata": {
    "collapsed": false
   },
   "source": [
    "### Test data"
   ]
  },
  {
   "cell_type": "code",
   "execution_count": null,
   "metadata": {
    "collapsed": false
   },
   "outputs": [],
   "source": [
    "tag = \"SimCSE_bitest4\"\n",
    "hits = util.semantic_search(query_tset_embeddings, passage_embeddings, top_k=top_k)\n",
    "# hits = util.cos_sim(query_dev_embeddings, passage_embeddings)\n",
    "df_run = save_query_passage_retrieval(hits, tag, run_save=True, df_query=df_query_test, top_k=top_k)\n"
   ]
  },
  {
   "cell_type": "code",
   "execution_count": null,
   "metadata": {
    "collapsed": false
   },
   "outputs": [],
   "source": [
    "tag = \"SimCSE_bmbiencd4\"\n",
    "bm_num_results = 15\n",
    "BM25_model = pt.BatchRetrieve(index, controls = {\"wmodel\": \"BM25\"}, num_results=bm_num_results)\n",
    "\n",
    "bm25_biencoder_hit= []\n",
    "\n",
    "for query in df_query_dev['query'].tolist():\n",
    "    bm25_result = BM25_model.search(query)\n",
    "    bm25_related_passage = bm25_result['docno'].tolist()\n",
    "    passage =  df_passage[df_passage['pid'].isin(bm25_related_passage)]['passage'].tolist()\n",
    "\n",
    "    try:\n",
    "        query_embedding = bi_encoder.encode(query, convert_to_tensor=True, show_progress_bar=False)\n",
    "        passage_embeddings = bi_encoder.encode(passage, convert_to_tensor=True, show_progress_bar=False)\n",
    "        # TODO\n",
    "        '''\n",
    "        check similarity between query and passage, with methods is better for this task?\n",
    "        util.dot_score\n",
    "        util.cos_sim\n",
    "        util.pairwise_dot_score\n",
    "        util.pairwise_cos_sim\n",
    "        '''\n",
    "        hit = util.semantic_search(query_embedding, passage_embeddings, top_k=10)[0]\n",
    "        mapping = {index : row['docno'] for index, row in bm25_result.iterrows()}\n",
    "\n",
    "    except:\n",
    "        #len passage is 0 but why ?\n",
    "        print(f\"len passage : {len(passage)}, qury : {query}\")\n",
    "        query_embedding = bi_encoder.encode(query, convert_to_tensor=True, show_progress_bar=False)\n",
    "        passage = df_passage['passage'].tolist()\n",
    "        passage_embeddings = bi_encoder.encode(passage, convert_to_tensor=True, show_progress_bar=False)\n",
    "\n",
    "        hit = util.semantic_search(query_embedding, passage_embeddings, top_k=top_k)[0]\n",
    "        mapping = {index : row['pid'] for index, row in df_passage.iterrows()}\n",
    "\n",
    "    for i in range(len(hit)):\n",
    "        hit[i]['corpus_id'] = mapping[hit[i]['corpus_id']]\n",
    "    hit = sorted(hit, key=lambda x: x['score'], reverse=True)\n",
    "    bm25_biencoder_hit.append(hit)\n",
    "\n",
    "df_run = save_query_passage_retrieval(bm25_biencoder_hit, tag, run_save=True, df_query=df_query_dev)\n",
    "\n",
    "print(bi_model_name, \"BM25 hits with BiEncoder\")\n",
    "!python QQA23_TaskA_eval.py \\\n",
    "    -r \"../data/runs/SimCSE_bmbiencd4.tsv\" \\\n",
    "    -q \"../data/qrels/QQA23_TaskA_qrels_dev.gold\"\n",
    "# df_run"
   ]
  },
  {
   "cell_type": "markdown",
   "metadata": {
    "ExecuteTime": {
     "end_time": "2023-08-11T05:47:42.914442500Z",
     "start_time": "2023-08-11T05:47:22.960408800Z"
    },
    "collapsed": false
   },
   "source": [
    "## Re-ranker (Cross-Encoder)"
   ]
  },
  {
   "cell_type": "code",
   "execution_count": null,
   "metadata": {
    "collapsed": false
   },
   "outputs": [],
   "source": [
    "#TODO:\n",
    "'''\n",
    "https://github.com/Guzpenha/transformer_rankers\n",
    "https://colab.research.google.com/drive/1wGmaO3emC7Sg-tA7nGehIQ2vjOLN9S5e?usp=sharing#scrollTo=y9ps5zmOHxe4\n",
    "'''\n",
    "\n",
    "# cross_model_name = \"cross-encoder/ms-marco-MiniLM-L-6-v2\"\n",
    "# cross_model_name = \"cross-encoder/ms-marco-TinyBERT-L-2\"\n",
    "# cross_model_name = \"distilroberta-base\"\n",
    "# cross_model_name = \"amberoad/bert-multilingual-passage-reranking-msmarco\"\n",
    "# cross_model_name = \"ZeyadAhmed/AraElectra-Arabic-SQuADv2-CLS\""
   ]
  },
  {
   "cell_type": "code",
   "execution_count": null,
   "metadata": {
    "collapsed": false
   },
   "outputs": [],
   "source": [
    "# torch.cuda.empty_cache()\n",
    "#https://sbert.net/docs/package_reference/cross_encoder.html\n",
    "\n",
    "# cross_encoder = CrossEncoder(cross_model_name)\n",
    "# warmup_steps = math.ceil(len(train_qp_dataloader) * num_epochs * 0.1) #10% of train data for warm-up\n",
    "# logging.info(\"Warmup-steps: {}\".format(warmup_steps))\n",
    "#\n",
    "# cross_encoder.fit(train_qp_dataloader,\n",
    "#           # evaluator=dev_evaluator,\n",
    "#           epochs=num_epochs,\n",
    "#           evaluation_steps=100,\n",
    "#           warmup_steps=warmup_steps,\n",
    "#           output_path=model_save_path\n",
    "#           )"
   ]
  },
  {
   "cell_type": "code",
   "execution_count": null,
   "metadata": {
    "collapsed": false
   },
   "outputs": [],
   "source": [
    "# tag = \"SimCSE_cross\"\n",
    "# df_final = pd.DataFrame()\n",
    "# for qid, filter_passages in df_run.groupby('qid'):\n",
    "#     cross_inp = []\n",
    "#     q = df_query_dev[df_query_dev['qid'] == qid]\n",
    "#     for x in filter_passages.values:\n",
    "#         p = df_passage[df_passage['pid'] == x[2]]\n",
    "#         cross_inp.append([q['query'].tolist()[0], p['passage'].tolist()[0]])\n",
    "#\n",
    "#     similarity_scores = cross_encoder.predict(cross_inp, show_progress_bar=False)\n",
    "#\n",
    "#     # Sort the scores in decreasing order\n",
    "#     sim_scores_argsort = reversed(np.argsort(similarity_scores))\n",
    "#\n",
    "#     print(len(similarity_scores))\n",
    "#     print(len(filter_passages['pid'].values))\n",
    "#     df_temp = pd.DataFrame({'qid': qid, 'pid': filter_passages['pid'].values, 'score': similarity_scores})\n",
    "#     df_temp = df_temp.sort_values(by=['score'], ascending=False)[:10]\n",
    "#     df_temp['rank'] = range(1, len(df_temp) + 1)\n",
    "#\n",
    "#     df_final = pd.concat([df_final, df_temp], ignore_index=True)\n",
    "#\n",
    "# df_final = save_query_passage_retrieval(df_final, tag, run_save=True)\n",
    "#\n",
    "# print(\"cross-encoder model name\", cross_model_name)\n",
    "# ! python QQA23_TaskA_eval.py \\\n",
    "#     -r \"../data/runs/SimCSE_cross.tsv\" \\\n",
    "#     -q \"../data/qrels/QQA23_TaskA_qrels_train.gold\"\n",
    "# df_final"
   ]
  },
  {
   "attachments": {},
   "cell_type": "markdown",
   "metadata": {},
   "source": [
    "# Evaluation"
   ]
  },
  {
   "cell_type": "code",
   "execution_count": null,
   "metadata": {
    "collapsed": false
   },
   "outputs": [],
   "source": [
    "# ! python QQA23_TaskA_eval.py \\\n",
    "#     -r \"../data/runs/BM25_Final.tsv\" \\\n",
    "#     -q \"../data/qrels/QQA23_TaskA_qrels_dev.gold\""
   ]
  },
  {
   "cell_type": "code",
   "execution_count": null,
   "metadata": {},
   "outputs": [],
   "source": [
    "# ! python QQA23_TaskA_eval.py \\\n",
    "#     -r \"../data/runs/bigIR_BM25.tsv\" \\\n",
    "#     -q \"../data/qrels/QQA23_TaskA_qrels_dev.gold\""
   ]
  },
  {
   "cell_type": "code",
   "execution_count": null,
   "metadata": {},
   "outputs": [],
   "source": [
    "# ! python QQA23_TaskA_eval.py \\\n",
    "#     -r \"../data/runs/dev_perfect.tsv\" \\\n",
    "#     -q \"../data/qrels/QQA23_TaskA_qrels_dev.gold\""
   ]
  }
 ],
 "metadata": {
  "kernelspec": {
   "display_name": "tweetEnv",
   "language": "python",
   "name": "python3"
  },
  "language_info": {
   "codemirror_mode": {
    "name": "ipython",
    "version": 3
   },
   "file_extension": ".py",
   "mimetype": "text/x-python",
   "name": "python",
   "nbconvert_exporter": "python",
   "pygments_lexer": "ipython3",
   "version": "3.8.5"
  },
  "orig_nbformat": 4
 },
 "nbformat": 4,
 "nbformat_minor": 2
}
