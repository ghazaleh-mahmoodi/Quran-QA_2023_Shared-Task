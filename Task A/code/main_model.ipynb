{
 "cells": [
  {
   "cell_type": "markdown",
   "source": [
    "# Task A: Arabic Passage Retrieval"
   ],
   "metadata": {
    "collapsed": false
   }
  },
  {
   "cell_type": "markdown",
   "source": [
    "# Import Libraries"
   ],
   "metadata": {
    "collapsed": false
   }
  },
  {
   "cell_type": "code",
   "execution_count": 1,
   "metadata": {
    "ExecuteTime": {
     "end_time": "2023-09-02T22:11:22.430314400Z",
     "start_time": "2023-09-02T22:11:19.790821600Z"
    }
   },
   "outputs": [
    {
     "name": "stdout",
     "output_type": "stream",
     "text": [
      "2.0.1+cu118\n",
      "True\n",
      "NVIDIA GeForce RTX 3090\n"
     ]
    },
    {
     "name": "stderr",
     "output_type": "stream",
     "text": [
      "[nltk_data] Downloading package punkt to\n",
      "[nltk_data]     C:\\Users\\yegmo\\AppData\\Roaming\\nltk_data...\n",
      "[nltk_data]   Package punkt is already up-to-date!\n"
     ]
    }
   ],
   "source": [
    "\n",
    "import math\n",
    "import os\n",
    "import re\n",
    "\n",
    "import arabicstopwords.arabicstopwords as ar_stp\n",
    "import nltk\n",
    "import numpy as np\n",
    "import pandas as pd\n",
    "import pyterrier as pt\n",
    "import torch\n",
    "from datasets import load_dataset\n",
    "from sentence_transformers import SentenceTransformer, util, InputExample\n",
    "from sentence_transformers import evaluation\n",
    "from sentence_transformers import models, losses, datasets\n",
    "from snowballstemmer import stemmer\n",
    "from torch import nn\n",
    "# from simcse import SimSCE\n",
    "from torch.utils.data import DataLoader\n",
    "\n",
    "nltk.download('punkt')\n",
    "\n",
    "print(torch.__version__)\n",
    "print(torch.cuda.is_available())\n",
    "# print(torch.cuda.device_count())\n",
    "# print(torch.cuda.current_device())\n",
    "print(torch.cuda.get_device_name(0))"
   ]
  },
  {
   "cell_type": "markdown",
   "source": [
    "# Get Data"
   ],
   "metadata": {
    "collapsed": false,
    "ExecuteTime": {
     "end_time": "2023-08-11T08:04:53.469544200Z",
     "start_time": "2023-08-11T08:04:53.454643500Z"
    }
   },
   "outputs": [
    {
     "name": "stdout",
     "output_type": "stream",
     "text": [
      "2.0.1+cu118\n",
      "True\n",
      "1\n",
      "0\n",
      "NVIDIA GeForce RTX 3090\n"
     ]
    }
   ],
   "execution_count": 3
  },
  {
   "cell_type": "code",
   "execution_count": 2,
   "outputs": [],
   "source": [
    "data_path = \"../data\"\n",
    "index_path = os.path.join(data_path, \"QPC_Index/data.properties\")\n",
    "\n",
    "query_train_path = os.path.join(data_path, \"QQA23_TaskA_train.tsv\")\n",
    "query_dev_path = os.path.join(data_path, \"QQA23_TaskA_dev.tsv\")\n",
    "query_test_path = os.path.join(data_path, \"QQA23_TaskA_test.tsv\")\n",
    "\n",
    "passage_path = os.path.join(data_path, \"Thematic_QPC/QQA23_TaskA_QPC_v1.1.tsv\")\n",
    "\n",
    "qp_pair_train_path = os.path.join(data_path, \"qrels\\QQA23_TaskA_qrels_train.gold\")\n",
    "qp_pair_dev_path = os.path.join(data_path, \"qrels\\QQA23_TaskA_qrels_dev.gold\")\n",
    "\n",
    "task_B_train_path = os.path.join(data_path, \"Task B data/QQA23_TaskB_qrcd_v1.2_train_preprocessed.jsonl\")"
   ],
   "metadata": {
    "collapsed": false,
    "ExecuteTime": {
     "end_time": "2023-09-02T22:11:22.445337300Z",
     "start_time": "2023-09-02T22:11:22.430314400Z"
    }
   }
  },
  {
   "cell_type": "markdown",
   "source": [
    "## Read file"
   ],
   "metadata": {
    "collapsed": false,
    "ExecuteTime": {
     "end_time": "2023-08-11T05:37:35.422287500Z",
     "start_time": "2023-08-11T05:37:35.406190400Z"
    }
   },
   "outputs": [],
   "execution_count": 3
  },
  {
   "cell_type": "code",
   "execution_count": 3,
   "outputs": [],
   "source": [
    "def read_file(input_file, sep=\"\\t\", names=\"\"):\n",
    "    if input_file.endswith(\".xlsx\"):\n",
    "        df = pd.read_excel(input_file)\n",
    "    else:\n",
    "        if names != \"\":\n",
    "            df = pd.read_csv(input_file, sep=sep, names=names, encoding=\"utf-8\")\n",
    "        else:\n",
    "            df = pd.read_csv(input_file, sep=sep, encoding=\"utf-8\")\n",
    "    return df\n",
    "\n",
    "\n",
    "qrels_columns = [\"qid\", \"Q0\", \"docid\", \"relevance\"]\n",
    "\n",
    "\n",
    "def read_qrels_file(qrels_file_path):\n",
    "    # split_token = '\\t' if format_checker.is_tab_sparated(qrels_file) else  \"\\s+\"\n",
    "    df_qrels = pd.read_csv(qrels_file_path, sep='\\t', names=qrels_columns)\n",
    "    df_qrels[\"qid\"] = df_qrels[\"qid\"].astype(str)\n",
    "    df_qrels[\"docid\"] = df_qrels[\"docid\"].astype(str)\n",
    "    return df_qrels"
   ],
   "metadata": {
    "collapsed": false,
    "ExecuteTime": {
     "end_time": "2023-09-02T22:11:22.489364400Z",
     "start_time": "2023-09-02T22:11:22.444336700Z"
    }
   }
  },
  {
   "cell_type": "markdown",
   "source": [
    "## Load Index"
   ],
   "metadata": {
    "collapsed": false
   }
  },
  {
   "cell_type": "code",
   "execution_count": 4,
   "outputs": [],
   "source": [
    "def load_index(index_path):\n",
    "    if not pt.started():\n",
    "        pt.init(helper_version=\"0.0.6\")\n",
    "\n",
    "    try:\n",
    "        index = pt.IndexFactory.of(index_path)\n",
    "        print(\"Index was loaded successfully from this path: \", index_path)\n",
    "        return index\n",
    "    except Exception as e:\n",
    "        print('Cannot load the index, check exception details {}'.format(e))\n",
    "        return []"
   ],
   "metadata": {
    "collapsed": false,
    "ExecuteTime": {
     "end_time": "2023-09-02T22:11:22.497878Z",
     "start_time": "2023-09-02T22:11:22.459847Z"
    }
   }
  },
  {
   "cell_type": "code",
   "execution_count": 5,
   "outputs": [
    {
     "name": "stderr",
     "output_type": "stream",
     "text": [
      "PyTerrier 0.9.2 has loaded Terrier 5.7 (built by craigm on 2022-11-10 18:30) and terrier-helper 0.0.6\n",
      "\n"
     ]
    },
    {
     "name": "stdout",
     "output_type": "stream",
     "text": [
      "Index was loaded successfully from this path:  ../data\\QPC_Index/data.properties\n"
     ]
    }
   ],
   "source": [
    "# load index for BM25 retrieval\n",
    "index = load_index(index_path=index_path)"
   ],
   "metadata": {
    "collapsed": false,
    "ExecuteTime": {
     "end_time": "2023-09-02T22:11:22.903095800Z",
     "start_time": "2023-09-02T22:11:22.489364400Z"
    }
   }
  },
  {
   "attachments": {},
   "cell_type": "markdown",
   "metadata": {
    "ExecuteTime": {
     "end_time": "2023-08-11T05:37:37.652006400Z",
     "start_time": "2023-08-11T05:37:37.639499500Z"
    }
   },
   "source": [
    "## Cleaning & Preprocessing\n",
    "Clean text from urls, handles, special characters, tabs, line jumps, extra white space, and puntuations.\n",
    "Preprocess the arabic input text by performing normalization, stemming, and removing stop words."
   ],
   "outputs": [],
   "execution_count": 6
  },
  {
   "cell_type": "code",
   "execution_count": 6,
   "metadata": {
    "ExecuteTime": {
     "end_time": "2023-09-02T22:11:22.929103800Z",
     "start_time": "2023-09-02T22:11:22.899552800Z"
    }
   },
   "outputs": [],
   "source": [
    "def clean(text):\n",
    "    text = re.sub(r\"http\\S+\", \" \", text)  # remove urls\n",
    "    text = re.sub(r\"@[\\w]*\", \" \", text)  # remove handles\n",
    "    text = re.sub(r\"[\\.\\,\\#_\\|\\:\\?\\?\\/\\=]\", \" \", text)  # remove special characters\n",
    "    text = re.sub(r\"\\t\", \" \", text)  # remove tabs\n",
    "    text = re.sub(r\"\\n\", \" \", text)  # remove line jump\n",
    "    text = re.sub(r\"\\s+\", \" \", text)  # remove extra white space\n",
    "    text = re.sub(r'[^\\w\\s]', '', text)  # Removing punctuations in string using regex\n",
    "    text = text.strip()\n",
    "    return text"
   ]
  },
  {
   "cell_type": "code",
   "execution_count": 7,
   "metadata": {
    "ExecuteTime": {
     "end_time": "2023-09-02T22:11:22.938666700Z",
     "start_time": "2023-09-02T22:11:22.918071900Z"
    }
   },
   "outputs": [],
   "source": [
    "def ar_remove_stop_words(sentence):\n",
    "    terms = []\n",
    "    stopWords = set(ar_stp.stopwords_list())\n",
    "    for term in sentence.split():\n",
    "        if term not in stopWords:\n",
    "            terms.append(term)\n",
    "    return \" \".join(terms)\n",
    "\n",
    "\n",
    "def normalize_arabic(text):\n",
    "    text = re.sub(\"[إأٱآا]\", \"ا\", text)\n",
    "    text = re.sub(\"ى\", \"ي\", text)\n",
    "    text = re.sub(\"ؤ\", \"ء\", text)\n",
    "    text = re.sub(\"ئ\", \"ء\", text)\n",
    "    text = re.sub(\"ة\", \"ه\", text)\n",
    "    return (text)\n",
    "\n",
    "\n",
    "ar_stemmer = stemmer(\"arabic\")\n",
    "\n",
    "\n",
    "def ar_stem(sentence):\n",
    "    return \" \".join([ar_stemmer.stemWord(i) for i in sentence.split()])\n",
    "\n",
    "\n",
    "def preprocess_arabic(text):\n",
    "    text = normalize_arabic(text)\n",
    "    text = ar_remove_stop_words(text)\n",
    "    text = ar_stem(text)\n",
    "    return text\n",
    "\n",
    "\n",
    "def prepare_data(path, column, id_type, id_column='docno'):\n",
    "    df = read_file(path, names=['docno', 'text'])\n",
    "\n",
    "    df[column] = df['text'].apply(clean)\n",
    "    df[column] = df[column].apply(preprocess_arabic)\n",
    "\n",
    "    df[id_type] = df[id_column].astype(str)  # convert the id column to string\n",
    "    df = df[[id_type, 'text', column]]  # keep the columns needed for search\n",
    "\n",
    "    return df"
   ]
  },
  {
   "cell_type": "code",
   "execution_count": 8,
   "outputs": [],
   "source": [
    "df_passage = prepare_data(passage_path, 'passage', 'pid')\n",
    "\n",
    "df_query_train = prepare_data(query_train_path, 'query', 'qid')\n",
    "df_query_dev = prepare_data(query_dev_path, 'query', 'qid')\n",
    "df_query_test = prepare_data(query_test_path, 'query', 'qid')\n",
    "\n",
    "df_qppair_train = read_qrels_file(qp_pair_train_path)\n",
    "df_qppair_dev = read_qrels_file(qp_pair_dev_path)"
   ],
   "metadata": {
    "collapsed": false,
    "ExecuteTime": {
     "end_time": "2023-09-02T22:11:26.388198Z",
     "start_time": "2023-09-02T22:11:22.931111400Z"
    }
   }
  },
  {
   "cell_type": "markdown",
   "source": [
    "# Model - Sentence Embedding"
   ],
   "metadata": {
    "collapsed": false
   }
  },
  {
   "cell_type": "markdown",
   "source": [
    "## Convert Data to SentenceTransformer InputFormat"
   ],
   "metadata": {
    "collapsed": false
   }
  },
  {
   "cell_type": "code",
   "execution_count": 9,
   "outputs": [],
   "source": [
    "# contrastive: query-passage double pair with relevance label = 1 (positive) and not found BM25 top-k passages with relevance label = 0 (negative)\n",
    "def get_qp_contrastive_data():\n",
    "    top_k = 1000\n",
    "    print(\"top_k =\", top_k)\n",
    "    train_samples_qp_contrastive = []\n",
    "\n",
    "    BM25_model = pt.BatchRetrieve(index, controls={\"wmodel\": \"BM25\"}, num_results=top_k)\n",
    "\n",
    "    for _, row in df_qppair_train.groupby('qid'):\n",
    "        query_id = row['qid'].tolist()[0]\n",
    "        query = df_query_train[df_query_train['qid'] == query_id]['query'].tolist()[0]\n",
    "        bm25_related_passage = BM25_model.search(query)['docno'].tolist()\n",
    "        positive_passage = row['docid'].tolist()\n",
    "        negative_passage = list(set(bm25_related_passage) - set(positive_passage))\n",
    "\n",
    "        for pos_passage in positive_passage:\n",
    "            if pos_passage == '-1':\n",
    "                continue\n",
    "            else:\n",
    "                passage = df_passage[df_passage['pid'] == pos_passage]['passage'].tolist()[0]\n",
    "                label = 1\n",
    "                #positive sample\n",
    "                train_samples_qp_contrastive.append(InputExample(texts=[query, passage], label=label))\n",
    "                train_samples_qp_contrastive.append(InputExample(texts=[passage, query], label=label))\n",
    "\n",
    "        for neg_passage in negative_passage:\n",
    "            if neg_passage == '-1':\n",
    "                continue\n",
    "            else:\n",
    "                passage = df_passage[df_passage['pid'] == neg_passage]['passage'].tolist()[0]\n",
    "                label = 0\n",
    "                #negative sample\n",
    "                train_samples_qp_contrastive.append(InputExample(texts=[query, passage], label=label))\n",
    "                train_samples_qp_contrastive.append(InputExample(texts=[passage, query], label=label))\n",
    "\n",
    "    print(\"len(train_samples_qp_contrastive) =\", len(train_samples_qp_contrastive))\n",
    "    return train_samples_qp_contrastive"
   ],
   "metadata": {
    "collapsed": false,
    "ExecuteTime": {
     "end_time": "2023-09-02T22:11:26.404798300Z",
     "start_time": "2023-09-02T22:11:26.391180500Z"
    }
   }
  },
  {
   "cell_type": "code",
   "execution_count": 10,
   "outputs": [],
   "source": [
    "# multiple negative ranking: query-passage double pair with relevance label = 1 (positive)\n",
    "def get_qp_multi_neg_data():\n",
    "    train_samples_qp_multiple_negative_ranking = []\n",
    "\n",
    "    for _, row in df_qppair_train.groupby('qid'):\n",
    "        query_id = row['qid'].tolist()[0]\n",
    "        query = df_query_train[df_query_train['qid'] == query_id]['query'].tolist()[0]\n",
    "        positive_passage = row['docid'].tolist()\n",
    "        for pos_passage in positive_passage:\n",
    "            if pos_passage == '-1':\n",
    "                continue\n",
    "            else:\n",
    "                passage = df_passage[df_passage['pid'] == pos_passage]['passage'].tolist()[0]\n",
    "                label = 1\n",
    "                #positive sample\n",
    "                train_samples_qp_multiple_negative_ranking.append(InputExample(texts=[query, passage], label=label))\n",
    "                train_samples_qp_multiple_negative_ranking.append(InputExample(texts=[passage, query], label=label))\n",
    "    print(\"len(train_samples_qp_multiple_negative_ranking) =\", len(train_samples_qp_multiple_negative_ranking))\n",
    "    return train_samples_qp_multiple_negative_ranking"
   ],
   "metadata": {
    "collapsed": false,
    "ExecuteTime": {
     "end_time": "2023-09-02T22:11:26.426799200Z",
     "start_time": "2023-09-02T22:11:26.404798300Z"
    }
   }
  },
  {
   "cell_type": "code",
   "execution_count": 11,
   "outputs": [],
   "source": [
    "# triple: query-positive passage-negative passage; negative passage is not found in BM25 top-k passages\n",
    "def get_qp_triple_data():\n",
    "    top_k = 100\n",
    "    print(\"top_k =\", top_k)\n",
    "    train_samples_qp_triple = []\n",
    "\n",
    "    BM25_model = pt.BatchRetrieve(index, controls={\"wmodel\": \"BM25\"}, num_results=top_k)\n",
    "\n",
    "    for _, row in df_qppair_train.groupby('qid'):\n",
    "        query_id = row['qid'].tolist()[0]\n",
    "        query = df_query_train[df_query_train['qid'] == query_id]['query'].tolist()[0]\n",
    "        bm25_related_passage = BM25_model.search(query)['docno'].tolist()\n",
    "        positive_passage = row['docid'].tolist()\n",
    "        negative_passage = list(set(bm25_related_passage) - set(positive_passage))\n",
    "\n",
    "        for pos_passage_id in positive_passage:\n",
    "            for neg_passage_id in negative_passage:\n",
    "                if pos_passage_id == '-1':\n",
    "                    continue\n",
    "                else:\n",
    "                    pos_passage = df_passage[df_passage['pid'] == pos_passage_id]['passage'].tolist()[0]\n",
    "                    neg_passage = df_passage[df_passage['pid'] == neg_passage_id]['passage'].tolist()[0]\n",
    "                    train_samples_qp_triple.append(InputExample(texts=[query, pos_passage, neg_passage]))\n",
    "    print(\"len train_samples_qp_triple =\", len(train_samples_qp_triple))\n",
    "    return train_samples_qp_triple"
   ],
   "metadata": {
    "collapsed": false,
    "ExecuteTime": {
     "end_time": "2023-09-02T22:11:26.436368900Z",
     "start_time": "2023-09-02T22:11:26.422760300Z"
    }
   }
  },
  {
   "cell_type": "markdown",
   "source": [
    "### Additional Data"
   ],
   "metadata": {
    "collapsed": false
   }
  },
  {
   "cell_type": "markdown",
   "source": [
    "#### Mr. TyDi"
   ],
   "metadata": {
    "collapsed": false
   }
  },
  {
   "cell_type": "code",
   "execution_count": 12,
   "outputs": [],
   "source": [
    "#https://huggingface.co/datasets/castorini/mr-tydi\n",
    "def load_mr_tydi_data():\n",
    "    mr_tydi_dataset = load_dataset(\"castorini/mr-tydi\", \"arabic\", split=\"train\").to_pandas()\n",
    "\n",
    "    train_samples_mr_tydi_triple = []\n",
    "    for _, row in mr_tydi_dataset.iterrows():\n",
    "        query = row['query']\n",
    "        positive_passages = row['positive_passages']\n",
    "        negative_passages = row['negative_passages']\n",
    "\n",
    "        for pos_passage in positive_passages:\n",
    "            for neg_passage in negative_passages:\n",
    "                train_samples_mr_tydi_triple.append(InputExample(texts=[query, pos_passage, neg_passage]))\n",
    "\n",
    "    print(\"len(train_samples_mr_tydi_triple) =\", len(train_samples_mr_tydi_triple))\n",
    "    return train_samples_mr_tydi_triple"
   ],
   "metadata": {
    "collapsed": false,
    "ExecuteTime": {
     "end_time": "2023-09-02T22:11:26.455346700Z",
     "start_time": "2023-09-02T22:11:26.436368900Z"
    }
   }
  },
  {
   "cell_type": "markdown",
   "source": [
    "#### Task B Data"
   ],
   "metadata": {
    "collapsed": false
   }
  },
  {
   "cell_type": "code",
   "execution_count": 13,
   "outputs": [],
   "source": [
    "def load_task_b_data(task_B_train_path):\n",
    "    import json\n",
    "\n",
    "    train_passage_question_objects_task_B = []\n",
    "    with open(task_B_train_path, 'r', encoding='utf-8') as f:\n",
    "        for line in f:\n",
    "            train_passage_question_objects_task_B.append(json.loads(line.rstrip('\\n|\\r')))\n",
    "        print('Loaded {} records from {}'.format(len(train_passage_question_objects_task_B), task_B_train_path))\n",
    "\n",
    "    train_samples_qp_task_B = []\n",
    "    for passage_question_object in train_passage_question_objects_task_B:\n",
    "        query = passage_question_object[\"question\"]\n",
    "        passage = passage_question_object[\"passage\"]\n",
    "        if len(passage_question_object[\"answers\"]) > 0:\n",
    "            train_samples_qp_task_B.append(InputExample(texts=[query, passage], label=1))\n",
    "        else:\n",
    "            train_samples_qp_task_B.append(InputExample(texts=[query, passage], label=0))\n",
    "\n",
    "    train_passage_question_objects_task_B = pd.DataFrame(train_passage_question_objects_task_B)\n",
    "\n",
    "    print(\"len(train_samples_qp_task_B) =\", len(train_samples_qp_task_B))\n",
    "    return train_samples_qp_task_B"
   ],
   "metadata": {
    "collapsed": false,
    "ExecuteTime": {
     "end_time": "2023-09-02T22:11:26.467371600Z",
     "start_time": "2023-09-02T22:11:26.453346400Z"
    }
   }
  },
  {
   "cell_type": "markdown",
   "source": [
    "## Pre-Training"
   ],
   "metadata": {
    "collapsed": false
   }
  },
  {
   "cell_type": "markdown",
   "source": [
    "### TSDAE"
   ],
   "metadata": {
    "collapsed": false
   }
  },
  {
   "cell_type": "code",
   "execution_count": 14,
   "outputs": [],
   "source": [
    "def run_tsdae(model_name, train_samples_qp_task_B, batch_size, num_epochs, save_name):\n",
    "    word_embedding_model = models.Transformer(model_name)\n",
    "    pooling_model = models.Pooling(word_embedding_model.get_word_embedding_dimension(), 'cls')\n",
    "    model = SentenceTransformer(modules=[word_embedding_model, pooling_model])\n",
    "\n",
    "    # Define a list with sentences (1k - 100k sentences)\n",
    "    train_sentences = df_passage['passage'].tolist()\n",
    "    # Create the special denoising dataset that adds noise on-the-fly\n",
    "    train_dataset = datasets.DenoisingAutoEncoderDataset(train_sentences)\n",
    "    train_dataloader = DataLoader(train_dataset, batch_size=batch_size, shuffle=True)\n",
    "\n",
    "    train_samples_qp_task_B_dataloader = DataLoader(train_samples_qp_task_B, batch_size=batch_size, shuffle=True)\n",
    "\n",
    "    # Use the denoising auto-encoder loss\n",
    "    train_loss = losses.DenoisingAutoEncoderLoss(model, decoder_name_or_path=model_name, tie_encoder_decoder=True)\n",
    "    constraint_loss = losses.ContrastiveLoss(model)\n",
    "\n",
    "    model.fit(\n",
    "        train_objectives=[(train_dataloader, train_loss), (train_samples_qp_task_B_dataloader, constraint_loss)],\n",
    "        epochs=num_epochs,\n",
    "        weight_decay=0,\n",
    "        scheduler='constantlr',\n",
    "        optimizer_params={'lr': 3e-5},\n",
    "        show_progress_bar=True\n",
    "    )\n",
    "\n",
    "    model_name = os.path.join(data_path, f'fine_tune/tsdae-model-{save_name}')\n",
    "    model.save(model_name)\n",
    "\n",
    "    return model_name"
   ],
   "metadata": {
    "collapsed": false,
    "ExecuteTime": {
     "end_time": "2023-09-02T22:11:26.505885800Z",
     "start_time": "2023-09-02T22:11:26.470368700Z"
    }
   }
  },
  {
   "cell_type": "markdown",
   "source": [
    "### SimCSE"
   ],
   "metadata": {
    "collapsed": false
   }
  },
  {
   "cell_type": "code",
   "execution_count": 29,
   "outputs": [],
   "source": [
    "def run_simcse(model_name, batch_size, num_epochs, save_name, train_samples_qp_task_B=None):\n",
    "    # Define your sentence transformer model using CLS pooling\n",
    "    word_embedding_model = models.Transformer(model_name, max_seq_length=164)\n",
    "    pooling_model = models.Pooling(word_embedding_model.get_word_embedding_dimension())\n",
    "    model = SentenceTransformer(modules=[word_embedding_model, pooling_model])\n",
    "\n",
    "    train_objectives = []\n",
    "\n",
    "    # Define a list with sentences (1k - 100k sentences)\n",
    "    train_sentences = df_passage['passage'].tolist()\n",
    "    # Convert train sentences to sentence pairs\n",
    "    train_data = [InputExample(texts=[s, s]) for s in train_sentences]\n",
    "    train_dataloader = DataLoader(train_data, batch_size=batch_size, shuffle=True)\n",
    "    train_loss = losses.MultipleNegativesRankingLoss(model)\n",
    "    train_objectives.append((train_dataloader, train_loss))\n",
    "\n",
    "    if train_samples_qp_task_B:\n",
    "        train_samples_qp_task_B_dataloader = DataLoader(train_samples_qp_task_B, batch_size=batch_size, shuffle=True)\n",
    "        constraint_loss = losses.ContrastiveLoss(model)\n",
    "        train_objectives.append((train_samples_qp_task_B_dataloader, constraint_loss))\n",
    "\n",
    "    model.fit(\n",
    "        train_objectives=train_objectives,\n",
    "        epochs=num_epochs,\n",
    "        show_progress_bar=True)\n",
    "\n",
    "    model_name = os.path.join(data_path, f'fine_tune/simcse-model-{save_name}')\n",
    "    model.save(model_name)\n",
    "\n",
    "    return model_name"
   ],
   "metadata": {
    "collapsed": false,
    "ExecuteTime": {
     "end_time": "2023-09-04T06:51:44.805519300Z",
     "start_time": "2023-09-04T06:51:44.789497100Z"
    }
   }
  },
  {
   "cell_type": "markdown",
   "source": [
    "# Bi-Encoder"
   ],
   "metadata": {
    "collapsed": false
   }
  },
  {
   "cell_type": "markdown",
   "source": [
    "### Fine-Tuning"
   ],
   "metadata": {
    "collapsed": false
   }
  },
  {
   "cell_type": "code",
   "execution_count": 16,
   "outputs": [],
   "source": [
    "def build_biencoder(sentence_embedder, max_seq_len):\n",
    "    # Use Huggingface/transformers model (like BERT, RoBERTa, XLNet, XLM-R) for mapping tokens to embeddings\n",
    "    word_embedding_model = models.Transformer(sentence_embedder, max_seq_length=max_seq_len)\n",
    "    print(\"word_embedding_model Max Sequence Length:\", word_embedding_model.max_seq_length)\n",
    "    print(\"word_embedding_model dimension\", word_embedding_model.get_word_embedding_dimension())\n",
    "\n",
    "    # Apply mean pooling to get one fixed sized sentence vector\n",
    "    pooling_model = models.Pooling(word_embedding_model.get_word_embedding_dimension())\n",
    "    print(\"pooling_model sentence embedding dimension\", pooling_model.get_sentence_embedding_dimension())\n",
    "\n",
    "    dense_model = models.Dense(in_features=pooling_model.get_sentence_embedding_dimension(), out_features=512,\n",
    "                               activation_function=nn.Tanh())\n",
    "    bi_encoder = SentenceTransformer(modules=[word_embedding_model, pooling_model, dense_model])\n",
    "\n",
    "    return bi_encoder"
   ],
   "metadata": {
    "collapsed": false,
    "ExecuteTime": {
     "end_time": "2023-09-02T22:11:26.514890400Z",
     "start_time": "2023-09-02T22:11:26.499884Z"
    }
   }
  },
  {
   "cell_type": "code",
   "execution_count": 17,
   "outputs": [],
   "source": [
    "def train_biencoder(bi_encoder, train_objectives, batch_size, num_epochs, warmup_steps):\n",
    "    torch.cuda.empty_cache()\n",
    "\n",
    "    dev_evaluator = evaluation.InformationRetrievalEvaluator(\n",
    "        df_query_dev.groupby('qid')['query'].apply(str).to_dict(),\n",
    "        df_passage.groupby('pid')['passage'].apply(str).to_dict(),\n",
    "        df_qppair_dev.groupby('qid')['docid'].apply(set).to_dict(),\n",
    "        accuracy_at_k=[10],\n",
    "        precision_recall_at_k=[10],\n",
    "        map_at_k=[10], mrr_at_k=[10]\n",
    "    )\n",
    "\n",
    "    # multi-task training\n",
    "    print(\"train_batch_size\", batch_size)\n",
    "    bi_encoder.fit(\n",
    "        train_objectives=train_objectives,\n",
    "        evaluator=dev_evaluator,\n",
    "        epochs=num_epochs,\n",
    "        evaluation_steps=301,\n",
    "        warmup_steps=warmup_steps,\n",
    "        # output_path=\"D:/IR/Quran_QA/Task A/data/fine_tune_simcse-model_MultiTaskTraining_3epoch_64batchsize_contraintive_multiple_negative_ranking\"\n",
    "    )\n",
    "\n",
    "    return bi_encoder"
   ],
   "metadata": {
    "collapsed": false,
    "ExecuteTime": {
     "end_time": "2023-09-02T22:11:26.543408300Z",
     "start_time": "2023-09-02T22:11:26.515889900Z"
    }
   }
  },
  {
   "cell_type": "markdown",
   "source": [
    "### Encode"
   ],
   "metadata": {
    "collapsed": false
   }
  },
  {
   "cell_type": "code",
   "execution_count": 18,
   "outputs": [],
   "source": [
    "def encode_by_biencoder(encoder):\n",
    "    passage_embeddings = encoder.encode(df_passage['passage'].tolist(), convert_to_tensor=True,\n",
    "                                        show_progress_bar=True)\n",
    "    query_train_embeddings = encoder.encode(df_query_train['query'].tolist(), convert_to_tensor=True,\n",
    "                                            show_progress_bar=True)\n",
    "    query_dev_embeddings = encoder.encode(df_query_dev['query'].tolist(), convert_to_tensor=True,\n",
    "                                          show_progress_bar=True)\n",
    "    query_tset_embeddings = encoder.encode(df_query_test['query'].tolist(), convert_to_tensor=True,\n",
    "                                           show_progress_bar=True)\n",
    "\n",
    "    # won't be returned therefore ignored\n",
    "    # df_passage['embedding'] = passage_embeddings.cpu().numpy().tolist()\n",
    "    # df_query_train['embedding'] = query_train_embeddings.cpu().numpy().tolist()\n",
    "    # df_query_dev['embedding'] = query_dev_embeddings.cpu().numpy().tolist()\n",
    "    # df_query_test['embedding'] = query_tset_embeddings.cpu().numpy().tolist()\n",
    "\n",
    "    return passage_embeddings, query_train_embeddings, query_dev_embeddings, query_tset_embeddings"
   ],
   "metadata": {
    "collapsed": false,
    "ExecuteTime": {
     "end_time": "2023-09-02T22:11:26.545409200Z",
     "start_time": "2023-09-02T22:11:26.531405400Z"
    }
   }
  },
  {
   "cell_type": "markdown",
   "source": [
    "### Evaluate - Semantic Search"
   ],
   "metadata": {
    "collapsed": false,
    "ExecuteTime": {
     "end_time": "2023-08-11T05:46:25.782885900Z",
     "start_time": "2023-08-11T05:44:41.894786800Z"
    }
   },
   "outputs": [
    {
     "name": "stdout",
     "output_type": "stream",
     "text": [
      "2023-08-10 22:44:41 - Warmup-steps: 45\n"
     ]
    },
    {
     "data": {
      "text/plain": "Epoch:   0%|          | 0/1 [00:00<?, ?it/s]",
      "application/vnd.jupyter.widget-view+json": {
       "version_major": 2,
       "version_minor": 0,
       "model_id": "bcc6162ce81a487ab3117f9ea8f9561c"
      }
     },
     "metadata": {},
     "output_type": "display_data"
    },
    {
     "data": {
      "text/plain": "Iteration:   0%|          | 0/450 [00:00<?, ?it/s]",
      "application/vnd.jupyter.widget-view+json": {
       "version_major": 2,
       "version_minor": 0,
       "model_id": "a806fa4399334ed995b40f378b05711f"
      }
     },
     "metadata": {},
     "output_type": "display_data"
    },
    {
     "ename": "KeyboardInterrupt",
     "evalue": "",
     "output_type": "error",
     "traceback": [
      "\u001B[1;31m---------------------------------------------------------------------------\u001B[0m",
      "\u001B[1;31mKeyboardInterrupt\u001B[0m                         Traceback (most recent call last)",
      "Cell \u001B[1;32mIn[30], line 7\u001B[0m\n\u001B[0;32m      2\u001B[0m logging\u001B[38;5;241m.\u001B[39minfo(\u001B[38;5;124m\"\u001B[39m\u001B[38;5;124mWarmup-steps: \u001B[39m\u001B[38;5;132;01m{}\u001B[39;00m\u001B[38;5;124m\"\u001B[39m\u001B[38;5;241m.\u001B[39mformat(warmup_steps))\n\u001B[0;32m      4\u001B[0m \u001B[38;5;66;03m# logging.info(\"Performance before training\")\u001B[39;00m\n\u001B[0;32m      5\u001B[0m \u001B[38;5;66;03m# dev_evaluator(model)\u001B[39;00m\n\u001B[1;32m----> 7\u001B[0m \u001B[43mbi_encoder\u001B[49m\u001B[38;5;241;43m.\u001B[39;49m\u001B[43mfit\u001B[49m\u001B[43m(\u001B[49m\u001B[43mtrain_objectives\u001B[49m\u001B[38;5;241;43m=\u001B[39;49m\u001B[43m[\u001B[49m\u001B[43m(\u001B[49m\u001B[43mtrain_biencoder_dataloader\u001B[49m\u001B[43m,\u001B[49m\u001B[43m \u001B[49m\u001B[43mtrain_biencoder_loss\u001B[49m\u001B[43m)\u001B[49m\u001B[43m]\u001B[49m\u001B[43m,\u001B[49m\n\u001B[0;32m      8\u001B[0m \u001B[43m          \u001B[49m\u001B[38;5;66;43;03m# evaluator=dev_evaluator,\u001B[39;49;00m\n\u001B[0;32m      9\u001B[0m \u001B[43m          \u001B[49m\u001B[43mepochs\u001B[49m\u001B[38;5;241;43m=\u001B[39;49m\u001B[43mnum_epochs\u001B[49m\u001B[43m,\u001B[49m\n\u001B[0;32m     10\u001B[0m \u001B[43m          \u001B[49m\u001B[43mevaluation_steps\u001B[49m\u001B[38;5;241;43m=\u001B[39;49m\u001B[38;5;241;43m100\u001B[39;49m\u001B[43m,\u001B[49m\n\u001B[0;32m     11\u001B[0m \u001B[43m          \u001B[49m\u001B[43mwarmup_steps\u001B[49m\u001B[38;5;241;43m=\u001B[39;49m\u001B[43mwarmup_steps\u001B[49m\u001B[43m,\u001B[49m\n\u001B[0;32m     12\u001B[0m \u001B[43m          \u001B[49m\u001B[38;5;66;43;03m# output_path=model_save_path\u001B[39;49;00m\n\u001B[0;32m     13\u001B[0m \u001B[43m          \u001B[49m\u001B[43m)\u001B[49m\n",
      "File \u001B[1;32mC:\\Users\\gargo\\AppData\\Local\\Programs\\Python\\Python310\\lib\\site-packages\\sentence_transformers\\SentenceTransformer.py:722\u001B[0m, in \u001B[0;36mSentenceTransformer.fit\u001B[1;34m(self, train_objectives, evaluator, epochs, steps_per_epoch, scheduler, warmup_steps, optimizer_class, optimizer_params, weight_decay, evaluation_steps, output_path, save_best_model, max_grad_norm, use_amp, callback, show_progress_bar, checkpoint_path, checkpoint_save_steps, checkpoint_save_total_limit)\u001B[0m\n\u001B[0;32m    720\u001B[0m \u001B[38;5;28;01melse\u001B[39;00m:\n\u001B[0;32m    721\u001B[0m     loss_value \u001B[38;5;241m=\u001B[39m loss_model(features, labels)\n\u001B[1;32m--> 722\u001B[0m     \u001B[43mloss_value\u001B[49m\u001B[38;5;241;43m.\u001B[39;49m\u001B[43mbackward\u001B[49m\u001B[43m(\u001B[49m\u001B[43m)\u001B[49m\n\u001B[0;32m    723\u001B[0m     torch\u001B[38;5;241m.\u001B[39mnn\u001B[38;5;241m.\u001B[39mutils\u001B[38;5;241m.\u001B[39mclip_grad_norm_(loss_model\u001B[38;5;241m.\u001B[39mparameters(), max_grad_norm)\n\u001B[0;32m    724\u001B[0m     optimizer\u001B[38;5;241m.\u001B[39mstep()\n",
      "File \u001B[1;32mC:\\Users\\gargo\\AppData\\Local\\Programs\\Python\\Python310\\lib\\site-packages\\torch\\_tensor.py:487\u001B[0m, in \u001B[0;36mTensor.backward\u001B[1;34m(self, gradient, retain_graph, create_graph, inputs)\u001B[0m\n\u001B[0;32m    477\u001B[0m \u001B[38;5;28;01mif\u001B[39;00m has_torch_function_unary(\u001B[38;5;28mself\u001B[39m):\n\u001B[0;32m    478\u001B[0m     \u001B[38;5;28;01mreturn\u001B[39;00m handle_torch_function(\n\u001B[0;32m    479\u001B[0m         Tensor\u001B[38;5;241m.\u001B[39mbackward,\n\u001B[0;32m    480\u001B[0m         (\u001B[38;5;28mself\u001B[39m,),\n\u001B[1;32m   (...)\u001B[0m\n\u001B[0;32m    485\u001B[0m         inputs\u001B[38;5;241m=\u001B[39minputs,\n\u001B[0;32m    486\u001B[0m     )\n\u001B[1;32m--> 487\u001B[0m \u001B[43mtorch\u001B[49m\u001B[38;5;241;43m.\u001B[39;49m\u001B[43mautograd\u001B[49m\u001B[38;5;241;43m.\u001B[39;49m\u001B[43mbackward\u001B[49m\u001B[43m(\u001B[49m\n\u001B[0;32m    488\u001B[0m \u001B[43m    \u001B[49m\u001B[38;5;28;43mself\u001B[39;49m\u001B[43m,\u001B[49m\u001B[43m \u001B[49m\u001B[43mgradient\u001B[49m\u001B[43m,\u001B[49m\u001B[43m \u001B[49m\u001B[43mretain_graph\u001B[49m\u001B[43m,\u001B[49m\u001B[43m \u001B[49m\u001B[43mcreate_graph\u001B[49m\u001B[43m,\u001B[49m\u001B[43m \u001B[49m\u001B[43minputs\u001B[49m\u001B[38;5;241;43m=\u001B[39;49m\u001B[43minputs\u001B[49m\n\u001B[0;32m    489\u001B[0m \u001B[43m\u001B[49m\u001B[43m)\u001B[49m\n",
      "File \u001B[1;32mC:\\Users\\gargo\\AppData\\Local\\Programs\\Python\\Python310\\lib\\site-packages\\torch\\autograd\\__init__.py:200\u001B[0m, in \u001B[0;36mbackward\u001B[1;34m(tensors, grad_tensors, retain_graph, create_graph, grad_variables, inputs)\u001B[0m\n\u001B[0;32m    195\u001B[0m     retain_graph \u001B[38;5;241m=\u001B[39m create_graph\n\u001B[0;32m    197\u001B[0m \u001B[38;5;66;03m# The reason we repeat same the comment below is that\u001B[39;00m\n\u001B[0;32m    198\u001B[0m \u001B[38;5;66;03m# some Python versions print out the first line of a multi-line function\u001B[39;00m\n\u001B[0;32m    199\u001B[0m \u001B[38;5;66;03m# calls in the traceback and some print out the last line\u001B[39;00m\n\u001B[1;32m--> 200\u001B[0m \u001B[43mVariable\u001B[49m\u001B[38;5;241;43m.\u001B[39;49m\u001B[43m_execution_engine\u001B[49m\u001B[38;5;241;43m.\u001B[39;49m\u001B[43mrun_backward\u001B[49m\u001B[43m(\u001B[49m\u001B[43m  \u001B[49m\u001B[38;5;66;43;03m# Calls into the C++ engine to run the backward pass\u001B[39;49;00m\n\u001B[0;32m    201\u001B[0m \u001B[43m    \u001B[49m\u001B[43mtensors\u001B[49m\u001B[43m,\u001B[49m\u001B[43m \u001B[49m\u001B[43mgrad_tensors_\u001B[49m\u001B[43m,\u001B[49m\u001B[43m \u001B[49m\u001B[43mretain_graph\u001B[49m\u001B[43m,\u001B[49m\u001B[43m \u001B[49m\u001B[43mcreate_graph\u001B[49m\u001B[43m,\u001B[49m\u001B[43m \u001B[49m\u001B[43minputs\u001B[49m\u001B[43m,\u001B[49m\n\u001B[0;32m    202\u001B[0m \u001B[43m    \u001B[49m\u001B[43mallow_unreachable\u001B[49m\u001B[38;5;241;43m=\u001B[39;49m\u001B[38;5;28;43;01mTrue\u001B[39;49;00m\u001B[43m,\u001B[49m\u001B[43m \u001B[49m\u001B[43maccumulate_grad\u001B[49m\u001B[38;5;241;43m=\u001B[39;49m\u001B[38;5;28;43;01mTrue\u001B[39;49;00m\u001B[43m)\u001B[49m\n",
      "\u001B[1;31mKeyboardInterrupt\u001B[0m: "
     ]
    }
   ],
   "execution_count": 30
  },
  {
   "cell_type": "code",
   "execution_count": 19,
   "outputs": [],
   "source": [
    "def evaluate_biencoder(query_embeddings, passage_embeddings, df_query, tag):\n",
    "    hits = util.semantic_search(query_embeddings, passage_embeddings, top_k=10)\n",
    "    df_run = save_query_passage_retrieval(hits, tag, run_save=True, df_query=df_query, top_k=10)\n",
    "    return df_run"
   ],
   "metadata": {
    "collapsed": false,
    "ExecuteTime": {
     "end_time": "2023-09-02T22:11:26.561439500Z",
     "start_time": "2023-09-02T22:11:26.546409800Z"
    }
   }
  },
  {
   "cell_type": "code",
   "execution_count": 20,
   "outputs": [],
   "source": [
    "def save_query_passage_retrieval(result, tag, run_save=False, df_query=df_query_train, top_k=10):\n",
    "    if \"bienc_\" in tag:\n",
    "        np_result = np.array(result).flatten()\n",
    "        result = pd.DataFrame()\n",
    "\n",
    "        result[\"qid\"] = df_query[\"qid\"].tolist() * top_k\n",
    "        result = result.sort_values(by=['qid']).reset_index(drop=True)\n",
    "        result[\"Q0\"] = [\"Q0\"] * len(result)\n",
    "        result[\"pid\"] = [df_passage.iloc[x['corpus_id']]['pid'] for x in np_result]\n",
    "        result[\"rank\"] = list(range(1, top_k + 1)) * len(df_query)\n",
    "        result[\"score\"] = [x['score'] for x in np_result]\n",
    "        result[\"tag\"] = [tag] * len(np_result)\n",
    "\n",
    "    elif tag == \"SimCSE_bmbiencd\":\n",
    "        df_result = pd.DataFrame()\n",
    "        for i in range(len(bm25_biencoder_hit)):\n",
    "            for j in range(len(bm25_biencoder_hit[i])):\n",
    "                new_record = pd.DataFrame([{\"qid\": df_query_dev['qid'].tolist()[i],\n",
    "                                            \"Q0\": \"Q0\",\n",
    "                                            \"pid\": bm25_biencoder_hit[i][j]['corpus_id'],\n",
    "                                            \"rank\": j,\n",
    "                                            \"score\": bm25_biencoder_hit[i][j]['score'],\n",
    "                                            \"tag\": tag\n",
    "                                            }])\n",
    "                df_result = pd.concat([df_result, new_record], ignore_index=True)\n",
    "        result = df_result\n",
    "        print(type(result))\n",
    "\n",
    "    elif tag == \"BM25\":\n",
    "        result[\"Q0\"] = [\"Q0\"] * len(result)\n",
    "        result[\"tag\"] = [tag] * len(result)\n",
    "        result['qid'] = result[\"qid\"]\n",
    "        result['pid'] = result[\"docno\"]\n",
    "        tag = \"BM25_Final\"\n",
    "        result = result[[\"qid\", \"Q0\", \"pid\", \"rank\", \"score\", \"tag\"]]\n",
    "\n",
    "    elif tag == \"biencoder_cross\":\n",
    "        result['tag'] = tag\n",
    "        result['Q0'] = 'Q0'\n",
    "        result = result[[\"qid\", \"Q0\", \"pid\", \"rank\", \"score\", \"tag\"]]\n",
    "\n",
    "    if run_save:\n",
    "        run_save_path = os.path.join(data_path, f\"runs/{tag}.tsv\")\n",
    "        # print(run_save_path)\n",
    "        result.to_csv(run_save_path, sep=\"\\t\", index=False, header=False)\n",
    "\n",
    "    return result"
   ],
   "metadata": {
    "collapsed": false,
    "ExecuteTime": {
     "end_time": "2023-09-02T22:11:26.591959Z",
     "start_time": "2023-09-02T22:11:26.564439800Z"
    }
   }
  },
  {
   "cell_type": "markdown",
   "source": [
    "#  GYM Runs"
   ],
   "metadata": {
    "collapsed": false
   }
  },
  {
   "cell_type": "code",
   "execution_count": 22,
   "outputs": [
    {
     "name": "stdout",
     "output_type": "stream",
     "text": [
      "Loaded 992 records from ../data\\Task B data/QQA23_TaskB_qrcd_v1.2_train_preprocessed.jsonl\n",
      "len(train_samples_qp_task_B) = 992\n"
     ]
    },
    {
     "name": "stderr",
     "output_type": "stream",
     "text": [
      "When tie_encoder_decoder=True, the decoder_name_or_path will be invalid.\n",
      "Some weights of BertLMHeadModel were not initialized from the model checkpoint at aubmindlab/bert-base-arabert and are newly initialized: ['bert.encoder.layer.4.crossattention.self.key.weight', 'bert.encoder.layer.11.crossattention.output.LayerNorm.bias', 'bert.encoder.layer.10.crossattention.output.LayerNorm.weight', 'bert.encoder.layer.3.crossattention.self.query.bias', 'bert.encoder.layer.7.crossattention.self.key.weight', 'bert.encoder.layer.7.crossattention.self.value.weight', 'bert.encoder.layer.9.crossattention.self.key.bias', 'bert.encoder.layer.6.crossattention.self.value.bias', 'bert.encoder.layer.5.crossattention.output.dense.weight', 'bert.encoder.layer.11.crossattention.self.value.weight', 'bert.encoder.layer.4.crossattention.self.key.bias', 'bert.encoder.layer.4.crossattention.self.query.weight', 'bert.encoder.layer.8.crossattention.output.LayerNorm.weight', 'bert.encoder.layer.6.crossattention.output.LayerNorm.weight', 'bert.encoder.layer.1.crossattention.self.key.bias', 'bert.encoder.layer.4.crossattention.self.query.bias', 'bert.encoder.layer.11.crossattention.output.dense.bias', 'bert.encoder.layer.7.crossattention.self.key.bias', 'bert.encoder.layer.8.crossattention.output.dense.bias', 'bert.encoder.layer.0.crossattention.output.dense.weight', 'bert.encoder.layer.6.crossattention.self.query.bias', 'bert.encoder.layer.6.crossattention.output.dense.weight', 'bert.encoder.layer.0.crossattention.self.query.bias', 'bert.encoder.layer.3.crossattention.output.dense.bias', 'bert.encoder.layer.10.crossattention.output.dense.bias', 'bert.encoder.layer.9.crossattention.self.key.weight', 'bert.encoder.layer.7.crossattention.self.value.bias', 'bert.encoder.layer.1.crossattention.output.LayerNorm.bias', 'bert.encoder.layer.0.crossattention.self.key.weight', 'bert.encoder.layer.3.crossattention.self.value.weight', 'bert.encoder.layer.7.crossattention.self.query.bias', 'bert.encoder.layer.4.crossattention.output.dense.weight', 'bert.encoder.layer.3.crossattention.output.LayerNorm.weight', 'bert.encoder.layer.5.crossattention.self.key.weight', 'bert.encoder.layer.7.crossattention.output.dense.bias', 'bert.encoder.layer.3.crossattention.self.value.bias', 'bert.encoder.layer.6.crossattention.self.key.weight', 'bert.encoder.layer.8.crossattention.output.dense.weight', 'bert.encoder.layer.2.crossattention.self.value.weight', 'bert.encoder.layer.0.crossattention.self.key.bias', 'bert.encoder.layer.4.crossattention.output.LayerNorm.weight', 'bert.encoder.layer.9.crossattention.self.query.bias', 'bert.encoder.layer.7.crossattention.output.LayerNorm.weight', 'bert.encoder.layer.8.crossattention.output.LayerNorm.bias', 'bert.encoder.layer.9.crossattention.output.LayerNorm.weight', 'bert.encoder.layer.3.crossattention.self.key.bias', 'bert.encoder.layer.1.crossattention.output.dense.weight', 'bert.encoder.layer.3.crossattention.output.LayerNorm.bias', 'bert.encoder.layer.6.crossattention.self.value.weight', 'bert.encoder.layer.7.crossattention.output.dense.weight', 'bert.encoder.layer.8.crossattention.self.value.weight', 'bert.encoder.layer.10.crossattention.self.query.weight', 'bert.encoder.layer.10.crossattention.self.query.bias', 'bert.encoder.layer.9.crossattention.output.LayerNorm.bias', 'bert.encoder.layer.8.crossattention.self.query.bias', 'bert.encoder.layer.5.crossattention.self.value.bias', 'bert.encoder.layer.0.crossattention.output.dense.bias', 'bert.encoder.layer.2.crossattention.output.LayerNorm.weight', 'bert.encoder.layer.8.crossattention.self.query.weight', 'bert.encoder.layer.9.crossattention.self.value.bias', 'bert.encoder.layer.8.crossattention.self.value.bias', 'bert.encoder.layer.10.crossattention.self.key.bias', 'bert.encoder.layer.2.crossattention.output.LayerNorm.bias', 'bert.encoder.layer.8.crossattention.self.key.bias', 'bert.encoder.layer.2.crossattention.self.query.bias', 'bert.encoder.layer.0.crossattention.output.LayerNorm.weight', 'bert.encoder.layer.11.crossattention.self.key.bias', 'bert.encoder.layer.5.crossattention.self.key.bias', 'bert.encoder.layer.9.crossattention.output.dense.weight', 'bert.encoder.layer.1.crossattention.self.query.weight', 'bert.encoder.layer.2.crossattention.self.query.weight', 'bert.encoder.layer.10.crossattention.self.value.weight', 'bert.encoder.layer.11.crossattention.self.query.bias', 'bert.encoder.layer.9.crossattention.self.query.weight', 'bert.encoder.layer.5.crossattention.output.LayerNorm.weight', 'bert.encoder.layer.11.crossattention.self.key.weight', 'bert.encoder.layer.7.crossattention.output.LayerNorm.bias', 'bert.encoder.layer.9.crossattention.output.dense.bias', 'bert.encoder.layer.5.crossattention.output.LayerNorm.bias', 'bert.encoder.layer.5.crossattention.self.value.weight', 'bert.encoder.layer.4.crossattention.output.dense.bias', 'bert.encoder.layer.5.crossattention.output.dense.bias', 'bert.encoder.layer.6.crossattention.output.dense.bias', 'bert.encoder.layer.1.crossattention.output.LayerNorm.weight', 'bert.encoder.layer.11.crossattention.self.query.weight', 'bert.encoder.layer.2.crossattention.output.dense.bias', 'bert.encoder.layer.8.crossattention.self.key.weight', 'bert.encoder.layer.2.crossattention.output.dense.weight', 'bert.encoder.layer.2.crossattention.self.key.bias', 'bert.encoder.layer.0.crossattention.self.value.weight', 'bert.encoder.layer.0.crossattention.self.query.weight', 'bert.encoder.layer.3.crossattention.self.key.weight', 'bert.encoder.layer.2.crossattention.self.value.bias', 'bert.encoder.layer.1.crossattention.output.dense.bias', 'bert.encoder.layer.10.crossattention.self.key.weight', 'bert.encoder.layer.10.crossattention.self.value.bias', 'bert.encoder.layer.2.crossattention.self.key.weight', 'bert.encoder.layer.0.crossattention.output.LayerNorm.bias', 'bert.encoder.layer.11.crossattention.output.LayerNorm.weight', 'bert.encoder.layer.6.crossattention.self.key.bias', 'bert.encoder.layer.1.crossattention.self.value.weight', 'bert.encoder.layer.11.crossattention.output.dense.weight', 'bert.encoder.layer.4.crossattention.self.value.weight', 'bert.encoder.layer.7.crossattention.self.query.weight', 'bert.encoder.layer.5.crossattention.self.query.weight', 'bert.encoder.layer.5.crossattention.self.query.bias', 'bert.encoder.layer.10.crossattention.output.dense.weight', 'bert.encoder.layer.11.crossattention.self.value.bias', 'bert.encoder.layer.10.crossattention.output.LayerNorm.bias', 'bert.encoder.layer.6.crossattention.self.query.weight', 'bert.encoder.layer.0.crossattention.self.value.bias', 'bert.encoder.layer.1.crossattention.self.query.bias', 'bert.encoder.layer.1.crossattention.self.key.weight', 'bert.encoder.layer.6.crossattention.output.LayerNorm.bias', 'bert.encoder.layer.3.crossattention.self.query.weight', 'bert.encoder.layer.1.crossattention.self.value.bias', 'bert.encoder.layer.4.crossattention.output.LayerNorm.bias', 'bert.encoder.layer.4.crossattention.self.value.bias', 'bert.encoder.layer.3.crossattention.output.dense.weight', 'bert.encoder.layer.9.crossattention.self.value.weight']\n",
      "You should probably TRAIN this model on a down-stream task to be able to use it for predictions and inference.\n",
      "The following encoder weights were not tied to the decoder ['bert/pooler']\n"
     ]
    },
    {
     "data": {
      "text/plain": "Epoch:   0%|          | 0/3 [00:00<?, ?it/s]",
      "application/vnd.jupyter.widget-view+json": {
       "version_major": 2,
       "version_minor": 0,
       "model_id": "bfa040d220a643d6a6e01a2c51cee5b7"
      }
     },
     "metadata": {},
     "output_type": "display_data"
    },
    {
     "data": {
      "text/plain": "Iteration:   0%|          | 0/124 [00:00<?, ?it/s]",
      "application/vnd.jupyter.widget-view+json": {
       "version_major": 2,
       "version_minor": 0,
       "model_id": "3e6d8b7d77094185a38ae8403a25b94f"
      }
     },
     "metadata": {},
     "output_type": "display_data"
    },
    {
     "data": {
      "text/plain": "Iteration:   0%|          | 0/124 [00:00<?, ?it/s]",
      "application/vnd.jupyter.widget-view+json": {
       "version_major": 2,
       "version_minor": 0,
       "model_id": "b100a45efbee4800ba10a23d51854220"
      }
     },
     "metadata": {},
     "output_type": "display_data"
    },
    {
     "data": {
      "text/plain": "Iteration:   0%|          | 0/124 [00:00<?, ?it/s]",
      "application/vnd.jupyter.widget-view+json": {
       "version_major": 2,
       "version_minor": 0,
       "model_id": "9cd59532142d43b3b8ffbb263996cc2a"
      }
     },
     "metadata": {},
     "output_type": "display_data"
    },
    {
     "name": "stdout",
     "output_type": "stream",
     "text": [
      "word_embedding_model Max Sequence Length: 128\n",
      "word_embedding_model dimension 768\n",
      "pooling_model sentence embedding dimension 768\n",
      "top_k = 1000\n",
      "len(train_samples_qp_contrastive) = 87784\n",
      "len(train_samples_mr_tydi_triple) = 362146\n",
      "train_batch_size 64\n"
     ]
    },
    {
     "data": {
      "text/plain": "Epoch:   0%|          | 0/3 [00:00<?, ?it/s]",
      "application/vnd.jupyter.widget-view+json": {
       "version_major": 2,
       "version_minor": 0,
       "model_id": "2b8406aa8e314e9b8ed082aabd6b0be0"
      }
     },
     "metadata": {},
     "output_type": "display_data"
    },
    {
     "data": {
      "text/plain": "Iteration:   0%|          | 0/1372 [00:00<?, ?it/s]",
      "application/vnd.jupyter.widget-view+json": {
       "version_major": 2,
       "version_minor": 0,
       "model_id": "80bba2326f344afebce4cb64cf6ae972"
      }
     },
     "metadata": {},
     "output_type": "display_data"
    },
    {
     "data": {
      "text/plain": "Iteration:   0%|          | 0/1372 [00:00<?, ?it/s]",
      "application/vnd.jupyter.widget-view+json": {
       "version_major": 2,
       "version_minor": 0,
       "model_id": "d7829bd8e9e74779962163d1434700d3"
      }
     },
     "metadata": {},
     "output_type": "display_data"
    },
    {
     "data": {
      "text/plain": "Iteration:   0%|          | 0/1372 [00:00<?, ?it/s]",
      "application/vnd.jupyter.widget-view+json": {
       "version_major": 2,
       "version_minor": 0,
       "model_id": "b4a943324b0a4acab1d1395bfc622270"
      }
     },
     "metadata": {},
     "output_type": "display_data"
    },
    {
     "data": {
      "text/plain": "Batches:   0%|          | 0/40 [00:00<?, ?it/s]",
      "application/vnd.jupyter.widget-view+json": {
       "version_major": 2,
       "version_minor": 0,
       "model_id": "ff0cd3aea5ff41d68fe47d8157250aaa"
      }
     },
     "metadata": {},
     "output_type": "display_data"
    },
    {
     "data": {
      "text/plain": "Batches:   0%|          | 0/6 [00:00<?, ?it/s]",
      "application/vnd.jupyter.widget-view+json": {
       "version_major": 2,
       "version_minor": 0,
       "model_id": "157496ef3d3f4e47acff82aaf93bc6dc"
      }
     },
     "metadata": {},
     "output_type": "display_data"
    },
    {
     "data": {
      "text/plain": "Batches:   0%|          | 0/1 [00:00<?, ?it/s]",
      "application/vnd.jupyter.widget-view+json": {
       "version_major": 2,
       "version_minor": 0,
       "model_id": "a154c001be734f5b87e0a503ee460382"
      }
     },
     "metadata": {},
     "output_type": "display_data"
    },
    {
     "data": {
      "text/plain": "Batches:   0%|          | 0/2 [00:00<?, ?it/s]",
      "application/vnd.jupyter.widget-view+json": {
       "version_major": 2,
       "version_minor": 0,
       "model_id": "e7c5acceb045475484e2e11ae92bae26"
      }
     },
     "metadata": {},
     "output_type": "display_data"
    },
    {
     "name": "stdout",
     "output_type": "stream",
     "text": [
      "Format check: Passed\n",
      " map_cut_10  recip_rank\n",
      "   0.679667    0.792241\n",
      "Format check: Passed\n",
      " map_cut_10  recip_rank\n",
      "    0.14628        0.26\n"
     ]
    }
   ],
   "source": [
    "def gym_run1():\n",
    "    model_name = 'aubmindlab/bert-base-arabert'\n",
    "    train_samples_qp_task_B = load_task_b_data(task_B_train_path)\n",
    "    sentence_embedder_name = run_tsdae(model_name, train_samples_qp_task_B, batch_size=8, num_epochs=3,\n",
    "                                       save_name=\"run1\")\n",
    "\n",
    "    max_seq_len = 128\n",
    "    bi_encoder = build_biencoder(sentence_embedder_name, max_seq_len)\n",
    "\n",
    "    train_batch_size = 64\n",
    "    train_samples_qp_contrastive = get_qp_contrastive_data()\n",
    "    train_samples_mr_tydi_triple = load_mr_tydi_data()\n",
    "    train_qp_contrastive_dataloader = DataLoader(train_samples_qp_contrastive, shuffle=True,\n",
    "                                                 batch_size=train_batch_size)\n",
    "    train_qp_mr_tydi_triple = DataLoader(train_samples_mr_tydi_triple, shuffle=True, batch_size=train_batch_size)\n",
    "\n",
    "    # train_biencoder_loss_OnlineContrastive = losses.OnlineContrastiveLoss(bi_encoder)\n",
    "    train_biencoder_loss_Contrastive = losses.ContrastiveLoss(bi_encoder)\n",
    "    train_biencoder_loss_MultipleNegativesRanking = losses.MultipleNegativesRankingLoss(bi_encoder)\n",
    "\n",
    "    num_epochs = 3\n",
    "    warmup_steps = math.ceil(len(train_qp_contrastive_dataloader) * num_epochs * 0.1)  #10% of train data for warm-up\n",
    "\n",
    "    train_objectives = [\n",
    "        # (train_qp_contrastive_dataloader, train_biencoder_loss_OnlineContrastive),\n",
    "        (train_qp_contrastive_dataloader, train_biencoder_loss_Contrastive),\n",
    "        (train_qp_mr_tydi_triple, train_biencoder_loss_MultipleNegativesRanking),\n",
    "    ]\n",
    "    bi_encoder = train_biencoder(bi_encoder, train_objectives, train_batch_size, num_epochs, warmup_steps)\n",
    "    # model_save_path = os.path.join(data_path, f'model/biencoder-tsdae-run1')\n",
    "\n",
    "    passage_embeddings, query_train_embeddings, query_dev_embeddings, query_tset_embeddings = encode_by_biencoder(\n",
    "        bi_encoder)\n",
    "\n",
    "    df_run_train = evaluate_biencoder(query_train_embeddings, passage_embeddings, df_query_train, tag=\"bienc_train1\")\n",
    "    ! python QQA23_TaskA_eval.py \\\n",
    "            -r \"../data/runs/bienc_train1.tsv\" \\\n",
    "            -q \"../data/qrels/QQA23_TaskA_qrels_train.gold\"\n",
    "\n",
    "    df_run_dev = evaluate_biencoder(query_dev_embeddings, passage_embeddings, df_query_dev, tag=\"bienc_dev1\")\n",
    "    ! python QQA23_TaskA_eval.py \\\n",
    "            -r \"../data/runs/bienc_dev1.tsv\" \\\n",
    "            -q \"../data/qrels/QQA23_TaskA_qrels_dev.gold\"\n",
    "\n",
    "    hits = util.semantic_search(query_tset_embeddings, passage_embeddings, top_k=10)\n",
    "    df_run = save_query_passage_retrieval(hits, \"bienc_test1\", run_save=True, df_query=df_query_test, top_k=10)\n",
    "\n",
    "    return bi_encoder\n",
    "\n",
    "\n",
    "bi_encoder_run1 = gym_run1()"
   ],
   "metadata": {
    "collapsed": false,
    "ExecuteTime": {
     "end_time": "2023-09-02T23:00:43.899145300Z",
     "start_time": "2023-09-02T22:12:17.542330500Z"
    }
   }
  },
  {
   "cell_type": "code",
   "execution_count": 30,
   "outputs": [
    {
     "data": {
      "text/plain": "Epoch:   0%|          | 0/5 [00:00<?, ?it/s]",
      "application/vnd.jupyter.widget-view+json": {
       "version_major": 2,
       "version_minor": 0,
       "model_id": "14afb8d5fdd04d879ef93e4ca7e432ef"
      }
     },
     "metadata": {},
     "output_type": "display_data"
    },
    {
     "data": {
      "text/plain": "Iteration:   0%|          | 0/10 [00:00<?, ?it/s]",
      "application/vnd.jupyter.widget-view+json": {
       "version_major": 2,
       "version_minor": 0,
       "model_id": "f4eb21dc094e463a99d09393d9769acf"
      }
     },
     "metadata": {},
     "output_type": "display_data"
    },
    {
     "data": {
      "text/plain": "Iteration:   0%|          | 0/10 [00:00<?, ?it/s]",
      "application/vnd.jupyter.widget-view+json": {
       "version_major": 2,
       "version_minor": 0,
       "model_id": "2a814e86b2b94865a0058cfe29bdc10f"
      }
     },
     "metadata": {},
     "output_type": "display_data"
    },
    {
     "data": {
      "text/plain": "Iteration:   0%|          | 0/10 [00:00<?, ?it/s]",
      "application/vnd.jupyter.widget-view+json": {
       "version_major": 2,
       "version_minor": 0,
       "model_id": "55fa7bcf6b514a74b6b5b73601304cd3"
      }
     },
     "metadata": {},
     "output_type": "display_data"
    },
    {
     "data": {
      "text/plain": "Iteration:   0%|          | 0/10 [00:00<?, ?it/s]",
      "application/vnd.jupyter.widget-view+json": {
       "version_major": 2,
       "version_minor": 0,
       "model_id": "c0a53e14128b46b7814568f3fc1a02b9"
      }
     },
     "metadata": {},
     "output_type": "display_data"
    },
    {
     "data": {
      "text/plain": "Iteration:   0%|          | 0/10 [00:00<?, ?it/s]",
      "application/vnd.jupyter.widget-view+json": {
       "version_major": 2,
       "version_minor": 0,
       "model_id": "1760003d30b74a47b8eec6f0d7d7ac8e"
      }
     },
     "metadata": {},
     "output_type": "display_data"
    },
    {
     "name": "stdout",
     "output_type": "stream",
     "text": [
      "word_embedding_model Max Sequence Length: 128\n",
      "word_embedding_model dimension 768\n",
      "pooling_model sentence embedding dimension 768\n",
      "top_k = 1000\n",
      "len(train_samples_qp_contrastive) = 87784\n",
      "len(train_samples_mr_tydi_triple) = 362146\n",
      "train_batch_size 64\n"
     ]
    },
    {
     "data": {
      "text/plain": "Epoch:   0%|          | 0/3 [00:00<?, ?it/s]",
      "application/vnd.jupyter.widget-view+json": {
       "version_major": 2,
       "version_minor": 0,
       "model_id": "9c48082284164637a9c3de9bc671f5b6"
      }
     },
     "metadata": {},
     "output_type": "display_data"
    },
    {
     "data": {
      "text/plain": "Iteration:   0%|          | 0/1372 [00:00<?, ?it/s]",
      "application/vnd.jupyter.widget-view+json": {
       "version_major": 2,
       "version_minor": 0,
       "model_id": "fd363bfc1a43454581e1bf9884af20dd"
      }
     },
     "metadata": {},
     "output_type": "display_data"
    },
    {
     "data": {
      "text/plain": "Iteration:   0%|          | 0/1372 [00:00<?, ?it/s]",
      "application/vnd.jupyter.widget-view+json": {
       "version_major": 2,
       "version_minor": 0,
       "model_id": "274e8a70327b4fe096899e42a2e43a30"
      }
     },
     "metadata": {},
     "output_type": "display_data"
    },
    {
     "data": {
      "text/plain": "Iteration:   0%|          | 0/1372 [00:00<?, ?it/s]",
      "application/vnd.jupyter.widget-view+json": {
       "version_major": 2,
       "version_minor": 0,
       "model_id": "49ebadd073c94b779ca60df2d7025e33"
      }
     },
     "metadata": {},
     "output_type": "display_data"
    },
    {
     "data": {
      "text/plain": "Batches:   0%|          | 0/40 [00:00<?, ?it/s]",
      "application/vnd.jupyter.widget-view+json": {
       "version_major": 2,
       "version_minor": 0,
       "model_id": "b6b0f055c8854517aecf8fcd516fc5c6"
      }
     },
     "metadata": {},
     "output_type": "display_data"
    },
    {
     "data": {
      "text/plain": "Batches:   0%|          | 0/6 [00:00<?, ?it/s]",
      "application/vnd.jupyter.widget-view+json": {
       "version_major": 2,
       "version_minor": 0,
       "model_id": "07ccf595ba9547cca6164654408b3aff"
      }
     },
     "metadata": {},
     "output_type": "display_data"
    },
    {
     "data": {
      "text/plain": "Batches:   0%|          | 0/1 [00:00<?, ?it/s]",
      "application/vnd.jupyter.widget-view+json": {
       "version_major": 2,
       "version_minor": 0,
       "model_id": "8b0dacaebf4c4eeca8389b484c929683"
      }
     },
     "metadata": {},
     "output_type": "display_data"
    },
    {
     "data": {
      "text/plain": "Batches:   0%|          | 0/2 [00:00<?, ?it/s]",
      "application/vnd.jupyter.widget-view+json": {
       "version_major": 2,
       "version_minor": 0,
       "model_id": "cdc85473e7b0480f860234d2733349d6"
      }
     },
     "metadata": {},
     "output_type": "display_data"
    },
    {
     "name": "stdout",
     "output_type": "stream",
     "text": [
      "Format check: Passed\n",
      " map_cut_10  recip_rank\n",
      "   0.645399    0.756034\n",
      "Format check: Passed\n",
      " map_cut_10  recip_rank\n",
      "   0.098728    0.206381\n"
     ]
    }
   ],
   "source": [
    "def gym_run0():\n",
    "    model_name = 'aubmindlab/bert-base-arabert'\n",
    "    sentence_embedder_name = run_simcse(model_name, batch_size=128, num_epochs=5, save_name=\"run0\")\n",
    "\n",
    "    max_seq_len = 128\n",
    "    bi_encoder = build_biencoder(sentence_embedder_name, max_seq_len)\n",
    "\n",
    "    train_batch_size = 64\n",
    "    train_samples_qp_contrastive = get_qp_contrastive_data()\n",
    "    train_samples_mr_tydi_triple = load_mr_tydi_data()\n",
    "    train_qp_contrastive_dataloader = DataLoader(train_samples_qp_contrastive, shuffle=True,\n",
    "                                                 batch_size=train_batch_size)\n",
    "    train_qp_mr_tydi_triple = DataLoader(train_samples_mr_tydi_triple, shuffle=True, batch_size=train_batch_size)\n",
    "\n",
    "    # train_biencoder_loss_OnlineContrastive = losses.OnlineContrastiveLoss(bi_encoder)\n",
    "    train_biencoder_loss_Contrastive = losses.ContrastiveLoss(bi_encoder)\n",
    "    train_biencoder_loss_MultipleNegativesRanking = losses.MultipleNegativesRankingLoss(bi_encoder)\n",
    "\n",
    "    num_epochs = 3\n",
    "    warmup_steps = math.ceil(len(train_qp_contrastive_dataloader) * num_epochs * 0.1)  #10% of train data for warm-up\n",
    "\n",
    "    train_objectives = [\n",
    "        # (train_qp_contrastive_dataloader, train_biencoder_loss_OnlineContrastive),\n",
    "        (train_qp_contrastive_dataloader, train_biencoder_loss_Contrastive),\n",
    "        (train_qp_mr_tydi_triple, train_biencoder_loss_MultipleNegativesRanking),\n",
    "    ]\n",
    "    bi_encoder = train_biencoder(bi_encoder, train_objectives, train_batch_size, num_epochs, warmup_steps)\n",
    "    # model_save_path = os.path.join(data_path, f'model/biencoder-simsce-run0')\n",
    "\n",
    "    passage_embeddings, query_train_embeddings, query_dev_embeddings, query_tset_embeddings = encode_by_biencoder(\n",
    "        bi_encoder)\n",
    "\n",
    "    df_run_train = evaluate_biencoder(query_train_embeddings, passage_embeddings, df_query_train, tag=\"bienc_train0\")\n",
    "    ! python QQA23_TaskA_eval.py \\\n",
    "            -r \"../data/runs/bienc_train0.tsv\" \\\n",
    "            -q \"../data/qrels/QQA23_TaskA_qrels_train.gold\"\n",
    "\n",
    "    df_run_dev = evaluate_biencoder(query_dev_embeddings, passage_embeddings, df_query_dev, tag=\"bienc_dev0\")\n",
    "    ! python QQA23_TaskA_eval.py \\\n",
    "            -r \"../data/runs/bienc_dev0.tsv\" \\\n",
    "            -q \"../data/qrels/QQA23_TaskA_qrels_dev.gold\"\n",
    "\n",
    "    hits = util.semantic_search(query_tset_embeddings, passage_embeddings, top_k=10)\n",
    "    df_run = save_query_passage_retrieval(hits, \"bienc_test0\", run_save=True, df_query=df_query_test, top_k=10)\n",
    "\n",
    "    return bi_encoder\n",
    "\n",
    "\n",
    "bi_encoder_run0 = gym_run0()"
   ],
   "metadata": {
    "collapsed": false,
    "ExecuteTime": {
     "end_time": "2023-09-04T07:56:16.522679Z",
     "start_time": "2023-09-04T06:51:55.921490600Z"
    }
   }
  },
  {
   "cell_type": "code",
   "execution_count": 31,
   "outputs": [
    {
     "name": "stdout",
     "output_type": "stream",
     "text": [
      "Loaded 992 records from ../data\\Task B data/QQA23_TaskB_qrcd_v1.2_train_preprocessed.jsonl\n",
      "len(train_samples_qp_task_B) = 992\n"
     ]
    },
    {
     "data": {
      "text/plain": "Epoch:   0%|          | 0/5 [00:00<?, ?it/s]",
      "application/vnd.jupyter.widget-view+json": {
       "version_major": 2,
       "version_minor": 0,
       "model_id": "7bb403c7ef084745be7ae7df1072959a"
      }
     },
     "metadata": {},
     "output_type": "display_data"
    },
    {
     "data": {
      "text/plain": "Iteration:   0%|          | 0/10 [00:00<?, ?it/s]",
      "application/vnd.jupyter.widget-view+json": {
       "version_major": 2,
       "version_minor": 0,
       "model_id": "8985885f2d08471582b0cf5c73783547"
      }
     },
     "metadata": {},
     "output_type": "display_data"
    },
    {
     "data": {
      "text/plain": "Iteration:   0%|          | 0/10 [00:00<?, ?it/s]",
      "application/vnd.jupyter.widget-view+json": {
       "version_major": 2,
       "version_minor": 0,
       "model_id": "ab7bee97c3ea495aab56561381c315be"
      }
     },
     "metadata": {},
     "output_type": "display_data"
    },
    {
     "data": {
      "text/plain": "Iteration:   0%|          | 0/10 [00:00<?, ?it/s]",
      "application/vnd.jupyter.widget-view+json": {
       "version_major": 2,
       "version_minor": 0,
       "model_id": "f55e63a394ad4346982c6ca61b97d6db"
      }
     },
     "metadata": {},
     "output_type": "display_data"
    },
    {
     "data": {
      "text/plain": "Iteration:   0%|          | 0/10 [00:00<?, ?it/s]",
      "application/vnd.jupyter.widget-view+json": {
       "version_major": 2,
       "version_minor": 0,
       "model_id": "68eb28106919460983a91aa7d6cc826a"
      }
     },
     "metadata": {},
     "output_type": "display_data"
    },
    {
     "data": {
      "text/plain": "Iteration:   0%|          | 0/10 [00:00<?, ?it/s]",
      "application/vnd.jupyter.widget-view+json": {
       "version_major": 2,
       "version_minor": 0,
       "model_id": "9e766685b8e940e88acd25cfd2cb2069"
      }
     },
     "metadata": {},
     "output_type": "display_data"
    },
    {
     "name": "stdout",
     "output_type": "stream",
     "text": [
      "word_embedding_model Max Sequence Length: 128\n",
      "word_embedding_model dimension 768\n",
      "pooling_model sentence embedding dimension 768\n",
      "top_k = 100\n",
      "len train_samples_qp_triple = 59120\n",
      "len(train_samples_mr_tydi_triple) = 362146\n",
      "train_batch_size 64\n"
     ]
    },
    {
     "data": {
      "text/plain": "Epoch:   0%|          | 0/3 [00:00<?, ?it/s]",
      "application/vnd.jupyter.widget-view+json": {
       "version_major": 2,
       "version_minor": 0,
       "model_id": "090bea17820f4d05adef770a10a175ff"
      }
     },
     "metadata": {},
     "output_type": "display_data"
    },
    {
     "data": {
      "text/plain": "Iteration:   0%|          | 0/924 [00:00<?, ?it/s]",
      "application/vnd.jupyter.widget-view+json": {
       "version_major": 2,
       "version_minor": 0,
       "model_id": "d8a1996d9dab48fd962652fa7ac207b5"
      }
     },
     "metadata": {},
     "output_type": "display_data"
    },
    {
     "data": {
      "text/plain": "Iteration:   0%|          | 0/924 [00:00<?, ?it/s]",
      "application/vnd.jupyter.widget-view+json": {
       "version_major": 2,
       "version_minor": 0,
       "model_id": "6ccabb103e4041fcb6ace7e9d973e068"
      }
     },
     "metadata": {},
     "output_type": "display_data"
    },
    {
     "data": {
      "text/plain": "Iteration:   0%|          | 0/924 [00:00<?, ?it/s]",
      "application/vnd.jupyter.widget-view+json": {
       "version_major": 2,
       "version_minor": 0,
       "model_id": "e71d2a4f22de45b0bf98f6980c5b691f"
      }
     },
     "metadata": {},
     "output_type": "display_data"
    },
    {
     "data": {
      "text/plain": "Batches:   0%|          | 0/40 [00:00<?, ?it/s]",
      "application/vnd.jupyter.widget-view+json": {
       "version_major": 2,
       "version_minor": 0,
       "model_id": "f3b5b35779c94e0b94a00fc77b29c062"
      }
     },
     "metadata": {},
     "output_type": "display_data"
    },
    {
     "data": {
      "text/plain": "Batches:   0%|          | 0/6 [00:00<?, ?it/s]",
      "application/vnd.jupyter.widget-view+json": {
       "version_major": 2,
       "version_minor": 0,
       "model_id": "13eaf3340977438ab49292e11e45bccb"
      }
     },
     "metadata": {},
     "output_type": "display_data"
    },
    {
     "data": {
      "text/plain": "Batches:   0%|          | 0/1 [00:00<?, ?it/s]",
      "application/vnd.jupyter.widget-view+json": {
       "version_major": 2,
       "version_minor": 0,
       "model_id": "7389239c1b124d1480a07da7dc71bac9"
      }
     },
     "metadata": {},
     "output_type": "display_data"
    },
    {
     "data": {
      "text/plain": "Batches:   0%|          | 0/2 [00:00<?, ?it/s]",
      "application/vnd.jupyter.widget-view+json": {
       "version_major": 2,
       "version_minor": 0,
       "model_id": "efc45592cc6544099f5a2af441d9767e"
      }
     },
     "metadata": {},
     "output_type": "display_data"
    },
    {
     "name": "stdout",
     "output_type": "stream",
     "text": [
      "Format check: Passed\n",
      " map_cut_10  recip_rank\n",
      "   0.496633    0.614637\n",
      "Format check: Passed\n",
      " map_cut_10  recip_rank\n",
      "   0.062572    0.091111\n"
     ]
    }
   ],
   "source": [
    "def gym_run2():\n",
    "    model_name = 'aubmindlab/bert-base-arabert'\n",
    "    train_samples_qp_task_B = load_task_b_data(task_B_train_path)\n",
    "    sentence_embedder_name = run_simcse(model_name, batch_size=128, num_epochs=5, save_name=\"run2\")\n",
    "\n",
    "    max_seq_len = 128\n",
    "    bi_encoder = build_biencoder(sentence_embedder_name, max_seq_len)\n",
    "\n",
    "    train_batch_size = 64\n",
    "    train_samples_qp_triple = get_qp_triple_data()\n",
    "    train_samples_mr_tydi_triple = load_mr_tydi_data()\n",
    "    train_qp_triple_dataloader = DataLoader(train_samples_qp_triple, shuffle=True, batch_size=train_batch_size)\n",
    "    train_qp_mr_tydi_triple = DataLoader(train_samples_mr_tydi_triple, shuffle=True, batch_size=train_batch_size)\n",
    "\n",
    "    train_biencoder_loss_Triple = losses.TripletLoss(bi_encoder)\n",
    "    train_biencoder_loss_MultipleNegativesRanking = losses.MultipleNegativesRankingLoss(bi_encoder)\n",
    "\n",
    "    num_epochs = 3\n",
    "    warmup_steps = math.ceil(len(train_qp_triple_dataloader) * num_epochs * 0.1)  #10% of train data for warm-up\n",
    "\n",
    "    train_objectives = [\n",
    "        (train_qp_triple_dataloader, train_biencoder_loss_Triple),\n",
    "        (train_qp_mr_tydi_triple, train_biencoder_loss_MultipleNegativesRanking),\n",
    "    ]\n",
    "    bi_encoder = train_biencoder(bi_encoder, train_objectives, train_batch_size, num_epochs, warmup_steps)\n",
    "    # model_save_path = os.path.join(data_path, f'model/biencoder-simsce-run2')\n",
    "\n",
    "    passage_embeddings, query_train_embeddings, query_dev_embeddings, query_tset_embeddings = encode_by_biencoder(\n",
    "        bi_encoder)\n",
    "\n",
    "    df_run_train = evaluate_biencoder(query_train_embeddings, passage_embeddings, df_query_train, tag=\"bienc_train2\")\n",
    "    ! python QQA23_TaskA_eval.py \\\n",
    "            -r \"../data/runs/bienc_train2.tsv\" \\\n",
    "            -q \"../data/qrels/QQA23_TaskA_qrels_train.gold\"\n",
    "\n",
    "    df_run_dev = evaluate_biencoder(query_dev_embeddings, passage_embeddings, df_query_dev, tag=\"bienc_dev2\")\n",
    "    ! python QQA23_TaskA_eval.py \\\n",
    "            -r \"../data/runs/bienc_dev2.tsv\" \\\n",
    "            -q \"../data/qrels/QQA23_TaskA_qrels_dev.gold\"\n",
    "\n",
    "    hits = util.semantic_search(query_tset_embeddings, passage_embeddings, top_k=10)\n",
    "    df_run = save_query_passage_retrieval(hits, \"bienc_test2\", run_save=True, df_query=df_query_test, top_k=10)\n",
    "\n",
    "    return bi_encoder\n",
    "\n",
    "\n",
    "bi_encoder_run2 = gym_run2()"
   ],
   "metadata": {
    "collapsed": false,
    "ExecuteTime": {
     "end_time": "2023-09-04T08:43:09.798103400Z",
     "start_time": "2023-09-04T07:56:16.526647500Z"
    }
   }
  },
  {
   "attachments": {},
   "cell_type": "markdown",
   "metadata": {},
   "source": [
    "# Scratchpad"
   ]
  },
  {
   "cell_type": "code",
   "execution_count": null,
   "outputs": [],
   "source": [
    "tag = \"SimCSE_bmbiencd\"\n",
    "bm_num_results = 15\n",
    "\n",
    "BM25_model = pt.BatchRetrieve(index, controls={\"wmodel\": \"BM25\"}, num_results=bm_num_results)\n",
    "\n",
    "bm25_biencoder_hit = []\n",
    "\n",
    "for query in df_query_dev['query'].tolist():\n",
    "    bm25_result = BM25_model.search(query)\n",
    "    bm25_related_passage = bm25_result['docno'].tolist()\n",
    "    passage = df_passage[df_passage['pid'].isin(bm25_related_passage)]['passage'].tolist()\n",
    "\n",
    "    try:\n",
    "        query_embedding = bi_encoder.encode(query, convert_to_tensor=True, show_progress_bar=False)\n",
    "        passage_embeddings = bi_encoder.encode(passage, convert_to_tensor=True, show_progress_bar=False)\n",
    "        # TODO\n",
    "        '''\n",
    "        check similarity between query and passage, with methods is better for this task?\n",
    "        util.dot_score\n",
    "        util.cos_sim\n",
    "        util.pairwise_dot_score\n",
    "        util.pairwise_cos_sim\n",
    "        '''\n",
    "        hit = util.semantic_search(query_embedding, passage_embeddings, top_k=10)[0]\n",
    "        mapping = {index: row['docno'] for index, row in bm25_result.iterrows()}\n",
    "\n",
    "    except:\n",
    "        #len passage is 0 but why ?\n",
    "        print(f\"len passage : {len(passage)}, qury : {query}\")\n",
    "        query_embedding = bi_encoder.encode(query, convert_to_tensor=True, show_progress_bar=False)\n",
    "        passage = df_passage['passage'].tolist()\n",
    "        passage_embeddings = bi_encoder.encode(passage, convert_to_tensor=True, show_progress_bar=False)\n",
    "\n",
    "        hit = util.semantic_search(query_embedding, passage_embeddings, top_k=top_k)[0]\n",
    "        mapping = {index: row['pid'] for index, row in df_passage.iterrows()}\n",
    "\n",
    "    for i in range(len(hit)):\n",
    "        hit[i]['corpus_id'] = mapping[hit[i]['corpus_id']]\n",
    "    hit = sorted(hit, key=lambda x: x['score'], reverse=True)\n",
    "    bm25_biencoder_hit.append(hit)\n",
    "\n",
    "df_run = save_query_passage_retrieval(bm25_biencoder_hit, tag, run_save=True, df_query=df_query_dev)\n",
    "\n",
    "print(bi_model_name, \"BM25 hits with BiEncoder\")\n",
    "!python QQA23_TaskA_eval.py \\\n",
    "    -r \"../data/runs/SimCSE_bmbiencd.tsv\" \\\n",
    "    -q \"../data/qrels/QQA23_TaskA_qrels_dev.gold\"\n",
    "# df_run"
   ],
   "metadata": {
    "collapsed": false
   }
  },
  {
   "cell_type": "code",
   "execution_count": null,
   "outputs": [],
   "source": [
    "def help_variables():\n",
    "    train_samples_qp_contrastive = get_qp_contrastive_data()\n",
    "    train_samples_qp_multiple_negative_ranking = get_qp_multi_neg_data()\n",
    "    train_samples_qp_triple = get_qp_triple_data()\n",
    "    train_samples_mr_tydi_triple = load_mr_tydi_data()\n",
    "    train_samples_qp_task_B = load_task_b_data(task_B_train_path)\n",
    "\n",
    "    train_passage_dataloader = DataLoader(train_samples_passage, shuffle=True, batch_size=train_batch_size)\n",
    "    train_qp_dataloader = DataLoader(train_samples_qp, shuffle=True, batch_size=train_batch_size)\n",
    "    train_qp_contrastive_dataloader = DataLoader(train_samples_qp_contrastive, shuffle=True,\n",
    "                                                 batch_size=train_batch_size)\n",
    "    train_qp_triple_dataloader = DataLoader(train_samples_qp_triple, shuffle=True, batch_size=train_batch_size)\n",
    "    train_qp_multiple_negative_ranking_dataloader = DataLoader(train_samples_qp_multiple_negative_ranking, shuffle=True,\n",
    "                                                               batch_size=train_batch_size)\n",
    "    train_qp_mr_tydi_triple = DataLoader(train_samples_mr_tydi_triple, shuffle=True, batch_size=train_batch_size)\n",
    "    train_samples_qp_task_B_dataloader = DataLoader(train_samples_qp_task_B, shuffle=True, batch_size=train_batch_size)\n",
    "\n",
    "    train_biencoder_loss_MultipleNegativesRanking = losses.MultipleNegativesRankingLoss(bi_encoder)\n",
    "    train_biencoder_loss_Contrastive = losses.ContrastiveLoss(bi_encoder)\n",
    "    train_biencoder_loss_Triple = losses.TripletLoss(model=bi_encoder)\n",
    "    train_biencoder_loss_OnlineContrastive = losses.OnlineContrastiveLoss(bi_encoder)\n",
    "    train_biencoder_loss_CosineSimilarity = losses.CosineSimilarityLoss(bi_encoder)\n",
    "\n",
    "    train_objectives = [\n",
    "        (train_passage_dataloader, train_biencoder_loss_MultipleNegativesRanking),  #SimCSE\n",
    "        (train_qp_contrastive_dataloader, train_biencoder_loss_OnlineContrastive),\n",
    "        (train_qp_multiple_negative_ranking_dataloader, train_biencoder_loss_MultipleNegativesRanking),\n",
    "\n",
    "        (train_qp_mr_tydi_triple, train_biencoder_loss_MultipleNegativesRanking),\n",
    "        (train_samples_qp_task_B_dataloader, train_biencoder_loss_MultipleNegativesRanking),\n",
    "        (train_qp_triple_dataloader, train_biencoder_loss_Triple)\n",
    "    ]"
   ],
   "metadata": {
    "collapsed": false
   }
  },
  {
   "cell_type": "code",
   "execution_count": null,
   "outputs": [],
   "source": [
    "# https://www.sbert.net/docs/pretrained_models.html\n",
    "# https://www.sbert.net/docs/pretrained-models/msmarco-v3.html\n",
    "\n",
    "################# fine tune #################\n",
    "# bi_model_name = \"data_path, f'model/fine_tune/tsdae-model\"\n",
    "# bi_model_name = \"fine_tune/tsdae-model\"\n",
    "\n",
    "# bi_model_name = os.path.join(data_path, \"fine_tune/simcse-model\") # Best\n",
    "# bi_model_name = os.path.join(data_path, \"fine_tune/simcse-model-v1\")\n",
    "# bi_model_name = os.path.join(data_path, \"fine_tune/simcse-model-v2\")\n",
    "# bi_model_name = os.path.join(data_path, \"fine_tune/simcse-model-v4\")\n",
    "# bi_model_name = os.path.join(data_path, \"fine_tune/simcse-model-v5\")\n",
    "\n",
    "# bi_model_name = os.path.join(data_path, \"fine_tune/tsdae-model-v1\")\n",
    "\n",
    "\n",
    "# bi_model_name = \"fine_tine/ct-model\"\n",
    "# bi_model_name = \"fine_tine/simcse-model-paraphrase-multilingual-mpnet-base-v2\"\n",
    "\n",
    "####################################### Our Best Models #######################################\n",
    "# bi_model_name = \"aubmindlab/bert-base-arabert\"\n",
    "# bi_model_name = \"sentence-transformers/paraphrase-multilingual-mpnet-base-v2\"\n",
    "\n",
    "# bi_model_name = \"xlm-roberta-base\"\n",
    "# bi_model_name = \"sentence-transformers/paraphrase-xlm-r-multilingual-v1\"\n",
    "# bi_model_name = \"sentence-transformers/msmarco-distilbert-base-v4\"\n",
    "\n",
    "# bi_model_name = \"aubmindlab/bert-base-arabertv2\"\n",
    "# bi_model_name = \"aubmindlab/araelectra-base-discriminator\"\n",
    "# bi_model_name = \"aubmindlab/bert-base-arabertv01\"\n",
    "# bi_model_name = \"aubmindlab/bert-base-arabertv2\"\n",
    "# bi_model_name = \"aubmindlab/bert-base-arabertv02\"\n",
    "\n",
    "# i guess this is not a good model for this task but we should try\n",
    "#bi_model_name = \"gfdgdfgdg/arap_qa_bert\" # run 5 : pAP@10 = 0.184\n",
    "#bi_model_name = \"gfdgdfgdg/arap_qa_bert_large_v2\" # run6 : pAP@10 = 0.372\n",
    "#bi_model_name = \"gfdgdfgdg/arap_qa_bert_v2\" # run7 : pAP@10 = 0.344\n",
    "#bi_model_name = \"zohaib99k/Bert_Arabic-SQuADv2-QA\" # run8 : pAP@10 = 0.435\n",
    "#bi_model_name = \"arabi-elidrisi/ArabicDistilBERT_QA\" #run 9 : pAP@10 = 0.343\n",
    "#bi_model_name = \"MMars/Question_Answering_AraBERT_xtreme_ar\" #run 10 : pAP@10 = 0.337\n",
    "# bi_model_name = \"abdalrahmanshahrour/ArabicQA\" # run 11 : pAP@10 = 0.304\n",
    "# bi_model_name = \"abdalrahmanshahrour/xtremeQA-ar\" # run 12 : pAP@10 = 0.120\n",
    "\n",
    "\n",
    "####################################### Checked models #######################################\n",
    "# bi_model_name = \"aubmindlab/bert-large-arabertv02\"\n",
    "\n",
    "# bi_model_name = \"sentence-transformers/distiluse-base-multilingual-cased-v1\" ## train : 0.48, dev : 0.12\n",
    "# bi_model_name = \"sentence-transformers/paraphrase-multilingual-MiniLM-L12-v2\"\n",
    "\n",
    "# bi_model_name = \"wissamantoun/araelectra-base-artydiqa\" # run 1 : train:0.51 but dev near 0\n",
    "# bi_model_name = \"salti/AraElectra-base-finetuned-ARCD\" # run 2 : pAP@10 = 0.397\n",
    "# bi_model_name = \"ZeyadAhmed/AraElectra-Arabic-SQuADv2-QA\" # run 3 : pAP@10 = 0.435\n",
    "# bi_model_name = \"timpal0l/mdeberta-v3-base-squad2\" # run 4 : pAP@10 = 0.367\n",
    "\n",
    "\n",
    "#TODO : https://github.com/UKPLab/sentence-transformers/blob/master/examples/training/multilingual/make_multilingual.py\n",
    "#teacher_model_name = 'fine_tine/simcse-model'   #Our monolingual teacher model, we want to convert to multiple languages\n",
    "#student_model_name = 'xlm-roberta-base'       #Multilingual base model we use to imitate the teacher model\n",
    "\n",
    "# model_save_path = os.path.join(data_path, f'model/training_simcse-{bi_model_name}-'+datetime.now().strftime(\"%Y-%m-%d_%H-%M-%S\"))"
   ],
   "metadata": {
    "collapsed": false
   }
  },
  {
   "cell_type": "markdown",
   "source": [
    "## Re-ranker (Cross-Encoder)"
   ],
   "metadata": {
    "collapsed": false
   }
  },
  {
   "cell_type": "code",
   "execution_count": null,
   "outputs": [],
   "source": [
    "'''\n",
    "https://github.com/Guzpenha/transformer_rankers\n",
    "https://colab.research.google.com/drive/1wGmaO3emC7Sg-tA7nGehIQ2vjOLN9S5e?usp=sharing#scrollTo=y9ps5zmOHxe4\n",
    "'''\n",
    "\n",
    "# cross_model_name = \"cross-encoder/ms-marco-MiniLM-L-6-v2\"\n",
    "# cross_model_name = \"cross-encoder/ms-marco-TinyBERT-L-2\"\n",
    "# cross_model_name = \"distilroberta-base\"\n",
    "# cross_model_name = \"amberoad/bert-multilingual-passage-reranking-msmarco\"\n",
    "# cross_model_name = \"ZeyadAhmed/AraElectra-Arabic-SQuADv2-CLS\""
   ],
   "metadata": {
    "collapsed": false
   }
  }
 ],
 "metadata": {
  "kernelspec": {
   "display_name": "tweetEnv",
   "language": "python",
   "name": "python3"
  },
  "language_info": {
   "codemirror_mode": {
    "name": "ipython",
    "version": 3
   },
   "file_extension": ".py",
   "mimetype": "text/x-python",
   "name": "python",
   "nbconvert_exporter": "python",
   "pygments_lexer": "ipython3",
   "version": "3.8.5"
  },
  "orig_nbformat": 4
 },
 "nbformat": 4,
 "nbformat_minor": 2
}
