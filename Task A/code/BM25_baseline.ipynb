{
 "cells": [
  {
   "cell_type": "code",
   "execution_count": 97,
   "metadata": {
    "ExecuteTime": {
     "end_time": "2023-08-11T17:12:38.739807300Z",
     "start_time": "2023-08-11T17:12:38.629295400Z"
    }
   },
   "outputs": [],
   "source": [
    "import re\n",
    "import os\n",
    "import pandas as pd\n",
    "from snowballstemmer import stemmer\n",
    "import arabicstopwords.arabicstopwords as ar_stp\n",
    "from functools import reduce\n",
    "import numpy as np\n",
    "import pyterrier as pt\n",
    "import torch"
   ]
  },
  {
   "cell_type": "code",
   "execution_count": 98,
   "outputs": [
    {
     "name": "stdout",
     "output_type": "stream",
     "text": [
      "2.0.1+cu118\n",
      "True\n",
      "1\n",
      "0\n",
      "NVIDIA GeForce RTX 3090\n"
     ]
    }
   ],
   "source": [
    "print(torch.__version__)\n",
    "print(torch.cuda.is_available())\n",
    "print(torch.cuda.device_count())\n",
    "print(torch.cuda.current_device())\n",
    "print(torch.cuda.get_device_name(0))"
   ],
   "metadata": {
    "collapsed": false,
    "ExecuteTime": {
     "end_time": "2023-08-11T17:12:38.851318400Z",
     "start_time": "2023-08-11T17:12:38.634296200Z"
    }
   }
  },
  {
   "cell_type": "markdown",
   "source": [
    "# Get Data"
   ],
   "metadata": {
    "collapsed": false,
    "ExecuteTime": {
     "end_time": "2023-08-11T08:04:53.469544200Z",
     "start_time": "2023-08-11T08:04:53.454643500Z"
    }
   },
   "outputs": [
    {
     "name": "stdout",
     "output_type": "stream",
     "text": [
      "2.0.1+cu118\n",
      "True\n",
      "1\n",
      "0\n",
      "NVIDIA GeForce RTX 3090\n"
     ]
    }
   ],
   "execution_count": 3
  },
  {
   "cell_type": "code",
   "execution_count": 99,
   "outputs": [],
   "source": [
    "data_path = \"../data\"\n",
    "index_path = os.path.join(data_path, \"QPC_Index/data.properties\")\n",
    "\n",
    "query_train_path = os.path.join(data_path, \"QQA23_TaskA_train.tsv\")\n",
    "query_dev_path = os.path.join(data_path, \"QQA23_TaskA_dev.tsv\")\n",
    "\n",
    "passage_path = os.path.join(data_path, \"Thematic_QPC/QQA23_TaskA_QPC_v1.1.tsv\")\n",
    "\n",
    "qp_pair_train_path = os.path.join(data_path, \"qrels\\QQA23_TaskA_qrels_train.gold\")\n",
    "qp_pair_dev_path = os.path.join(data_path, \"qrels\\QQA23_TaskA_qrels_dev.gold\")"
   ],
   "metadata": {
    "collapsed": false,
    "ExecuteTime": {
     "end_time": "2023-08-11T17:12:38.858318100Z",
     "start_time": "2023-08-11T17:12:38.651295900Z"
    }
   }
  },
  {
   "cell_type": "markdown",
   "source": [
    "## Read file"
   ],
   "metadata": {
    "collapsed": false,
    "ExecuteTime": {
     "end_time": "2023-08-11T05:37:35.422287500Z",
     "start_time": "2023-08-11T05:37:35.406190400Z"
    }
   },
   "outputs": [],
   "execution_count": 3
  },
  {
   "cell_type": "code",
   "execution_count": 100,
   "outputs": [],
   "source": [
    "# read file based on its extension (tsv or xlsx)\n",
    "def read_file(input_file, sep=\"\\t\", names = \"\"):\n",
    "    if input_file.endswith(\".xlsx\"):\n",
    "        df = pd.read_excel(input_file)\n",
    "    else:\n",
    "        if names != \"\":\n",
    "            df = pd.read_csv(input_file, sep=sep, names=names,encoding=\"utf-8\")\n",
    "        else:\n",
    "            df = pd.read_csv(input_file, sep=sep,encoding=\"utf-8\")\n",
    "    return df"
   ],
   "metadata": {
    "collapsed": false,
    "ExecuteTime": {
     "end_time": "2023-08-11T17:12:38.867318600Z",
     "start_time": "2023-08-11T17:12:38.665296800Z"
    }
   }
  },
  {
   "cell_type": "markdown",
   "source": [
    "## Read Query-Passage Pair"
   ],
   "metadata": {
    "collapsed": false,
    "ExecuteTime": {
     "end_time": "2023-08-11T05:37:35.971927300Z",
     "start_time": "2023-08-11T05:37:35.956262200Z"
    }
   },
   "outputs": [],
   "execution_count": 4
  },
  {
   "cell_type": "code",
   "execution_count": 101,
   "outputs": [],
   "source": [
    "qrels_columns = [\"qid\", \"Q0\", \"docid\", \"relevance\"]\n",
    "\n",
    "def read_qrels_file(qrels_file):\n",
    "    # split_token = '\\t' if format_checker.is_tab_sparated(qrels_file) else  \"\\s+\"\n",
    "    df_qrels = pd.read_csv(qrels_file, sep='\\t', names=qrels_columns)\n",
    "    df_qrels[\"qid\"] = df_qrels[\"qid\"].astype(str)\n",
    "    df_qrels[\"docid\"] = df_qrels[\"docid\"].astype(str)\n",
    "    return df_qrels"
   ],
   "metadata": {
    "collapsed": false,
    "ExecuteTime": {
     "end_time": "2023-08-11T17:12:38.870318200Z",
     "start_time": "2023-08-11T17:12:38.681295700Z"
    }
   }
  },
  {
   "cell_type": "markdown",
   "source": [
    "## Load the index"
   ],
   "metadata": {
    "collapsed": false,
    "ExecuteTime": {
     "end_time": "2023-08-11T05:37:36.618544500Z",
     "start_time": "2023-08-11T05:37:36.598224700Z"
    }
   },
   "outputs": [],
   "execution_count": 5
  },
  {
   "cell_type": "code",
   "execution_count": 102,
   "outputs": [],
   "source": [
    "def load_index(index_path):\n",
    "    if not pt.started():\n",
    "        pt.init(helper_version=\"0.0.6\")\n",
    "\n",
    "    try:\n",
    "        index = pt.IndexFactory.of(index_path)\n",
    "        print(\"Index was loaded successfully from this path: \", index_path)\n",
    "        return index\n",
    "    except Exception as e:\n",
    "        print('Cannot load the index, check exception details {}'.format(e))\n",
    "        return []"
   ],
   "metadata": {
    "collapsed": false,
    "ExecuteTime": {
     "end_time": "2023-08-11T17:12:38.886317900Z",
     "start_time": "2023-08-11T17:12:38.695296900Z"
    }
   }
  },
  {
   "attachments": {},
   "cell_type": "markdown",
   "metadata": {
    "ExecuteTime": {
     "end_time": "2023-08-11T05:37:37.652006400Z",
     "start_time": "2023-08-11T05:37:37.639499500Z"
    }
   },
   "source": [
    "## Cleaning\n",
    "Clean text from urls, handles, special characters, tabs, line jumps, extra white space, and puntuations."
   ],
   "outputs": [],
   "execution_count": 6
  },
  {
   "cell_type": "code",
   "execution_count": 103,
   "metadata": {
    "ExecuteTime": {
     "end_time": "2023-08-11T17:12:38.890317900Z",
     "start_time": "2023-08-11T17:12:38.713300200Z"
    }
   },
   "outputs": [],
   "source": [
    "# Clean text from urls, handles, special characters, tabs, line jumps, and extra white space.\n",
    "def clean(text):\n",
    "    text = re.sub(r\"http\\S+\", \" \", text)  # remove urls\n",
    "    text = re.sub(r\"@[\\w]*\", \" \", text)  # remove handles\n",
    "    text = re.sub(r\"[\\.\\,\\#_\\|\\:\\?\\?\\/\\=]\", \" \", text) # remove special characters\n",
    "    text = re.sub(r\"\\t\", \" \", text)  # remove tabs\n",
    "    text = re.sub(r\"\\n\", \" \", text)  # remove line jump\n",
    "    text = re.sub(r\"\\s+\", \" \", text)  # remove extra white space\n",
    "    text = re.sub(r'[^\\w\\s]', '', text) # Removing punctuations in string using regex\n",
    "    text = text.strip()\n",
    "    return text"
   ]
  },
  {
   "attachments": {},
   "cell_type": "markdown",
   "metadata": {
    "ExecuteTime": {
     "end_time": "2023-08-11T05:37:38.819398900Z",
     "start_time": "2023-08-11T05:37:38.803754900Z"
    }
   },
   "source": [
    "## Preprocessing\n",
    "Preprocess the arabic input text by performing normalization, stemming, and removing stop words."
   ],
   "outputs": [],
   "execution_count": 7
  },
  {
   "cell_type": "code",
   "execution_count": 104,
   "metadata": {
    "ExecuteTime": {
     "end_time": "2023-08-11T17:12:38.892319100Z",
     "start_time": "2023-08-11T17:12:38.727808500Z"
    }
   },
   "outputs": [],
   "source": [
    "# arabic stemmer\n",
    "ar_stemmer = stemmer(\"arabic\")\n",
    "\n",
    "# remove arabic stop words\n",
    "def ar_remove_stop_words(sentence):\n",
    "    terms=[]\n",
    "    stopWords= set(ar_stp.stopwords_list())\n",
    "    for term in sentence.split() : \n",
    "        if term not in stopWords :\n",
    "            terms.append(term)\n",
    "    return \" \".join(terms)\n",
    "\n",
    "\n",
    "# normalize the arabic text\n",
    "def normalize_arabic(text):\n",
    "    text = re.sub(\"[إأٱآا]\", \"ا\", text)\n",
    "    text = re.sub(\"ى\", \"ي\", text)\n",
    "    text = re.sub(\"ؤ\", \"ء\", text)\n",
    "    text = re.sub(\"ئ\", \"ء\", text)\n",
    "    text = re.sub(\"ة\", \"ه\", text)\n",
    "    return(text)\n",
    "\n",
    "# stem the arabic text\n",
    "def ar_stem(sentence):\n",
    "    return \" \".join([ar_stemmer.stemWord(i) for i in sentence.split()])\n",
    "\n",
    "\n",
    "# apply all preprocessing steps needed for Arabic text\n",
    "def preprocess_arabic(text): \n",
    "    text = normalize_arabic(text)\n",
    "    text = ar_remove_stop_words(text)\n",
    "    text = ar_stem(text)\n",
    "    return text"
   ]
  },
  {
   "cell_type": "code",
   "execution_count": 105,
   "outputs": [],
   "source": [
    "def prepare_data(path, column, id_type, id_column='docno'):\n",
    "        df = read_file(path, names=['docno', 'text'])\n",
    "\n",
    "        print(\"Cleaning passages\")\n",
    "        # apply the cleaning functions on the queries/questions\n",
    "        df[column] = df['text'].apply(clean)\n",
    "\n",
    "        # apply normalization, stemming and stop word removal\n",
    "        print(\"Preprocessing - Applying normalization, stemming and stop word removal\")\n",
    "        df[column] = df[column].apply(preprocess_arabic)\n",
    "\n",
    "        df[id_type] = df[id_column].astype(str) # convert the id column to string\n",
    "        df = df[[id_type, 'text', column]] # keep the columns needed for search\n",
    "\n",
    "        print(\"Done with preparation!\")\n",
    "        return df\n"
   ],
   "metadata": {
    "collapsed": false,
    "ExecuteTime": {
     "end_time": "2023-08-11T17:12:38.892319100Z",
     "start_time": "2023-08-11T17:12:38.743807600Z"
    }
   }
  },
  {
   "cell_type": "markdown",
   "source": [
    "### Index"
   ],
   "metadata": {
    "collapsed": false,
    "ExecuteTime": {
     "end_time": "2023-08-11T05:37:39.775198Z",
     "start_time": "2023-08-11T05:37:39.759112600Z"
    }
   },
   "outputs": [],
   "execution_count": 9
  },
  {
   "cell_type": "code",
   "execution_count": 106,
   "outputs": [
    {
     "name": "stdout",
     "output_type": "stream",
     "text": [
      "Index was loaded successfully from this path:  ../data\\QPC_Index/data.properties\n"
     ]
    }
   ],
   "source": [
    "index = load_index(index_path=index_path)\n",
    "\n",
    "# print(index.getCollectionStatistics().toString())\n",
    "# print(index.getMetaIndex().getKeys())\n",
    "\n",
    "# for kv in index.getLexicon():\n",
    "#     print((kv.getKey())+\"\\t\"+ kv.getValue().toString())\n",
    "# index.getLexicon()[\"فاعل\"].toString()"
   ],
   "metadata": {
    "collapsed": false,
    "ExecuteTime": {
     "end_time": "2023-08-11T17:12:38.892319100Z",
     "start_time": "2023-08-11T17:12:38.758808100Z"
    }
   }
  },
  {
   "cell_type": "markdown",
   "source": [
    "### Passage"
   ],
   "metadata": {
    "collapsed": false,
    "ExecuteTime": {
     "end_time": "2023-08-11T05:37:41.076724800Z",
     "start_time": "2023-08-11T05:37:40.508054500Z"
    }
   },
   "outputs": [
    {
     "name": "stderr",
     "output_type": "stream",
     "text": [
      "PyTerrier 0.9.2 has loaded Terrier 5.7 (built by craigm on 2022-11-10 18:30) and terrier-helper 0.0.6\n",
      "\n"
     ]
    },
    {
     "name": "stdout",
     "output_type": "stream",
     "text": [
      "Index was loaded successfully from this path:  ../data\\QPC_Index/data.properties\n",
      "Number of documents: 1266\n",
      "Number of terms: 8278\n",
      "Number of postings: 46732\n",
      "Number of fields: 1\n",
      "Number of tokens: 55596\n",
      "Field names: [text]\n",
      "Positions:   false\n",
      "\n",
      "['docno']\n"
     ]
    }
   ],
   "execution_count": 10
  },
  {
   "cell_type": "code",
   "execution_count": 107,
   "outputs": [
    {
     "name": "stdout",
     "output_type": "stream",
     "text": [
      "Cleaning passages\n",
      "Preprocessing - Applying normalization, stemming and stop word removal\n",
      "Done with preparation!\n"
     ]
    },
    {
     "data": {
      "text/plain": "          pid                                               text  \\\n0       1:1-4  بسم الله الرحمن الرحيم. الحمد لله رب العالمين....   \n1       1:5-6     إياك نعبد وإياك نستعين. اهدنا الصراط المستقيم.   \n2       1:7-7  صراط الذين أنعمت عليهم غير المغضوب عليهم ولا ا...   \n3       2:1-2            الم. ذلك الكتاب لا ريب فيه هدى للمتقين.   \n4       2:3-5  الذين يؤمنون بالغيب ويقيمون الصلاة ومما رزقناه...   \n...       ...                                                ...   \n1261  110:1-3  إذا جاء نصر الله والفتح. ورأيت الناس يدخلون في...   \n1262  111:1-5  تبت يدا أبي لهب وتب. ما أغنى عنه ماله وما كسب....   \n1263  112:1-4  قل هو الله أحد. الله الصمد. لم يلد ولم يولد. و...   \n1264  113:1-5  قل أعوذ برب الفلق. من شر ما خلق. ومن شر غاسق إ...   \n1265  114:1-6  قل أعوذ برب الناس. ملك الناس. إله الناس. من شر...   \n\n                                                passage  \n0     بسم الله رحم رحيم حمد لله عالم رحم رحيم مال يو...  \n1                     ايا نعبد واي نستع اهد صراط مستقيم  \n2                                   صراط انعم مغضوب ضال  \n3                                   الم كتاب ريب هد متق  \n4     يءمن غيب يقيم صلاه رزق ينفق يءمن انزل اليك انز...  \n...                                                 ...  \n1261  اذا جاء نصر الله والفتح راي ناس يدخل دين الله ...  \n1262  تبت يدا اب وتب اغن مال كسب سيصل نار وامرا حمال...  \n1263          قل الله احد الله صمد يلد يولد يكن كفو احد  \n1264  قل اعوذ برب فلق شر خلق شر غاسق اذا وقب شر نفاث...  \n1265  قل اعوذ برب ناس ملك ناس اله ناس شر وسواس خناس ...  \n\n[1266 rows x 3 columns]",
      "text/html": "<div>\n<style scoped>\n    .dataframe tbody tr th:only-of-type {\n        vertical-align: middle;\n    }\n\n    .dataframe tbody tr th {\n        vertical-align: top;\n    }\n\n    .dataframe thead th {\n        text-align: right;\n    }\n</style>\n<table border=\"1\" class=\"dataframe\">\n  <thead>\n    <tr style=\"text-align: right;\">\n      <th></th>\n      <th>pid</th>\n      <th>text</th>\n      <th>passage</th>\n    </tr>\n  </thead>\n  <tbody>\n    <tr>\n      <th>0</th>\n      <td>1:1-4</td>\n      <td>بسم الله الرحمن الرحيم. الحمد لله رب العالمين....</td>\n      <td>بسم الله رحم رحيم حمد لله عالم رحم رحيم مال يو...</td>\n    </tr>\n    <tr>\n      <th>1</th>\n      <td>1:5-6</td>\n      <td>إياك نعبد وإياك نستعين. اهدنا الصراط المستقيم.</td>\n      <td>ايا نعبد واي نستع اهد صراط مستقيم</td>\n    </tr>\n    <tr>\n      <th>2</th>\n      <td>1:7-7</td>\n      <td>صراط الذين أنعمت عليهم غير المغضوب عليهم ولا ا...</td>\n      <td>صراط انعم مغضوب ضال</td>\n    </tr>\n    <tr>\n      <th>3</th>\n      <td>2:1-2</td>\n      <td>الم. ذلك الكتاب لا ريب فيه هدى للمتقين.</td>\n      <td>الم كتاب ريب هد متق</td>\n    </tr>\n    <tr>\n      <th>4</th>\n      <td>2:3-5</td>\n      <td>الذين يؤمنون بالغيب ويقيمون الصلاة ومما رزقناه...</td>\n      <td>يءمن غيب يقيم صلاه رزق ينفق يءمن انزل اليك انز...</td>\n    </tr>\n    <tr>\n      <th>...</th>\n      <td>...</td>\n      <td>...</td>\n      <td>...</td>\n    </tr>\n    <tr>\n      <th>1261</th>\n      <td>110:1-3</td>\n      <td>إذا جاء نصر الله والفتح. ورأيت الناس يدخلون في...</td>\n      <td>اذا جاء نصر الله والفتح راي ناس يدخل دين الله ...</td>\n    </tr>\n    <tr>\n      <th>1262</th>\n      <td>111:1-5</td>\n      <td>تبت يدا أبي لهب وتب. ما أغنى عنه ماله وما كسب....</td>\n      <td>تبت يدا اب وتب اغن مال كسب سيصل نار وامرا حمال...</td>\n    </tr>\n    <tr>\n      <th>1263</th>\n      <td>112:1-4</td>\n      <td>قل هو الله أحد. الله الصمد. لم يلد ولم يولد. و...</td>\n      <td>قل الله احد الله صمد يلد يولد يكن كفو احد</td>\n    </tr>\n    <tr>\n      <th>1264</th>\n      <td>113:1-5</td>\n      <td>قل أعوذ برب الفلق. من شر ما خلق. ومن شر غاسق إ...</td>\n      <td>قل اعوذ برب فلق شر خلق شر غاسق اذا وقب شر نفاث...</td>\n    </tr>\n    <tr>\n      <th>1265</th>\n      <td>114:1-6</td>\n      <td>قل أعوذ برب الناس. ملك الناس. إله الناس. من شر...</td>\n      <td>قل اعوذ برب ناس ملك ناس اله ناس شر وسواس خناس ...</td>\n    </tr>\n  </tbody>\n</table>\n<p>1266 rows × 3 columns</p>\n</div>"
     },
     "execution_count": 107,
     "metadata": {},
     "output_type": "execute_result"
    }
   ],
   "source": [
    "df_passage = prepare_data(passage_path, 'passage', 'pid')\n",
    "df_passage"
   ],
   "metadata": {
    "collapsed": false,
    "ExecuteTime": {
     "end_time": "2023-08-11T17:12:42.326630400Z",
     "start_time": "2023-08-11T17:12:38.775807600Z"
    }
   }
  },
  {
   "cell_type": "markdown",
   "source": [
    "### Query"
   ],
   "metadata": {
    "collapsed": false,
    "ExecuteTime": {
     "end_time": "2023-08-11T05:37:45.125852100Z",
     "start_time": "2023-08-11T05:37:41.551655100Z"
    }
   },
   "outputs": [
    {
     "name": "stdout",
     "output_type": "stream",
     "text": [
      "Cleaning passages\n",
      "Preprocessing - Applying normalization, stemming and stop word removal\n",
      "Done with preparation!\n"
     ]
    },
    {
     "data": {
      "text/plain": "          pid                                               text  \\\n0       1:1-4  بسم الله الرحمن الرحيم. الحمد لله رب العالمين....   \n1       1:5-6     إياك نعبد وإياك نستعين. اهدنا الصراط المستقيم.   \n2       1:7-7  صراط الذين أنعمت عليهم غير المغضوب عليهم ولا ا...   \n3       2:1-2            الم. ذلك الكتاب لا ريب فيه هدى للمتقين.   \n4       2:3-5  الذين يؤمنون بالغيب ويقيمون الصلاة ومما رزقناه...   \n...       ...                                                ...   \n1261  110:1-3  إذا جاء نصر الله والفتح. ورأيت الناس يدخلون في...   \n1262  111:1-5  تبت يدا أبي لهب وتب. ما أغنى عنه ماله وما كسب....   \n1263  112:1-4  قل هو الله أحد. الله الصمد. لم يلد ولم يولد. و...   \n1264  113:1-5  قل أعوذ برب الفلق. من شر ما خلق. ومن شر غاسق إ...   \n1265  114:1-6  قل أعوذ برب الناس. ملك الناس. إله الناس. من شر...   \n\n                                                passage  \n0     بسم الله رحم رحيم حمد لله عالم رحم رحيم مال يو...  \n1                     ايا نعبد واي نستع اهد صراط مستقيم  \n2                                   صراط انعم مغضوب ضال  \n3                                   الم كتاب ريب هد متق  \n4     يءمن غيب يقيم صلاه رزق ينفق يءمن انزل اليك انز...  \n...                                                 ...  \n1261  اذا جاء نصر الله والفتح راي ناس يدخل دين الله ...  \n1262  تبت يدا اب وتب اغن مال كسب سيصل نار وامرا حمال...  \n1263          قل الله احد الله صمد يلد يولد يكن كفو احد  \n1264  قل اعوذ برب فلق شر خلق شر غاسق اذا وقب شر نفاث...  \n1265  قل اعوذ برب ناس ملك ناس اله ناس شر وسواس خناس ...  \n\n[1266 rows x 3 columns]",
      "text/html": "<div>\n<style scoped>\n    .dataframe tbody tr th:only-of-type {\n        vertical-align: middle;\n    }\n\n    .dataframe tbody tr th {\n        vertical-align: top;\n    }\n\n    .dataframe thead th {\n        text-align: right;\n    }\n</style>\n<table border=\"1\" class=\"dataframe\">\n  <thead>\n    <tr style=\"text-align: right;\">\n      <th></th>\n      <th>pid</th>\n      <th>text</th>\n      <th>passage</th>\n    </tr>\n  </thead>\n  <tbody>\n    <tr>\n      <th>0</th>\n      <td>1:1-4</td>\n      <td>بسم الله الرحمن الرحيم. الحمد لله رب العالمين....</td>\n      <td>بسم الله رحم رحيم حمد لله عالم رحم رحيم مال يو...</td>\n    </tr>\n    <tr>\n      <th>1</th>\n      <td>1:5-6</td>\n      <td>إياك نعبد وإياك نستعين. اهدنا الصراط المستقيم.</td>\n      <td>ايا نعبد واي نستع اهد صراط مستقيم</td>\n    </tr>\n    <tr>\n      <th>2</th>\n      <td>1:7-7</td>\n      <td>صراط الذين أنعمت عليهم غير المغضوب عليهم ولا ا...</td>\n      <td>صراط انعم مغضوب ضال</td>\n    </tr>\n    <tr>\n      <th>3</th>\n      <td>2:1-2</td>\n      <td>الم. ذلك الكتاب لا ريب فيه هدى للمتقين.</td>\n      <td>الم كتاب ريب هد متق</td>\n    </tr>\n    <tr>\n      <th>4</th>\n      <td>2:3-5</td>\n      <td>الذين يؤمنون بالغيب ويقيمون الصلاة ومما رزقناه...</td>\n      <td>يءمن غيب يقيم صلاه رزق ينفق يءمن انزل اليك انز...</td>\n    </tr>\n    <tr>\n      <th>...</th>\n      <td>...</td>\n      <td>...</td>\n      <td>...</td>\n    </tr>\n    <tr>\n      <th>1261</th>\n      <td>110:1-3</td>\n      <td>إذا جاء نصر الله والفتح. ورأيت الناس يدخلون في...</td>\n      <td>اذا جاء نصر الله والفتح راي ناس يدخل دين الله ...</td>\n    </tr>\n    <tr>\n      <th>1262</th>\n      <td>111:1-5</td>\n      <td>تبت يدا أبي لهب وتب. ما أغنى عنه ماله وما كسب....</td>\n      <td>تبت يدا اب وتب اغن مال كسب سيصل نار وامرا حمال...</td>\n    </tr>\n    <tr>\n      <th>1263</th>\n      <td>112:1-4</td>\n      <td>قل هو الله أحد. الله الصمد. لم يلد ولم يولد. و...</td>\n      <td>قل الله احد الله صمد يلد يولد يكن كفو احد</td>\n    </tr>\n    <tr>\n      <th>1264</th>\n      <td>113:1-5</td>\n      <td>قل أعوذ برب الفلق. من شر ما خلق. ومن شر غاسق إ...</td>\n      <td>قل اعوذ برب فلق شر خلق شر غاسق اذا وقب شر نفاث...</td>\n    </tr>\n    <tr>\n      <th>1265</th>\n      <td>114:1-6</td>\n      <td>قل أعوذ برب الناس. ملك الناس. إله الناس. من شر...</td>\n      <td>قل اعوذ برب ناس ملك ناس اله ناس شر وسواس خناس ...</td>\n    </tr>\n  </tbody>\n</table>\n<p>1266 rows × 3 columns</p>\n</div>"
     },
     "execution_count": 11,
     "metadata": {},
     "output_type": "execute_result"
    }
   ],
   "execution_count": 11
  },
  {
   "cell_type": "code",
   "execution_count": 108,
   "outputs": [
    {
     "name": "stdout",
     "output_type": "stream",
     "text": [
      "Cleaning passages\n",
      "Preprocessing - Applying normalization, stemming and stop word removal\n",
      "Done with preparation!\n"
     ]
    },
    {
     "data": {
      "text/plain": "     qid                                               text  \\\n0    101                                    من هم قوم شعيب؟   \n1    102                                    من هم قوم موسى؟   \n2    103                                     من بنى الكعبة؟   \n3    105                        من هو النبي المعروف بالصبر؟   \n4    106                                من كفل السيدة مريم؟   \n..   ...                                                ...   \n169  422   ما هي الأماكن التي ذُكرت في القرآن كأماكن مقدسة؟   \n170  423        لماذا لم يتم حذف الآيات المنسوخة من القرآن؟   \n171  425                    هل سيدنا محمد هو أفضل الأنبياء؟   \n172  426  هل حذر القرآن المؤمنين من اتخاذ أهل الكتاب أول...   \n173  427  بأي طريقة حث القرآن المؤمنين على مجادلة أهل ال...   \n\n                                   query  \n0                               قوم شعيب  \n1                                قوم موس  \n2                                بن كعبه  \n3                         النب معروف صبر  \n4                          كفل سيده مريم  \n..                                   ...  \n169               اماك ذكر القر كام مقدس  \n170         لماذ يتم حذف الا منسوخه القر  \n171                 سيد محمد افضل انبياء  \n172  حذر القر مءمن اتخاذ اهل كتاب اولياء  \n173  با طريق حث القر مءمن مجادل اهل كتاب  \n\n[174 rows x 3 columns]",
      "text/html": "<div>\n<style scoped>\n    .dataframe tbody tr th:only-of-type {\n        vertical-align: middle;\n    }\n\n    .dataframe tbody tr th {\n        vertical-align: top;\n    }\n\n    .dataframe thead th {\n        text-align: right;\n    }\n</style>\n<table border=\"1\" class=\"dataframe\">\n  <thead>\n    <tr style=\"text-align: right;\">\n      <th></th>\n      <th>qid</th>\n      <th>text</th>\n      <th>query</th>\n    </tr>\n  </thead>\n  <tbody>\n    <tr>\n      <th>0</th>\n      <td>101</td>\n      <td>من هم قوم شعيب؟</td>\n      <td>قوم شعيب</td>\n    </tr>\n    <tr>\n      <th>1</th>\n      <td>102</td>\n      <td>من هم قوم موسى؟</td>\n      <td>قوم موس</td>\n    </tr>\n    <tr>\n      <th>2</th>\n      <td>103</td>\n      <td>من بنى الكعبة؟</td>\n      <td>بن كعبه</td>\n    </tr>\n    <tr>\n      <th>3</th>\n      <td>105</td>\n      <td>من هو النبي المعروف بالصبر؟</td>\n      <td>النب معروف صبر</td>\n    </tr>\n    <tr>\n      <th>4</th>\n      <td>106</td>\n      <td>من كفل السيدة مريم؟</td>\n      <td>كفل سيده مريم</td>\n    </tr>\n    <tr>\n      <th>...</th>\n      <td>...</td>\n      <td>...</td>\n      <td>...</td>\n    </tr>\n    <tr>\n      <th>169</th>\n      <td>422</td>\n      <td>ما هي الأماكن التي ذُكرت في القرآن كأماكن مقدسة؟</td>\n      <td>اماك ذكر القر كام مقدس</td>\n    </tr>\n    <tr>\n      <th>170</th>\n      <td>423</td>\n      <td>لماذا لم يتم حذف الآيات المنسوخة من القرآن؟</td>\n      <td>لماذ يتم حذف الا منسوخه القر</td>\n    </tr>\n    <tr>\n      <th>171</th>\n      <td>425</td>\n      <td>هل سيدنا محمد هو أفضل الأنبياء؟</td>\n      <td>سيد محمد افضل انبياء</td>\n    </tr>\n    <tr>\n      <th>172</th>\n      <td>426</td>\n      <td>هل حذر القرآن المؤمنين من اتخاذ أهل الكتاب أول...</td>\n      <td>حذر القر مءمن اتخاذ اهل كتاب اولياء</td>\n    </tr>\n    <tr>\n      <th>173</th>\n      <td>427</td>\n      <td>بأي طريقة حث القرآن المؤمنين على مجادلة أهل ال...</td>\n      <td>با طريق حث القر مءمن مجادل اهل كتاب</td>\n    </tr>\n  </tbody>\n</table>\n<p>174 rows × 3 columns</p>\n</div>"
     },
     "execution_count": 108,
     "metadata": {},
     "output_type": "execute_result"
    }
   ],
   "source": [
    "df_query_train = prepare_data(query_train_path, 'query', 'qid')\n",
    "df_query_train"
   ],
   "metadata": {
    "collapsed": false,
    "ExecuteTime": {
     "end_time": "2023-08-11T17:12:42.468142Z",
     "start_time": "2023-08-11T17:12:42.322631800Z"
    }
   }
  },
  {
   "cell_type": "code",
   "execution_count": 109,
   "outputs": [
    {
     "name": "stdout",
     "output_type": "stream",
     "text": [
      "Cleaning passages\n",
      "Preprocessing - Applying normalization, stemming and stop word removal\n",
      "Done with preparation!\n"
     ]
    },
    {
     "data": {
      "text/plain": "    qid                                               text  \\\n0   114                         من الذي خسف الله به الأرض؟   \n1   124                                كم مدة عدة الأرملة؟   \n2   126                                 ما هي شجرة الزقوم؟   \n3   135                           ما هي وصايا لقمان لابنه؟   \n4   156                من هن المحرمات من النساء في الزواج؟   \n5   157                  ما هي منزلة من يقتل في سبيل الله؟   \n6   207    من هلك من أهل سيدنا نوح عليه السلام في الطوفان؟   \n7   224         لماذا ألقي سيدنا يوسف عليه السلام في الجب؟   \n8   234                            كم دامت دعوة نوح لقومه؟   \n9   241                من هم الملائكة المذكورون في القرآن؟   \n10  245                          لماذا اهلك الله قوم شعيب؟   \n11  260                من هم أصحاب الإفك على السيدة عائشة؟   \n12  322                                هل تدبر القرآن فرض؟   \n13  330          ما هي الدلائل التي تشير بأن الانسان مخير؟   \n14  336  لماذا تزوج النبي (ص) أكثر من أربعة نساء مع ان ...   \n15  337  ما هي الإشارات للدماغ أو لأجزاء من الدّماغ في ...   \n16  342    هل ورد في القرآن تنبيه من  صوت أو أصوات معيّنة؟   \n17  352  من هم الأنبياء الذين ذكروا في القرآن على أنهم ...   \n18  360  هل سيجمع الله بين المؤمنين وأبنائهم وأهلهم في ...   \n19  384                        ما معنى صلى الله عليه وسلم؟   \n20  386  هل هناك علاقة بين الخوف أو الاضطرابات النفسية ...   \n21  397              ما هو موقف القرآن من المثلية الجنسية؟   \n22  419                         هل احترم الإسلام الأنبياء؟   \n23  424                            هل كرّم الإسلام المرأة؟   \n24  428     هل أشار القرآن إلى العضو الذي يعقل به الإنسان؟   \n\n                                                query  \n0                                        خسف الله ارض  \n1                                       مده عده ارمله  \n2                                            شجر زقوم  \n3                                           صاي لقمان  \n4                                      محرم نساء زواج  \n5                                 منزل يقتل سبيل الله  \n6                            هلك اهل سيد نوح سلام طوف  \n7                         لماذ الق سيد يوسف سلام الجب  \n8                                    دام دعو نوح لقوم  \n9                                   ملاءكه مذكور القر  \n10                             لماذ اهل الله قوم شعيب  \n11                                اصحاب افك سيده عاءش  \n12                                      تدبر القر فرض  \n13                            دلاءل تشير بان انس مخير  \n14  لماذ تزوج النب اكثر اربع نساء ان ايه 3 سور نسا...  \n15                      اشار دماغ او لاجزاء دماغ القر  \n16                      ورد القر تنب صوت او اصوا معين  \n17                          انبياء ذكر القر انهم مسلم  \n18                     يجمع الله مءمن وابناء واهل جنه  \n19                                    معن صل الله سلم  \n20                    علاق خوف او اضطراب نفسيه والشيب  \n21                              موقف القر مثليه جنسيه  \n22                                 احترم اسلام انبياء  \n23                                     كرم اسلام مراه  \n24                          اشار القر ال عضو يعقل انس  ",
      "text/html": "<div>\n<style scoped>\n    .dataframe tbody tr th:only-of-type {\n        vertical-align: middle;\n    }\n\n    .dataframe tbody tr th {\n        vertical-align: top;\n    }\n\n    .dataframe thead th {\n        text-align: right;\n    }\n</style>\n<table border=\"1\" class=\"dataframe\">\n  <thead>\n    <tr style=\"text-align: right;\">\n      <th></th>\n      <th>qid</th>\n      <th>text</th>\n      <th>query</th>\n    </tr>\n  </thead>\n  <tbody>\n    <tr>\n      <th>0</th>\n      <td>114</td>\n      <td>من الذي خسف الله به الأرض؟</td>\n      <td>خسف الله ارض</td>\n    </tr>\n    <tr>\n      <th>1</th>\n      <td>124</td>\n      <td>كم مدة عدة الأرملة؟</td>\n      <td>مده عده ارمله</td>\n    </tr>\n    <tr>\n      <th>2</th>\n      <td>126</td>\n      <td>ما هي شجرة الزقوم؟</td>\n      <td>شجر زقوم</td>\n    </tr>\n    <tr>\n      <th>3</th>\n      <td>135</td>\n      <td>ما هي وصايا لقمان لابنه؟</td>\n      <td>صاي لقمان</td>\n    </tr>\n    <tr>\n      <th>4</th>\n      <td>156</td>\n      <td>من هن المحرمات من النساء في الزواج؟</td>\n      <td>محرم نساء زواج</td>\n    </tr>\n    <tr>\n      <th>5</th>\n      <td>157</td>\n      <td>ما هي منزلة من يقتل في سبيل الله؟</td>\n      <td>منزل يقتل سبيل الله</td>\n    </tr>\n    <tr>\n      <th>6</th>\n      <td>207</td>\n      <td>من هلك من أهل سيدنا نوح عليه السلام في الطوفان؟</td>\n      <td>هلك اهل سيد نوح سلام طوف</td>\n    </tr>\n    <tr>\n      <th>7</th>\n      <td>224</td>\n      <td>لماذا ألقي سيدنا يوسف عليه السلام في الجب؟</td>\n      <td>لماذ الق سيد يوسف سلام الجب</td>\n    </tr>\n    <tr>\n      <th>8</th>\n      <td>234</td>\n      <td>كم دامت دعوة نوح لقومه؟</td>\n      <td>دام دعو نوح لقوم</td>\n    </tr>\n    <tr>\n      <th>9</th>\n      <td>241</td>\n      <td>من هم الملائكة المذكورون في القرآن؟</td>\n      <td>ملاءكه مذكور القر</td>\n    </tr>\n    <tr>\n      <th>10</th>\n      <td>245</td>\n      <td>لماذا اهلك الله قوم شعيب؟</td>\n      <td>لماذ اهل الله قوم شعيب</td>\n    </tr>\n    <tr>\n      <th>11</th>\n      <td>260</td>\n      <td>من هم أصحاب الإفك على السيدة عائشة؟</td>\n      <td>اصحاب افك سيده عاءش</td>\n    </tr>\n    <tr>\n      <th>12</th>\n      <td>322</td>\n      <td>هل تدبر القرآن فرض؟</td>\n      <td>تدبر القر فرض</td>\n    </tr>\n    <tr>\n      <th>13</th>\n      <td>330</td>\n      <td>ما هي الدلائل التي تشير بأن الانسان مخير؟</td>\n      <td>دلاءل تشير بان انس مخير</td>\n    </tr>\n    <tr>\n      <th>14</th>\n      <td>336</td>\n      <td>لماذا تزوج النبي (ص) أكثر من أربعة نساء مع ان ...</td>\n      <td>لماذ تزوج النب اكثر اربع نساء ان ايه 3 سور نسا...</td>\n    </tr>\n    <tr>\n      <th>15</th>\n      <td>337</td>\n      <td>ما هي الإشارات للدماغ أو لأجزاء من الدّماغ في ...</td>\n      <td>اشار دماغ او لاجزاء دماغ القر</td>\n    </tr>\n    <tr>\n      <th>16</th>\n      <td>342</td>\n      <td>هل ورد في القرآن تنبيه من  صوت أو أصوات معيّنة؟</td>\n      <td>ورد القر تنب صوت او اصوا معين</td>\n    </tr>\n    <tr>\n      <th>17</th>\n      <td>352</td>\n      <td>من هم الأنبياء الذين ذكروا في القرآن على أنهم ...</td>\n      <td>انبياء ذكر القر انهم مسلم</td>\n    </tr>\n    <tr>\n      <th>18</th>\n      <td>360</td>\n      <td>هل سيجمع الله بين المؤمنين وأبنائهم وأهلهم في ...</td>\n      <td>يجمع الله مءمن وابناء واهل جنه</td>\n    </tr>\n    <tr>\n      <th>19</th>\n      <td>384</td>\n      <td>ما معنى صلى الله عليه وسلم؟</td>\n      <td>معن صل الله سلم</td>\n    </tr>\n    <tr>\n      <th>20</th>\n      <td>386</td>\n      <td>هل هناك علاقة بين الخوف أو الاضطرابات النفسية ...</td>\n      <td>علاق خوف او اضطراب نفسيه والشيب</td>\n    </tr>\n    <tr>\n      <th>21</th>\n      <td>397</td>\n      <td>ما هو موقف القرآن من المثلية الجنسية؟</td>\n      <td>موقف القر مثليه جنسيه</td>\n    </tr>\n    <tr>\n      <th>22</th>\n      <td>419</td>\n      <td>هل احترم الإسلام الأنبياء؟</td>\n      <td>احترم اسلام انبياء</td>\n    </tr>\n    <tr>\n      <th>23</th>\n      <td>424</td>\n      <td>هل كرّم الإسلام المرأة؟</td>\n      <td>كرم اسلام مراه</td>\n    </tr>\n    <tr>\n      <th>24</th>\n      <td>428</td>\n      <td>هل أشار القرآن إلى العضو الذي يعقل به الإنسان؟</td>\n      <td>اشار القر ال عضو يعقل انس</td>\n    </tr>\n  </tbody>\n</table>\n</div>"
     },
     "execution_count": 109,
     "metadata": {},
     "output_type": "execute_result"
    }
   ],
   "source": [
    "df_query_dev = prepare_data(query_dev_path, 'query', 'qid')\n",
    "df_query_dev"
   ],
   "metadata": {
    "collapsed": false,
    "ExecuteTime": {
     "end_time": "2023-08-11T17:12:42.538656700Z",
     "start_time": "2023-08-11T17:12:42.464142900Z"
    }
   }
  },
  {
   "cell_type": "markdown",
   "source": [
    "### Query-Passage Pair"
   ],
   "metadata": {
    "collapsed": false,
    "ExecuteTime": {
     "end_time": "2023-08-11T05:37:45.303203100Z",
     "start_time": "2023-08-11T05:37:45.255506500Z"
    }
   },
   "outputs": [
    {
     "name": "stdout",
     "output_type": "stream",
     "text": [
      "Cleaning passages\n",
      "Preprocessing - Applying normalization, stemming and stop word removal\n",
      "Done with preparation!\n"
     ]
    },
    {
     "data": {
      "text/plain": "    qid                                               text  \\\n0   114                         من الذي خسف الله به الأرض؟   \n1   124                                كم مدة عدة الأرملة؟   \n2   126                                 ما هي شجرة الزقوم؟   \n3   135                           ما هي وصايا لقمان لابنه؟   \n4   156                من هن المحرمات من النساء في الزواج؟   \n5   157                  ما هي منزلة من يقتل في سبيل الله؟   \n6   207    من هلك من أهل سيدنا نوح عليه السلام في الطوفان؟   \n7   224         لماذا ألقي سيدنا يوسف عليه السلام في الجب؟   \n8   234                            كم دامت دعوة نوح لقومه؟   \n9   241                من هم الملائكة المذكورون في القرآن؟   \n10  245                          لماذا اهلك الله قوم شعيب؟   \n11  260                من هم أصحاب الإفك على السيدة عائشة؟   \n12  322                                هل تدبر القرآن فرض؟   \n13  330          ما هي الدلائل التي تشير بأن الانسان مخير؟   \n14  336  لماذا تزوج النبي (ص) أكثر من أربعة نساء مع ان ...   \n15  337  ما هي الإشارات للدماغ أو لأجزاء من الدّماغ في ...   \n16  342    هل ورد في القرآن تنبيه من  صوت أو أصوات معيّنة؟   \n17  352  من هم الأنبياء الذين ذكروا في القرآن على أنهم ...   \n18  360  هل سيجمع الله بين المؤمنين وأبنائهم وأهلهم في ...   \n19  384                        ما معنى صلى الله عليه وسلم؟   \n20  386  هل هناك علاقة بين الخوف أو الاضطرابات النفسية ...   \n21  397              ما هو موقف القرآن من المثلية الجنسية؟   \n22  419                         هل احترم الإسلام الأنبياء؟   \n23  424                            هل كرّم الإسلام المرأة؟   \n24  428     هل أشار القرآن إلى العضو الذي يعقل به الإنسان؟   \n\n                                                query  \n0                                        خسف الله ارض  \n1                                       مده عده ارمله  \n2                                            شجر زقوم  \n3                                           صاي لقمان  \n4                                      محرم نساء زواج  \n5                                 منزل يقتل سبيل الله  \n6                            هلك اهل سيد نوح سلام طوف  \n7                         لماذ الق سيد يوسف سلام الجب  \n8                                    دام دعو نوح لقوم  \n9                                   ملاءكه مذكور القر  \n10                             لماذ اهل الله قوم شعيب  \n11                                اصحاب افك سيده عاءش  \n12                                      تدبر القر فرض  \n13                            دلاءل تشير بان انس مخير  \n14  لماذ تزوج النب اكثر اربع نساء ان ايه 3 سور نسا...  \n15                      اشار دماغ او لاجزاء دماغ القر  \n16                      ورد القر تنب صوت او اصوا معين  \n17                          انبياء ذكر القر انهم مسلم  \n18                     يجمع الله مءمن وابناء واهل جنه  \n19                                    معن صل الله سلم  \n20                    علاق خوف او اضطراب نفسيه والشيب  \n21                              موقف القر مثليه جنسيه  \n22                                 احترم اسلام انبياء  \n23                                     كرم اسلام مراه  \n24                          اشار القر ال عضو يعقل انس  ",
      "text/html": "<div>\n<style scoped>\n    .dataframe tbody tr th:only-of-type {\n        vertical-align: middle;\n    }\n\n    .dataframe tbody tr th {\n        vertical-align: top;\n    }\n\n    .dataframe thead th {\n        text-align: right;\n    }\n</style>\n<table border=\"1\" class=\"dataframe\">\n  <thead>\n    <tr style=\"text-align: right;\">\n      <th></th>\n      <th>qid</th>\n      <th>text</th>\n      <th>query</th>\n    </tr>\n  </thead>\n  <tbody>\n    <tr>\n      <th>0</th>\n      <td>114</td>\n      <td>من الذي خسف الله به الأرض؟</td>\n      <td>خسف الله ارض</td>\n    </tr>\n    <tr>\n      <th>1</th>\n      <td>124</td>\n      <td>كم مدة عدة الأرملة؟</td>\n      <td>مده عده ارمله</td>\n    </tr>\n    <tr>\n      <th>2</th>\n      <td>126</td>\n      <td>ما هي شجرة الزقوم؟</td>\n      <td>شجر زقوم</td>\n    </tr>\n    <tr>\n      <th>3</th>\n      <td>135</td>\n      <td>ما هي وصايا لقمان لابنه؟</td>\n      <td>صاي لقمان</td>\n    </tr>\n    <tr>\n      <th>4</th>\n      <td>156</td>\n      <td>من هن المحرمات من النساء في الزواج؟</td>\n      <td>محرم نساء زواج</td>\n    </tr>\n    <tr>\n      <th>5</th>\n      <td>157</td>\n      <td>ما هي منزلة من يقتل في سبيل الله؟</td>\n      <td>منزل يقتل سبيل الله</td>\n    </tr>\n    <tr>\n      <th>6</th>\n      <td>207</td>\n      <td>من هلك من أهل سيدنا نوح عليه السلام في الطوفان؟</td>\n      <td>هلك اهل سيد نوح سلام طوف</td>\n    </tr>\n    <tr>\n      <th>7</th>\n      <td>224</td>\n      <td>لماذا ألقي سيدنا يوسف عليه السلام في الجب؟</td>\n      <td>لماذ الق سيد يوسف سلام الجب</td>\n    </tr>\n    <tr>\n      <th>8</th>\n      <td>234</td>\n      <td>كم دامت دعوة نوح لقومه؟</td>\n      <td>دام دعو نوح لقوم</td>\n    </tr>\n    <tr>\n      <th>9</th>\n      <td>241</td>\n      <td>من هم الملائكة المذكورون في القرآن؟</td>\n      <td>ملاءكه مذكور القر</td>\n    </tr>\n    <tr>\n      <th>10</th>\n      <td>245</td>\n      <td>لماذا اهلك الله قوم شعيب؟</td>\n      <td>لماذ اهل الله قوم شعيب</td>\n    </tr>\n    <tr>\n      <th>11</th>\n      <td>260</td>\n      <td>من هم أصحاب الإفك على السيدة عائشة؟</td>\n      <td>اصحاب افك سيده عاءش</td>\n    </tr>\n    <tr>\n      <th>12</th>\n      <td>322</td>\n      <td>هل تدبر القرآن فرض؟</td>\n      <td>تدبر القر فرض</td>\n    </tr>\n    <tr>\n      <th>13</th>\n      <td>330</td>\n      <td>ما هي الدلائل التي تشير بأن الانسان مخير؟</td>\n      <td>دلاءل تشير بان انس مخير</td>\n    </tr>\n    <tr>\n      <th>14</th>\n      <td>336</td>\n      <td>لماذا تزوج النبي (ص) أكثر من أربعة نساء مع ان ...</td>\n      <td>لماذ تزوج النب اكثر اربع نساء ان ايه 3 سور نسا...</td>\n    </tr>\n    <tr>\n      <th>15</th>\n      <td>337</td>\n      <td>ما هي الإشارات للدماغ أو لأجزاء من الدّماغ في ...</td>\n      <td>اشار دماغ او لاجزاء دماغ القر</td>\n    </tr>\n    <tr>\n      <th>16</th>\n      <td>342</td>\n      <td>هل ورد في القرآن تنبيه من  صوت أو أصوات معيّنة؟</td>\n      <td>ورد القر تنب صوت او اصوا معين</td>\n    </tr>\n    <tr>\n      <th>17</th>\n      <td>352</td>\n      <td>من هم الأنبياء الذين ذكروا في القرآن على أنهم ...</td>\n      <td>انبياء ذكر القر انهم مسلم</td>\n    </tr>\n    <tr>\n      <th>18</th>\n      <td>360</td>\n      <td>هل سيجمع الله بين المؤمنين وأبنائهم وأهلهم في ...</td>\n      <td>يجمع الله مءمن وابناء واهل جنه</td>\n    </tr>\n    <tr>\n      <th>19</th>\n      <td>384</td>\n      <td>ما معنى صلى الله عليه وسلم؟</td>\n      <td>معن صل الله سلم</td>\n    </tr>\n    <tr>\n      <th>20</th>\n      <td>386</td>\n      <td>هل هناك علاقة بين الخوف أو الاضطرابات النفسية ...</td>\n      <td>علاق خوف او اضطراب نفسيه والشيب</td>\n    </tr>\n    <tr>\n      <th>21</th>\n      <td>397</td>\n      <td>ما هو موقف القرآن من المثلية الجنسية؟</td>\n      <td>موقف القر مثليه جنسيه</td>\n    </tr>\n    <tr>\n      <th>22</th>\n      <td>419</td>\n      <td>هل احترم الإسلام الأنبياء؟</td>\n      <td>احترم اسلام انبياء</td>\n    </tr>\n    <tr>\n      <th>23</th>\n      <td>424</td>\n      <td>هل كرّم الإسلام المرأة؟</td>\n      <td>كرم اسلام مراه</td>\n    </tr>\n    <tr>\n      <th>24</th>\n      <td>428</td>\n      <td>هل أشار القرآن إلى العضو الذي يعقل به الإنسان؟</td>\n      <td>اشار القر ال عضو يعقل انس</td>\n    </tr>\n  </tbody>\n</table>\n</div>"
     },
     "execution_count": 13,
     "metadata": {},
     "output_type": "execute_result"
    }
   ],
   "execution_count": 13
  },
  {
   "cell_type": "code",
   "execution_count": 110,
   "outputs": [
    {
     "data": {
      "text/plain": "     qid  Q0       docid  relevance\n0    101   0     7:85-93          1\n1    101   0    11:84-88          1\n2    101   0  26:176-191          1\n3    101   0    29:36-37          1\n4    102   0   7:103-108          1\n..   ...  ..         ...        ...\n967  374   0          -1          1\n968  391   0          -1          1\n969  392   0          -1          1\n970  394   0          -1          1\n971  387   0          -1          1\n\n[972 rows x 4 columns]",
      "text/html": "<div>\n<style scoped>\n    .dataframe tbody tr th:only-of-type {\n        vertical-align: middle;\n    }\n\n    .dataframe tbody tr th {\n        vertical-align: top;\n    }\n\n    .dataframe thead th {\n        text-align: right;\n    }\n</style>\n<table border=\"1\" class=\"dataframe\">\n  <thead>\n    <tr style=\"text-align: right;\">\n      <th></th>\n      <th>qid</th>\n      <th>Q0</th>\n      <th>docid</th>\n      <th>relevance</th>\n    </tr>\n  </thead>\n  <tbody>\n    <tr>\n      <th>0</th>\n      <td>101</td>\n      <td>0</td>\n      <td>7:85-93</td>\n      <td>1</td>\n    </tr>\n    <tr>\n      <th>1</th>\n      <td>101</td>\n      <td>0</td>\n      <td>11:84-88</td>\n      <td>1</td>\n    </tr>\n    <tr>\n      <th>2</th>\n      <td>101</td>\n      <td>0</td>\n      <td>26:176-191</td>\n      <td>1</td>\n    </tr>\n    <tr>\n      <th>3</th>\n      <td>101</td>\n      <td>0</td>\n      <td>29:36-37</td>\n      <td>1</td>\n    </tr>\n    <tr>\n      <th>4</th>\n      <td>102</td>\n      <td>0</td>\n      <td>7:103-108</td>\n      <td>1</td>\n    </tr>\n    <tr>\n      <th>...</th>\n      <td>...</td>\n      <td>...</td>\n      <td>...</td>\n      <td>...</td>\n    </tr>\n    <tr>\n      <th>967</th>\n      <td>374</td>\n      <td>0</td>\n      <td>-1</td>\n      <td>1</td>\n    </tr>\n    <tr>\n      <th>968</th>\n      <td>391</td>\n      <td>0</td>\n      <td>-1</td>\n      <td>1</td>\n    </tr>\n    <tr>\n      <th>969</th>\n      <td>392</td>\n      <td>0</td>\n      <td>-1</td>\n      <td>1</td>\n    </tr>\n    <tr>\n      <th>970</th>\n      <td>394</td>\n      <td>0</td>\n      <td>-1</td>\n      <td>1</td>\n    </tr>\n    <tr>\n      <th>971</th>\n      <td>387</td>\n      <td>0</td>\n      <td>-1</td>\n      <td>1</td>\n    </tr>\n  </tbody>\n</table>\n<p>972 rows × 4 columns</p>\n</div>"
     },
     "execution_count": 110,
     "metadata": {},
     "output_type": "execute_result"
    }
   ],
   "source": [
    "df_qppair_train = read_qrels_file(qp_pair_train_path)\n",
    "df_qppair_train"
   ],
   "metadata": {
    "collapsed": false,
    "ExecuteTime": {
     "end_time": "2023-08-11T17:12:42.542657100Z",
     "start_time": "2023-08-11T17:12:42.496142Z"
    }
   }
  },
  {
   "cell_type": "code",
   "execution_count": 111,
   "outputs": [
    {
     "data": {
      "text/plain": "     qid  Q0      docid  relevance\n0    114   0   28:76-80          1\n1    124   0  2:234-237          1\n2    126   0   37:62-74          1\n3    126   0   44:40-50          1\n4    126   0   56:41-56          1\n..   ...  ..        ...        ...\n155  428   0   47:20-24          1\n156  322   0         -1          1\n157  260   0         -1          1\n158  384   0         -1          1\n159  336   0         -1          1\n\n[160 rows x 4 columns]",
      "text/html": "<div>\n<style scoped>\n    .dataframe tbody tr th:only-of-type {\n        vertical-align: middle;\n    }\n\n    .dataframe tbody tr th {\n        vertical-align: top;\n    }\n\n    .dataframe thead th {\n        text-align: right;\n    }\n</style>\n<table border=\"1\" class=\"dataframe\">\n  <thead>\n    <tr style=\"text-align: right;\">\n      <th></th>\n      <th>qid</th>\n      <th>Q0</th>\n      <th>docid</th>\n      <th>relevance</th>\n    </tr>\n  </thead>\n  <tbody>\n    <tr>\n      <th>0</th>\n      <td>114</td>\n      <td>0</td>\n      <td>28:76-80</td>\n      <td>1</td>\n    </tr>\n    <tr>\n      <th>1</th>\n      <td>124</td>\n      <td>0</td>\n      <td>2:234-237</td>\n      <td>1</td>\n    </tr>\n    <tr>\n      <th>2</th>\n      <td>126</td>\n      <td>0</td>\n      <td>37:62-74</td>\n      <td>1</td>\n    </tr>\n    <tr>\n      <th>3</th>\n      <td>126</td>\n      <td>0</td>\n      <td>44:40-50</td>\n      <td>1</td>\n    </tr>\n    <tr>\n      <th>4</th>\n      <td>126</td>\n      <td>0</td>\n      <td>56:41-56</td>\n      <td>1</td>\n    </tr>\n    <tr>\n      <th>...</th>\n      <td>...</td>\n      <td>...</td>\n      <td>...</td>\n      <td>...</td>\n    </tr>\n    <tr>\n      <th>155</th>\n      <td>428</td>\n      <td>0</td>\n      <td>47:20-24</td>\n      <td>1</td>\n    </tr>\n    <tr>\n      <th>156</th>\n      <td>322</td>\n      <td>0</td>\n      <td>-1</td>\n      <td>1</td>\n    </tr>\n    <tr>\n      <th>157</th>\n      <td>260</td>\n      <td>0</td>\n      <td>-1</td>\n      <td>1</td>\n    </tr>\n    <tr>\n      <th>158</th>\n      <td>384</td>\n      <td>0</td>\n      <td>-1</td>\n      <td>1</td>\n    </tr>\n    <tr>\n      <th>159</th>\n      <td>336</td>\n      <td>0</td>\n      <td>-1</td>\n      <td>1</td>\n    </tr>\n  </tbody>\n</table>\n<p>160 rows × 4 columns</p>\n</div>"
     },
     "execution_count": 111,
     "metadata": {},
     "output_type": "execute_result"
    }
   ],
   "source": [
    "df_qppair_dev = read_qrels_file(qp_pair_dev_path)\n",
    "df_qppair_dev"
   ],
   "metadata": {
    "collapsed": false,
    "ExecuteTime": {
     "end_time": "2023-08-11T17:12:42.542657100Z",
     "start_time": "2023-08-11T17:12:42.511146700Z"
    }
   }
  },
  {
   "cell_type": "markdown",
   "source": [
    "# Model"
   ],
   "metadata": {
    "collapsed": false,
    "ExecuteTime": {
     "end_time": "2023-08-11T05:37:45.398058Z",
     "start_time": "2023-08-11T05:37:45.303203100Z"
    }
   },
   "outputs": [
    {
     "data": {
      "text/plain": "     qid  Q0      docid  relevance\n0    114   0   28:76-80          1\n1    124   0  2:234-237          1\n2    126   0   37:62-74          1\n3    126   0   44:40-50          1\n4    126   0   56:41-56          1\n..   ...  ..        ...        ...\n155  428   0   47:20-24          1\n156  322   0         -1          1\n157  260   0         -1          1\n158  384   0         -1          1\n159  336   0         -1          1\n\n[160 rows x 4 columns]",
      "text/html": "<div>\n<style scoped>\n    .dataframe tbody tr th:only-of-type {\n        vertical-align: middle;\n    }\n\n    .dataframe tbody tr th {\n        vertical-align: top;\n    }\n\n    .dataframe thead th {\n        text-align: right;\n    }\n</style>\n<table border=\"1\" class=\"dataframe\">\n  <thead>\n    <tr style=\"text-align: right;\">\n      <th></th>\n      <th>qid</th>\n      <th>Q0</th>\n      <th>docid</th>\n      <th>relevance</th>\n    </tr>\n  </thead>\n  <tbody>\n    <tr>\n      <th>0</th>\n      <td>114</td>\n      <td>0</td>\n      <td>28:76-80</td>\n      <td>1</td>\n    </tr>\n    <tr>\n      <th>1</th>\n      <td>124</td>\n      <td>0</td>\n      <td>2:234-237</td>\n      <td>1</td>\n    </tr>\n    <tr>\n      <th>2</th>\n      <td>126</td>\n      <td>0</td>\n      <td>37:62-74</td>\n      <td>1</td>\n    </tr>\n    <tr>\n      <th>3</th>\n      <td>126</td>\n      <td>0</td>\n      <td>44:40-50</td>\n      <td>1</td>\n    </tr>\n    <tr>\n      <th>4</th>\n      <td>126</td>\n      <td>0</td>\n      <td>56:41-56</td>\n      <td>1</td>\n    </tr>\n    <tr>\n      <th>...</th>\n      <td>...</td>\n      <td>...</td>\n      <td>...</td>\n      <td>...</td>\n    </tr>\n    <tr>\n      <th>155</th>\n      <td>428</td>\n      <td>0</td>\n      <td>47:20-24</td>\n      <td>1</td>\n    </tr>\n    <tr>\n      <th>156</th>\n      <td>322</td>\n      <td>0</td>\n      <td>-1</td>\n      <td>1</td>\n    </tr>\n    <tr>\n      <th>157</th>\n      <td>260</td>\n      <td>0</td>\n      <td>-1</td>\n      <td>1</td>\n    </tr>\n    <tr>\n      <th>158</th>\n      <td>384</td>\n      <td>0</td>\n      <td>-1</td>\n      <td>1</td>\n    </tr>\n    <tr>\n      <th>159</th>\n      <td>336</td>\n      <td>0</td>\n      <td>-1</td>\n      <td>1</td>\n    </tr>\n  </tbody>\n</table>\n<p>160 rows × 4 columns</p>\n</div>"
     },
     "execution_count": 15,
     "metadata": {},
     "output_type": "execute_result"
    }
   ],
   "execution_count": 15
  },
  {
   "cell_type": "markdown",
   "source": [
    "## Sentence Embedding\n"
   ],
   "metadata": {
    "collapsed": false
   }
  },
  {
   "cell_type": "code",
   "execution_count": 112,
   "outputs": [],
   "source": [
    "# from simcse import SimSCE\n",
    "from torch.utils.data import DataLoader\n",
    "from torch import nn\n",
    "from sentence_transformers import models, losses\n",
    "from sentence_transformers import LoggingHandler, SentenceTransformer, CrossEncoder, util, InputExample\n",
    "from sentence_transformers.evaluation import EmbeddingSimilarityEvaluator\n",
    "\n",
    "import logging\n",
    "from datetime import datetime\n",
    "import math"
   ],
   "metadata": {
    "collapsed": false,
    "ExecuteTime": {
     "end_time": "2023-08-11T17:12:42.572661700Z",
     "start_time": "2023-08-11T17:12:42.527656400Z"
    }
   }
  },
  {
   "cell_type": "code",
   "execution_count": 113,
   "outputs": [],
   "source": [
    "#### Just some code to print debug information to stdout\n",
    "logging.basicConfig(format='%(asctime)s - %(message)s',\n",
    "                    datefmt='%Y-%m-%d %H:%M:%S',\n",
    "                    level=logging.INFO,\n",
    "                    handlers=[LoggingHandler()])\n",
    "#### /print debug information to stdout"
   ],
   "metadata": {
    "collapsed": false,
    "ExecuteTime": {
     "end_time": "2023-08-11T17:12:42.635702900Z",
     "start_time": "2023-08-11T17:12:42.542657100Z"
    }
   }
  },
  {
   "cell_type": "markdown",
   "source": [
    "### Retrieval"
   ],
   "metadata": {
    "collapsed": false,
    "ExecuteTime": {
     "end_time": "2023-08-11T05:37:46.826773500Z",
     "start_time": "2023-08-11T05:37:46.811255200Z"
    }
   },
   "outputs": [],
   "execution_count": 17
  },
  {
   "cell_type": "code",
   "execution_count": 114,
   "outputs": [],
   "source": [
    "def save_query_passage_retrieval(result, tag, run_save=False):\n",
    "    if tag == \"BM25\":\n",
    "        result[\"Q0\"] = [\"Q0\"] * len(result)\n",
    "        result[\"tag\"] = [tag] * len(result)\n",
    "        result['qid'] = result[\"qid\"]\n",
    "        result['pid'] = result[\"docno\"]\n",
    "        tag = \"BM25_Final\"\n",
    "        result = result[[\"qid\", \"Q0\", \"pid\", \"rank\", \"score\", \"tag\"]]\n",
    "\n",
    "    elif tag == \"SimCSE_biencoder\" or tag == \"SimCSE_bm25_biencoder\":\n",
    "        np_result = np.array(result).flatten()\n",
    "        result = pd.DataFrame()\n",
    "\n",
    "        result[\"qid\"] = df_query_train[\"qid\"].tolist() * top_k\n",
    "        result = result.sort_values(by=['qid']).reset_index(drop=True)\n",
    "        result[\"Q0\"] = [\"Q0\"] * len(np_result)\n",
    "        result[\"pid\"] = [df_passage.iloc[x['corpus_id']]['pid'] for x in np_result]\n",
    "        result[\"rank\"] = list(range(1, top_k+1)) * len(df_query_train)\n",
    "        result[\"score\"] = [x['score'] for x in np_result]\n",
    "        result[\"tag\"] = [tag] * len(np_result)\n",
    "\n",
    "    elif tag == \"SimCSE_cross\":\n",
    "        result['tag'] = tag\n",
    "        result['Q0'] = 'Q0'\n",
    "        result = result[[\"qid\", \"Q0\", \"pid\", \"rank\", \"score\", \"tag\"]]\n",
    "\n",
    "    if run_save:\n",
    "        run_save_path = os.path.join(data_path, f\"runs/{tag}.tsv\")\n",
    "        result.to_csv(run_save_path, sep=\"\\t\", index=False, header=False)\n",
    "\n",
    "    return result"
   ],
   "metadata": {
    "collapsed": false,
    "ExecuteTime": {
     "end_time": "2023-08-11T17:12:42.645975600Z",
     "start_time": "2023-08-11T17:12:42.560655400Z"
    }
   }
  },
  {
   "cell_type": "markdown",
   "source": [
    "###  SimCSE (Bi-Encoder)"
   ],
   "metadata": {
    "collapsed": false,
    "ExecuteTime": {
     "end_time": "2023-08-11T07:43:14.211379800Z",
     "start_time": "2023-08-11T07:43:14.203374500Z"
    }
   },
   "outputs": [],
   "execution_count": 191
  },
  {
   "cell_type": "code",
   "execution_count": 115,
   "outputs": [],
   "source": [
    "#TODO : test with different models\n",
    "\n",
    "#bi_model_name = \"sentence-transformers/distiluse-base-multilingual-cased-v1\"\n",
    "#bi_model_name = \"aubmindlab/bert-large-arabertv02\" # run 0 : pAP@10 = 0.289\n",
    "#bi_model_name = \"wissamantoun/araelectra-base-artydiqa\" # run 1 : pAP@10 = 0.437\n",
    "#bi_model_name = \"salti/AraElectra-base-finetuned-ARCD\" # run 2 : pAP@10 = 0.397\n",
    "bi_model_name = \"ZeyadAhmed/AraElectra-Arabic-SQuADv2-QA\" # run 3 : pAP@10 = 0.435\n",
    "#bi_model_name = \"timpal0l/mdeberta-v3-base-squad2\" # run 4 : pAP@10 = 0.367\n",
    "#bi_model_name = \"gfdgdfgdg/arap_qa_bert\" # run 5 : pAP@10 = 0.184\n",
    "#bi_model_name = \"gfdgdfgdg/arap_qa_bert_large_v2\" # run6 : pAP@10 = 0.372\n",
    "#bi_model_name = \"gfdgdfgdg/arap_qa_bert_v2\" # run7 : pAP@10 = 0.344\n",
    "#bi_model_name = \"zohaib99k/Bert_Arabic-SQuADv2-QA\" # run8 : pAP@10 = 0.435\n",
    "#bi_model_name = \"arabi-elidrisi/ArabicDistilBERT_QA\" #run 9 : pAP@10 = 0.343\n",
    "#bi_model_name = \"MMars/Question_Answering_AraBERT_xtreme_ar\" #run 10 : pAP@10 = 0.337\n",
    "# bi_model_name = \"abdalrahmanshahrour/ArabicQA\" # run 11 : pAP@10 = 0.304\n",
    "# bi_model_name = \"abdalrahmanshahrour/xtremeQA-ar\" # run 12 : pAP@10 = 0.120\n",
    "\n",
    "model_save_path = os.path.join(data_path, f'model/training_simcse-{bi_model_name}-'+datetime.now().strftime(\"%Y-%m-%d_%H-%M-%S\"))"
   ],
   "metadata": {
    "collapsed": false,
    "ExecuteTime": {
     "end_time": "2023-08-11T17:12:42.663045Z",
     "start_time": "2023-08-11T17:12:42.575657500Z"
    }
   }
  },
  {
   "cell_type": "code",
   "execution_count": 116,
   "outputs": [
    {
     "name": "stdout",
     "output_type": "stream",
     "text": [
      "word_embedding_model Max Sequence Length: 256\n",
      "word_embedding_model dimension 768\n",
      "pooling_model sentence embedding dimension 768\n",
      "2023-08-11 10:12:43 - Use pytorch device: cuda\n"
     ]
    }
   ],
   "source": [
    "# Use Huggingface/transformers model (like BERT, RoBERTa, XLNet, XLM-R) for mapping tokens to embeddings\n",
    "word_embedding_model = models.Transformer(bi_model_name, max_seq_length=256)\n",
    "print(\"word_embedding_model Max Sequence Length:\", word_embedding_model.max_seq_length)\n",
    "print(\"word_embedding_model dimension\", word_embedding_model.get_word_embedding_dimension())\n",
    "\n",
    "# Apply mean pooling to get one fixed sized sentence vector\n",
    "pooling_model = models.Pooling(word_embedding_model.get_word_embedding_dimension())\n",
    "print(\"pooling_model sentence embedding dimension\", pooling_model.get_sentence_embedding_dimension())\n",
    "\n",
    "dense_model = models.Dense(in_features=pooling_model.get_sentence_embedding_dimension(), out_features=256, activation_function=nn.Tanh())\n",
    "\n",
    "# bi_encoder = SentenceTransformer(modules=[word_embedding_model, pooling_model])\n",
    "bi_encoder = SentenceTransformer(modules=[word_embedding_model, pooling_model, dense_model])"
   ],
   "metadata": {
    "collapsed": false,
    "ExecuteTime": {
     "end_time": "2023-08-11T17:12:43.615750500Z",
     "start_time": "2023-08-11T17:12:42.591656800Z"
    }
   }
  },
  {
   "cell_type": "code",
   "execution_count": 118,
   "outputs": [],
   "source": [
    "train_samples_passage = []\n",
    "#     add query train to train samples to make a more generalized embedding model\n",
    "for _, row in df_passage.iterrows():\n",
    "    train_samples_passage.append(InputExample(texts=[row['passage'], row['passage']]))"
   ],
   "metadata": {
    "collapsed": false,
    "ExecuteTime": {
     "end_time": "2023-08-11T17:12:43.677705700Z",
     "start_time": "2023-08-11T17:12:43.631705700Z"
    }
   }
  },
  {
   "cell_type": "code",
   "execution_count": 119,
   "outputs": [],
   "source": [
    "train_samples_qp = []\n",
    "for _, row in df_qppair_train.iterrows():\n",
    "    query_id = row['qid']\n",
    "\n",
    "    query = df_query_train[df_query_train['qid'] == query_id]['query'].tolist()[0]\n",
    "    passage_id = row['docid']\n",
    "    if passage_id == '-1':\n",
    "        continue\n",
    "    else:\n",
    "        passage = df_passage[df_passage['pid'] == passage_id]['passage'].tolist()[0]\n",
    "        label = row['relevance']\n",
    "        #positive sample\n",
    "        train_samples_qp.append(InputExample(texts=[query, passage], label=label))\n",
    "        train_samples_qp.append(InputExample(texts=[passage, query], label=label))"
   ],
   "metadata": {
    "collapsed": false,
    "ExecuteTime": {
     "end_time": "2023-08-11T17:12:44.017245800Z",
     "start_time": "2023-08-11T17:12:43.663705200Z"
    }
   }
  },
  {
   "cell_type": "code",
   "execution_count": 134,
   "outputs": [],
   "source": [
    "top_k = 75\n",
    "BM25_model = pt.BatchRetrieve(index, controls = {\"wmodel\": \"BM25\"}, num_results=top_k)\n",
    "\n",
    "train_samples_qp_contrastive = []\n",
    "for _, row in df_qppair_train.groupby('qid'):\n",
    "    # print(row)\n",
    "    query_id = row['qid'].tolist()[0]\n",
    "    query = df_query_train[df_query_train['qid'] == query_id]['query'].tolist()[0]\n",
    "    bm25_related_passage = BM25_model.search(query)['docno'].tolist()\n",
    "    possitive_passage = row['docid'].tolist()\n",
    "    negative_passage = list(set(bm25_related_passage) - set(possitive_passage))\n",
    "    # print(bm25_related_passage)\n",
    "    # print(possitive_passage)\n",
    "    # print(negative_passage)\n",
    "\n",
    "    for pos_passage in possitive_passage:\n",
    "        if pos_passage == '-1':\n",
    "            continue\n",
    "        else:\n",
    "            passage = df_passage[df_passage['pid'] == pos_passage]['passage'].tolist()[0]\n",
    "            label = 1\n",
    "            #positive sample\n",
    "            train_samples_qp_contrastive.append(InputExample(texts=[query, passage], label=label))\n",
    "            train_samples_qp_contrastive.append(InputExample(texts=[passage, query], label=label))\n",
    "\n",
    "    for neg_passage in negative_passage:\n",
    "        if neg_passage == '-1':\n",
    "            continue\n",
    "        else:\n",
    "            passage = df_passage[df_passage['pid'] == neg_passage]['passage'].tolist()[0]\n",
    "            label = 0\n",
    "            #positive sample\n",
    "            train_samples_qp_contrastive.append(InputExample(texts=[query, passage], label=label))\n",
    "            train_samples_qp_contrastive.append(InputExample(texts=[passage, query], label=label))\n"
   ],
   "metadata": {
    "collapsed": false,
    "ExecuteTime": {
     "end_time": "2023-08-11T17:18:54.589418100Z",
     "start_time": "2023-08-11T17:18:51.961855800Z"
    }
   }
  },
  {
   "cell_type": "code",
   "execution_count": 131,
   "outputs": [],
   "source": [
    "top_k = 50\n",
    "BM25_model = pt.BatchRetrieve(index, controls = {\"wmodel\": \"BM25\"}, num_results=top_k)\n",
    "\n",
    "train_samples_qp_triple = []\n",
    "for _, row in df_qppair_train.groupby('qid'):\n",
    "    # print(row)\n",
    "    query_id = row['qid'].tolist()[0]\n",
    "    query = df_query_train[df_query_train['qid'] == query_id]['query'].tolist()[0]\n",
    "    bm25_related_passage = BM25_model.search(query)['docno'].tolist()\n",
    "    possitive_passage = row['docid'].tolist()\n",
    "    negative_passage = list(set(bm25_related_passage) - set(possitive_passage))\n",
    "    # print(bm25_related_passage)\n",
    "    # print(possitive_passage)\n",
    "    # print(negative_passage)\n",
    "\n",
    "    for pos_passage_id in possitive_passage:\n",
    "        for neg_passage_id in negative_passage:\n",
    "            if pos_passage_id == '-1':\n",
    "                continue\n",
    "            else:\n",
    "\n",
    "                pos_passage = df_passage[df_passage['pid'] == pos_passage_id]['passage'].tolist()[0]\n",
    "                neg_passage = df_passage[df_passage['pid'] == neg_passage_id]['passage'].tolist()[0]\n",
    "                train_samples_qp_triple.append(InputExample(texts=[query, pos_passage, neg_passage]))\n"
   ],
   "metadata": {
    "collapsed": false,
    "ExecuteTime": {
     "end_time": "2023-08-11T17:17:54.689946600Z",
     "start_time": "2023-08-11T17:17:43.169723200Z"
    }
   }
  },
  {
   "cell_type": "markdown",
   "source": [
    "#### Train Bi-Encoder"
   ],
   "metadata": {
    "collapsed": false,
    "ExecuteTime": {
     "end_time": "2023-08-11T05:41:25.811358200Z",
     "start_time": "2023-08-11T05:40:51.432672100Z"
    }
   },
   "outputs": [],
   "execution_count": null
  },
  {
   "cell_type": "code",
   "execution_count": 136,
   "outputs": [
    {
     "data": {
      "text/plain": "32541"
     },
     "execution_count": 136,
     "metadata": {},
     "output_type": "execute_result"
    }
   ],
   "source": [
    "len(train_samples_qp_triple)"
   ],
   "metadata": {
    "collapsed": false,
    "ExecuteTime": {
     "end_time": "2023-08-11T17:19:14.656356200Z",
     "start_time": "2023-08-11T17:19:14.614950500Z"
    }
   }
  },
  {
   "cell_type": "code",
   "execution_count": 137,
   "outputs": [],
   "source": [
    "# Configure the training\n",
    "num_epochs = 10\n",
    "#TODO: change the batch size to 128 or 256 or 512 to run faster\n",
    "train_batch_size = 32\n",
    "\n",
    "# add query train to train samples to make a more generalized embedding model\n",
    "# train_biencoder_dataloader = DataLoader(train_samples_passage, shuffle=True, batch_size=train_batch_size)\n",
    "# train_qp_dataloader = DataLoader(train_samples_qp, shuffle=True, batch_size=train_batch_size)\n",
    "train_qp_contrastive_dataloader = DataLoader(train_samples_qp_contrastive, shuffle=True, batch_size=train_batch_size)\n",
    "#TODO : change Data to triple to see how performance changes, and change the loss function, also change num_epoch to 5\n",
    "# train_qp_triple_dataloader = DataLoader(train_samples_qp_triple, shuffle=True, batch_size=train_batch_size)\n",
    "\n",
    "# train_biencoder_loss = losses.MultipleNegativesRankingLoss(bi_encoder)\n",
    "train_biencoder_loss = losses.ContrastiveLoss(bi_encoder)\n",
    "# train_biencoder_loss = losses.TripletLoss(model=bi_encoder)\n",
    "# train_biencoder_loss = losses.CosineSimilarityLoss(bi_encoder)\n",
    "# train_biencoder_loss = losses.OnlineContrastiveLoss(bi_encoder)"
   ],
   "metadata": {
    "collapsed": false,
    "ExecuteTime": {
     "end_time": "2023-08-11T17:19:33.879207200Z",
     "start_time": "2023-08-11T17:19:33.863206500Z"
    }
   }
  },
  {
   "cell_type": "code",
   "execution_count": 138,
   "outputs": [
    {
     "name": "stdout",
     "output_type": "stream",
     "text": [
      "2023-08-11 10:19:35 - Warmup-steps: 601\n"
     ]
    },
    {
     "data": {
      "text/plain": "Epoch:   0%|          | 0/10 [00:00<?, ?it/s]",
      "application/vnd.jupyter.widget-view+json": {
       "version_major": 2,
       "version_minor": 0,
       "model_id": "a20cb9c6b9c148aaa47fdf077953c725"
      }
     },
     "metadata": {},
     "output_type": "display_data"
    },
    {
     "data": {
      "text/plain": "Iteration:   0%|          | 0/601 [00:00<?, ?it/s]",
      "application/vnd.jupyter.widget-view+json": {
       "version_major": 2,
       "version_minor": 0,
       "model_id": "fdf7014b9f7a400ea0efc675e93a3c1f"
      }
     },
     "metadata": {},
     "output_type": "display_data"
    },
    {
     "data": {
      "text/plain": "Iteration:   0%|          | 0/601 [00:00<?, ?it/s]",
      "application/vnd.jupyter.widget-view+json": {
       "version_major": 2,
       "version_minor": 0,
       "model_id": "4823946f321f468e816ddd3edf0e0c17"
      }
     },
     "metadata": {},
     "output_type": "display_data"
    },
    {
     "data": {
      "text/plain": "Iteration:   0%|          | 0/601 [00:00<?, ?it/s]",
      "application/vnd.jupyter.widget-view+json": {
       "version_major": 2,
       "version_minor": 0,
       "model_id": "df0cbe637dec43be8789805af0609de8"
      }
     },
     "metadata": {},
     "output_type": "display_data"
    },
    {
     "data": {
      "text/plain": "Iteration:   0%|          | 0/601 [00:00<?, ?it/s]",
      "application/vnd.jupyter.widget-view+json": {
       "version_major": 2,
       "version_minor": 0,
       "model_id": "5505c2645bb84e61ad4d86f6162d75b6"
      }
     },
     "metadata": {},
     "output_type": "display_data"
    },
    {
     "data": {
      "text/plain": "Iteration:   0%|          | 0/601 [00:00<?, ?it/s]",
      "application/vnd.jupyter.widget-view+json": {
       "version_major": 2,
       "version_minor": 0,
       "model_id": "040b32a853ca40c692d918516d30b399"
      }
     },
     "metadata": {},
     "output_type": "display_data"
    },
    {
     "data": {
      "text/plain": "Iteration:   0%|          | 0/601 [00:00<?, ?it/s]",
      "application/vnd.jupyter.widget-view+json": {
       "version_major": 2,
       "version_minor": 0,
       "model_id": "5bd3e33b71f94382b4be83ff883d5fd4"
      }
     },
     "metadata": {},
     "output_type": "display_data"
    },
    {
     "data": {
      "text/plain": "Iteration:   0%|          | 0/601 [00:00<?, ?it/s]",
      "application/vnd.jupyter.widget-view+json": {
       "version_major": 2,
       "version_minor": 0,
       "model_id": "abb6500f1fd2472888c0440f43c97eaf"
      }
     },
     "metadata": {},
     "output_type": "display_data"
    },
    {
     "data": {
      "text/plain": "Iteration:   0%|          | 0/601 [00:00<?, ?it/s]",
      "application/vnd.jupyter.widget-view+json": {
       "version_major": 2,
       "version_minor": 0,
       "model_id": "b9e4c6dc1af84aa3a4809c927b757d0e"
      }
     },
     "metadata": {},
     "output_type": "display_data"
    },
    {
     "data": {
      "text/plain": "Iteration:   0%|          | 0/601 [00:00<?, ?it/s]",
      "application/vnd.jupyter.widget-view+json": {
       "version_major": 2,
       "version_minor": 0,
       "model_id": "eccfb034caf34d3593d096404676ded7"
      }
     },
     "metadata": {},
     "output_type": "display_data"
    },
    {
     "data": {
      "text/plain": "Iteration:   0%|          | 0/601 [00:00<?, ?it/s]",
      "application/vnd.jupyter.widget-view+json": {
       "version_major": 2,
       "version_minor": 0,
       "model_id": "a3467395707e46d5abfc5719af7ec7af"
      }
     },
     "metadata": {},
     "output_type": "display_data"
    },
    {
     "name": "stdout",
     "output_type": "stream",
     "text": [
      "2023-08-11 11:50:58 - Save model to ../data\\model/training_simcse-ZeyadAhmed/AraElectra-Arabic-SQuADv2-QA-2023-08-11_10-12-42\n"
     ]
    }
   ],
   "source": [
    "warmup_steps = math.ceil(len(train_qp_contrastive_dataloader) * num_epochs * 0.1) #10% of train data for warm-up\n",
    "logging.info(\"Warmup-steps: {}\".format(warmup_steps))\n",
    "\n",
    "# logging.info(\"Performance before training\")\n",
    "# dev_evaluator(model)\n",
    "\n",
    "bi_encoder.fit(train_objectives=[(train_qp_contrastive_dataloader, train_biencoder_loss)],\n",
    "          # evaluator=dev_evaluator,\n",
    "          epochs=num_epochs,\n",
    "          evaluation_steps=100,\n",
    "          warmup_steps=warmup_steps,\n",
    "          output_path=model_save_path\n",
    "          )"
   ],
   "metadata": {
    "collapsed": false,
    "ExecuteTime": {
     "end_time": "2023-08-11T18:50:58.767330200Z",
     "start_time": "2023-08-11T17:19:35.541728400Z"
    }
   }
  },
  {
   "cell_type": "code",
   "execution_count": 139,
   "outputs": [
    {
     "data": {
      "text/plain": "Batches:   0%|          | 0/40 [00:00<?, ?it/s]",
      "application/vnd.jupyter.widget-view+json": {
       "version_major": 2,
       "version_minor": 0,
       "model_id": "cfe9b4adbb584969a9cab2c3e9327d69"
      }
     },
     "metadata": {},
     "output_type": "display_data"
    },
    {
     "data": {
      "text/plain": "Batches:   0%|          | 0/6 [00:00<?, ?it/s]",
      "application/vnd.jupyter.widget-view+json": {
       "version_major": 2,
       "version_minor": 0,
       "model_id": "2e1c4b362adc4598aab1b8b958383daa"
      }
     },
     "metadata": {},
     "output_type": "display_data"
    },
    {
     "data": {
      "text/plain": "Batches:   0%|          | 0/1 [00:00<?, ?it/s]",
      "application/vnd.jupyter.widget-view+json": {
       "version_major": 2,
       "version_minor": 0,
       "model_id": "9b46ffa68bb64c7682b8be89038407a9"
      }
     },
     "metadata": {},
     "output_type": "display_data"
    }
   ],
   "source": [
    "passage_embeddings = bi_encoder.encode(df_passage['passage'].tolist(), convert_to_tensor=True, show_progress_bar=True)\n",
    "\n",
    "query_train_embeddings = bi_encoder.encode(df_query_train['query'].tolist(), convert_to_tensor=True, show_progress_bar=True)\n",
    "query_dev_embeddings = bi_encoder.encode(df_query_dev['query'].tolist(), convert_to_tensor=True, show_progress_bar=True)\n",
    "\n",
    "df_passage['embedding'] = passage_embeddings.cpu().numpy().tolist()\n",
    "df_query_train['embedding'] = query_train_embeddings.cpu().numpy().tolist()\n",
    "df_query_dev['embedding'] = query_dev_embeddings.cpu().numpy().tolist()\n",
    "\n",
    "# for sentence, embedding in zip(df_passage, passage_embeddings):\n",
    "#     print(\"Sentence:\", sentence)\n",
    "#     print(\"Embedding:\", embedding)\n",
    "#     print(\"\")"
   ],
   "metadata": {
    "collapsed": false,
    "ExecuteTime": {
     "end_time": "2023-08-11T18:51:01.063637500Z",
     "start_time": "2023-08-11T18:50:58.767330200Z"
    }
   }
  },
  {
   "cell_type": "code",
   "execution_count": 140,
   "outputs": [],
   "source": [
    "# test_samples = []\n",
    "# with gzip.open(sts_dataset_path, 'rt', encoding='utf8') as fIn:\n",
    "#     reader = csv.DictReader(fIn, delimiter='\\t', quoting=csv.QUOTE_NONE)\n",
    "#     for row in reader:\n",
    "#         if row['split'] == 'test':\n",
    "#             score = float(row['score']) / 5.0 #Normalize score to range 0 ... 1\n",
    "#             test_samples.append(InputExample(texts=[row['sentence1'], row['sentence2']], label=score))\n",
    "#\n",
    "# model = SentenceTransformer(model_save_path)\n",
    "# test_evaluator = EmbeddingSimilarityEvaluator.from_input_examples(test_samples, batch_size=train_batch_size, name='sts-test')\n",
    "# test_evaluator(model, output_path=model_save_path)\n"
   ],
   "metadata": {
    "collapsed": false,
    "ExecuteTime": {
     "end_time": "2023-08-11T18:51:01.080641200Z",
     "start_time": "2023-08-11T18:51:01.062638500Z"
    }
   }
  },
  {
   "cell_type": "markdown",
   "source": [
    "#### Semantic Search"
   ],
   "metadata": {
    "collapsed": false,
    "ExecuteTime": {
     "end_time": "2023-08-11T05:46:25.782885900Z",
     "start_time": "2023-08-11T05:44:41.894786800Z"
    }
   },
   "outputs": [
    {
     "name": "stdout",
     "output_type": "stream",
     "text": [
      "2023-08-10 22:44:41 - Warmup-steps: 45\n"
     ]
    },
    {
     "data": {
      "text/plain": "Epoch:   0%|          | 0/1 [00:00<?, ?it/s]",
      "application/vnd.jupyter.widget-view+json": {
       "version_major": 2,
       "version_minor": 0,
       "model_id": "bcc6162ce81a487ab3117f9ea8f9561c"
      }
     },
     "metadata": {},
     "output_type": "display_data"
    },
    {
     "data": {
      "text/plain": "Iteration:   0%|          | 0/450 [00:00<?, ?it/s]",
      "application/vnd.jupyter.widget-view+json": {
       "version_major": 2,
       "version_minor": 0,
       "model_id": "a806fa4399334ed995b40f378b05711f"
      }
     },
     "metadata": {},
     "output_type": "display_data"
    },
    {
     "ename": "KeyboardInterrupt",
     "evalue": "",
     "output_type": "error",
     "traceback": [
      "\u001B[1;31m---------------------------------------------------------------------------\u001B[0m",
      "\u001B[1;31mKeyboardInterrupt\u001B[0m                         Traceback (most recent call last)",
      "Cell \u001B[1;32mIn[30], line 7\u001B[0m\n\u001B[0;32m      2\u001B[0m logging\u001B[38;5;241m.\u001B[39minfo(\u001B[38;5;124m\"\u001B[39m\u001B[38;5;124mWarmup-steps: \u001B[39m\u001B[38;5;132;01m{}\u001B[39;00m\u001B[38;5;124m\"\u001B[39m\u001B[38;5;241m.\u001B[39mformat(warmup_steps))\n\u001B[0;32m      4\u001B[0m \u001B[38;5;66;03m# logging.info(\"Performance before training\")\u001B[39;00m\n\u001B[0;32m      5\u001B[0m \u001B[38;5;66;03m# dev_evaluator(model)\u001B[39;00m\n\u001B[1;32m----> 7\u001B[0m \u001B[43mbi_encoder\u001B[49m\u001B[38;5;241;43m.\u001B[39;49m\u001B[43mfit\u001B[49m\u001B[43m(\u001B[49m\u001B[43mtrain_objectives\u001B[49m\u001B[38;5;241;43m=\u001B[39;49m\u001B[43m[\u001B[49m\u001B[43m(\u001B[49m\u001B[43mtrain_biencoder_dataloader\u001B[49m\u001B[43m,\u001B[49m\u001B[43m \u001B[49m\u001B[43mtrain_biencoder_loss\u001B[49m\u001B[43m)\u001B[49m\u001B[43m]\u001B[49m\u001B[43m,\u001B[49m\n\u001B[0;32m      8\u001B[0m \u001B[43m          \u001B[49m\u001B[38;5;66;43;03m# evaluator=dev_evaluator,\u001B[39;49;00m\n\u001B[0;32m      9\u001B[0m \u001B[43m          \u001B[49m\u001B[43mepochs\u001B[49m\u001B[38;5;241;43m=\u001B[39;49m\u001B[43mnum_epochs\u001B[49m\u001B[43m,\u001B[49m\n\u001B[0;32m     10\u001B[0m \u001B[43m          \u001B[49m\u001B[43mevaluation_steps\u001B[49m\u001B[38;5;241;43m=\u001B[39;49m\u001B[38;5;241;43m100\u001B[39;49m\u001B[43m,\u001B[49m\n\u001B[0;32m     11\u001B[0m \u001B[43m          \u001B[49m\u001B[43mwarmup_steps\u001B[49m\u001B[38;5;241;43m=\u001B[39;49m\u001B[43mwarmup_steps\u001B[49m\u001B[43m,\u001B[49m\n\u001B[0;32m     12\u001B[0m \u001B[43m          \u001B[49m\u001B[38;5;66;43;03m# output_path=model_save_path\u001B[39;49;00m\n\u001B[0;32m     13\u001B[0m \u001B[43m          \u001B[49m\u001B[43m)\u001B[49m\n",
      "File \u001B[1;32mC:\\Users\\gargo\\AppData\\Local\\Programs\\Python\\Python310\\lib\\site-packages\\sentence_transformers\\SentenceTransformer.py:722\u001B[0m, in \u001B[0;36mSentenceTransformer.fit\u001B[1;34m(self, train_objectives, evaluator, epochs, steps_per_epoch, scheduler, warmup_steps, optimizer_class, optimizer_params, weight_decay, evaluation_steps, output_path, save_best_model, max_grad_norm, use_amp, callback, show_progress_bar, checkpoint_path, checkpoint_save_steps, checkpoint_save_total_limit)\u001B[0m\n\u001B[0;32m    720\u001B[0m \u001B[38;5;28;01melse\u001B[39;00m:\n\u001B[0;32m    721\u001B[0m     loss_value \u001B[38;5;241m=\u001B[39m loss_model(features, labels)\n\u001B[1;32m--> 722\u001B[0m     \u001B[43mloss_value\u001B[49m\u001B[38;5;241;43m.\u001B[39;49m\u001B[43mbackward\u001B[49m\u001B[43m(\u001B[49m\u001B[43m)\u001B[49m\n\u001B[0;32m    723\u001B[0m     torch\u001B[38;5;241m.\u001B[39mnn\u001B[38;5;241m.\u001B[39mutils\u001B[38;5;241m.\u001B[39mclip_grad_norm_(loss_model\u001B[38;5;241m.\u001B[39mparameters(), max_grad_norm)\n\u001B[0;32m    724\u001B[0m     optimizer\u001B[38;5;241m.\u001B[39mstep()\n",
      "File \u001B[1;32mC:\\Users\\gargo\\AppData\\Local\\Programs\\Python\\Python310\\lib\\site-packages\\torch\\_tensor.py:487\u001B[0m, in \u001B[0;36mTensor.backward\u001B[1;34m(self, gradient, retain_graph, create_graph, inputs)\u001B[0m\n\u001B[0;32m    477\u001B[0m \u001B[38;5;28;01mif\u001B[39;00m has_torch_function_unary(\u001B[38;5;28mself\u001B[39m):\n\u001B[0;32m    478\u001B[0m     \u001B[38;5;28;01mreturn\u001B[39;00m handle_torch_function(\n\u001B[0;32m    479\u001B[0m         Tensor\u001B[38;5;241m.\u001B[39mbackward,\n\u001B[0;32m    480\u001B[0m         (\u001B[38;5;28mself\u001B[39m,),\n\u001B[1;32m   (...)\u001B[0m\n\u001B[0;32m    485\u001B[0m         inputs\u001B[38;5;241m=\u001B[39minputs,\n\u001B[0;32m    486\u001B[0m     )\n\u001B[1;32m--> 487\u001B[0m \u001B[43mtorch\u001B[49m\u001B[38;5;241;43m.\u001B[39;49m\u001B[43mautograd\u001B[49m\u001B[38;5;241;43m.\u001B[39;49m\u001B[43mbackward\u001B[49m\u001B[43m(\u001B[49m\n\u001B[0;32m    488\u001B[0m \u001B[43m    \u001B[49m\u001B[38;5;28;43mself\u001B[39;49m\u001B[43m,\u001B[49m\u001B[43m \u001B[49m\u001B[43mgradient\u001B[49m\u001B[43m,\u001B[49m\u001B[43m \u001B[49m\u001B[43mretain_graph\u001B[49m\u001B[43m,\u001B[49m\u001B[43m \u001B[49m\u001B[43mcreate_graph\u001B[49m\u001B[43m,\u001B[49m\u001B[43m \u001B[49m\u001B[43minputs\u001B[49m\u001B[38;5;241;43m=\u001B[39;49m\u001B[43minputs\u001B[49m\n\u001B[0;32m    489\u001B[0m \u001B[43m\u001B[49m\u001B[43m)\u001B[49m\n",
      "File \u001B[1;32mC:\\Users\\gargo\\AppData\\Local\\Programs\\Python\\Python310\\lib\\site-packages\\torch\\autograd\\__init__.py:200\u001B[0m, in \u001B[0;36mbackward\u001B[1;34m(tensors, grad_tensors, retain_graph, create_graph, grad_variables, inputs)\u001B[0m\n\u001B[0;32m    195\u001B[0m     retain_graph \u001B[38;5;241m=\u001B[39m create_graph\n\u001B[0;32m    197\u001B[0m \u001B[38;5;66;03m# The reason we repeat same the comment below is that\u001B[39;00m\n\u001B[0;32m    198\u001B[0m \u001B[38;5;66;03m# some Python versions print out the first line of a multi-line function\u001B[39;00m\n\u001B[0;32m    199\u001B[0m \u001B[38;5;66;03m# calls in the traceback and some print out the last line\u001B[39;00m\n\u001B[1;32m--> 200\u001B[0m \u001B[43mVariable\u001B[49m\u001B[38;5;241;43m.\u001B[39;49m\u001B[43m_execution_engine\u001B[49m\u001B[38;5;241;43m.\u001B[39;49m\u001B[43mrun_backward\u001B[49m\u001B[43m(\u001B[49m\u001B[43m  \u001B[49m\u001B[38;5;66;43;03m# Calls into the C++ engine to run the backward pass\u001B[39;49;00m\n\u001B[0;32m    201\u001B[0m \u001B[43m    \u001B[49m\u001B[43mtensors\u001B[49m\u001B[43m,\u001B[49m\u001B[43m \u001B[49m\u001B[43mgrad_tensors_\u001B[49m\u001B[43m,\u001B[49m\u001B[43m \u001B[49m\u001B[43mretain_graph\u001B[49m\u001B[43m,\u001B[49m\u001B[43m \u001B[49m\u001B[43mcreate_graph\u001B[49m\u001B[43m,\u001B[49m\u001B[43m \u001B[49m\u001B[43minputs\u001B[49m\u001B[43m,\u001B[49m\n\u001B[0;32m    202\u001B[0m \u001B[43m    \u001B[49m\u001B[43mallow_unreachable\u001B[49m\u001B[38;5;241;43m=\u001B[39;49m\u001B[38;5;28;43;01mTrue\u001B[39;49;00m\u001B[43m,\u001B[49m\u001B[43m \u001B[49m\u001B[43maccumulate_grad\u001B[49m\u001B[38;5;241;43m=\u001B[39;49m\u001B[38;5;28;43;01mTrue\u001B[39;49;00m\u001B[43m)\u001B[49m\n",
      "\u001B[1;31mKeyboardInterrupt\u001B[0m: "
     ]
    }
   ],
   "execution_count": 30
  },
  {
   "cell_type": "code",
   "execution_count": 141,
   "outputs": [
    {
     "name": "stdout",
     "output_type": "stream",
     "text": [
      "ZeyadAhmed/AraElectra-Arabic-SQuADv2-QA ContrastiveLoss(\n",
      "  (model): SentenceTransformer(\n",
      "    (0): Transformer({'max_seq_length': 256, 'do_lower_case': False}) with Transformer model: ElectraModel \n",
      "    (1): Pooling({'word_embedding_dimension': 768, 'pooling_mode_cls_token': False, 'pooling_mode_mean_tokens': True, 'pooling_mode_max_tokens': False, 'pooling_mode_mean_sqrt_len_tokens': False})\n",
      "    (2): Dense({'in_features': 768, 'out_features': 256, 'bias': True, 'activation_function': 'torch.nn.modules.activation.Tanh'})\n",
      "  )\n",
      ")\n",
      "Format check: Passed\n",
      "     map  recip_rank\n",
      "0.152326    0.233085\n"
     ]
    },
    {
     "data": {
      "text/plain": "       qid  Q0       pid  rank     score               tag\n0      101  Q0    17:1-1     1  0.880060  SimCSE_biencoder\n1      101  Q0  20:25-37     2  0.840154  SimCSE_biencoder\n2      101  Q0  29:36-37     3  0.827499  SimCSE_biencoder\n3      101  Q0   7:85-93     4  0.813496  SimCSE_biencoder\n4      101  Q0  21:87-88     5  0.813406  SimCSE_biencoder\n...    ...  ..       ...   ...       ...               ...\n13045  427  Q0   62:9-11    71  0.593552  SimCSE_biencoder\n13046  427  Q0     1:7-7    72  0.591879  SimCSE_biencoder\n13047  427  Q0   110:1-3    73  0.591441  SimCSE_biencoder\n13048  427  Q0   109:1-6    74  0.589989  SimCSE_biencoder\n13049  427  Q0  30:38-41    75  0.589645  SimCSE_biencoder\n\n[13050 rows x 6 columns]",
      "text/html": "<div>\n<style scoped>\n    .dataframe tbody tr th:only-of-type {\n        vertical-align: middle;\n    }\n\n    .dataframe tbody tr th {\n        vertical-align: top;\n    }\n\n    .dataframe thead th {\n        text-align: right;\n    }\n</style>\n<table border=\"1\" class=\"dataframe\">\n  <thead>\n    <tr style=\"text-align: right;\">\n      <th></th>\n      <th>qid</th>\n      <th>Q0</th>\n      <th>pid</th>\n      <th>rank</th>\n      <th>score</th>\n      <th>tag</th>\n    </tr>\n  </thead>\n  <tbody>\n    <tr>\n      <th>0</th>\n      <td>101</td>\n      <td>Q0</td>\n      <td>17:1-1</td>\n      <td>1</td>\n      <td>0.880060</td>\n      <td>SimCSE_biencoder</td>\n    </tr>\n    <tr>\n      <th>1</th>\n      <td>101</td>\n      <td>Q0</td>\n      <td>20:25-37</td>\n      <td>2</td>\n      <td>0.840154</td>\n      <td>SimCSE_biencoder</td>\n    </tr>\n    <tr>\n      <th>2</th>\n      <td>101</td>\n      <td>Q0</td>\n      <td>29:36-37</td>\n      <td>3</td>\n      <td>0.827499</td>\n      <td>SimCSE_biencoder</td>\n    </tr>\n    <tr>\n      <th>3</th>\n      <td>101</td>\n      <td>Q0</td>\n      <td>7:85-93</td>\n      <td>4</td>\n      <td>0.813496</td>\n      <td>SimCSE_biencoder</td>\n    </tr>\n    <tr>\n      <th>4</th>\n      <td>101</td>\n      <td>Q0</td>\n      <td>21:87-88</td>\n      <td>5</td>\n      <td>0.813406</td>\n      <td>SimCSE_biencoder</td>\n    </tr>\n    <tr>\n      <th>...</th>\n      <td>...</td>\n      <td>...</td>\n      <td>...</td>\n      <td>...</td>\n      <td>...</td>\n      <td>...</td>\n    </tr>\n    <tr>\n      <th>13045</th>\n      <td>427</td>\n      <td>Q0</td>\n      <td>62:9-11</td>\n      <td>71</td>\n      <td>0.593552</td>\n      <td>SimCSE_biencoder</td>\n    </tr>\n    <tr>\n      <th>13046</th>\n      <td>427</td>\n      <td>Q0</td>\n      <td>1:7-7</td>\n      <td>72</td>\n      <td>0.591879</td>\n      <td>SimCSE_biencoder</td>\n    </tr>\n    <tr>\n      <th>13047</th>\n      <td>427</td>\n      <td>Q0</td>\n      <td>110:1-3</td>\n      <td>73</td>\n      <td>0.591441</td>\n      <td>SimCSE_biencoder</td>\n    </tr>\n    <tr>\n      <th>13048</th>\n      <td>427</td>\n      <td>Q0</td>\n      <td>109:1-6</td>\n      <td>74</td>\n      <td>0.589989</td>\n      <td>SimCSE_biencoder</td>\n    </tr>\n    <tr>\n      <th>13049</th>\n      <td>427</td>\n      <td>Q0</td>\n      <td>30:38-41</td>\n      <td>75</td>\n      <td>0.589645</td>\n      <td>SimCSE_biencoder</td>\n    </tr>\n  </tbody>\n</table>\n<p>13050 rows × 6 columns</p>\n</div>"
     },
     "execution_count": 141,
     "metadata": {},
     "output_type": "execute_result"
    }
   ],
   "source": [
    "tag = \"SimCSE_biencoder\"\n",
    "\n",
    "hits = util.semantic_search(query_train_embeddings, passage_embeddings, top_k=top_k)\n",
    "df_run = save_query_passage_retrieval(hits, tag, run_save=True)\n",
    "\n",
    "print(bi_model_name, train_biencoder_loss)\n",
    "! python QQA23_TaskA_eval.py \\\n",
    "    -r \"../data/runs/SimCSE_biencoder.tsv\" \\\n",
    "    -q \"../data/qrels/QQA23_TaskA_qrels_train.gold\"\n",
    "\n",
    "df_run"
   ],
   "metadata": {
    "collapsed": false,
    "ExecuteTime": {
     "end_time": "2023-08-11T18:51:01.773155800Z",
     "start_time": "2023-08-11T18:51:01.080641200Z"
    }
   }
  },
  {
   "cell_type": "code",
   "execution_count": 142,
   "outputs": [],
   "source": [
    "#Ghazaleh write below code"
   ],
   "metadata": {
    "collapsed": false,
    "ExecuteTime": {
     "end_time": "2023-08-11T18:51:01.781191200Z",
     "start_time": "2023-08-11T18:51:01.773155800Z"
    }
   }
  },
  {
   "cell_type": "code",
   "execution_count": 143,
   "outputs": [
    {
     "name": "stdout",
     "output_type": "stream",
     "text": [
      "len passage : 0, qury : معن جاثيه\n",
      "len passage : 0, qury : عقوب سارق\n",
      "len passage : 0, qury : مطفف\n",
      "len passage : 0, qury : تجوز صدقه\n"
     ]
    }
   ],
   "source": [
    "tag = \"SimCSE_bm25_biencoder\"\n",
    "top_k = 10\n",
    "bm25_biencoder_hit= []\n",
    "for query in df_query_train['query'].tolist():\n",
    "    bm25_result = BM25_model.search(query)\n",
    "    bm25_related_passage = bm25_result['docno'].tolist()\n",
    "    passage =  df_passage[df_passage['pid'].isin(bm25_related_passage)]['passage'].tolist()\n",
    "    try:\n",
    "        query_embedding = bi_encoder.encode(query, convert_to_tensor=True, show_progress_bar=False)\n",
    "        passage_embeddings = bi_encoder.encode(passage, convert_to_tensor=True, show_progress_bar=False)\n",
    "        # TODO\n",
    "        '''\n",
    "        check similarity between query and passage, with methods is better for this task?\n",
    "        util.dot_score\n",
    "        util.cos_sim\n",
    "        util.pairwise_dot_score\n",
    "        util.pairwise_cos_sim\n",
    "        '''\n",
    "        hit = util.semantic_search(query_embedding, passage_embeddings, top_k=top_k)[0]\n",
    "\n",
    "        mapping = {index : row['docno'] for index, row in bm25_result.iterrows()}\n",
    "\n",
    "    except:\n",
    "        #len passage is 0 but why ?\n",
    "        print(f\"len passage : {len(passage)}, qury : {query}\")\n",
    "        query_embedding = bi_encoder.encode(query, convert_to_tensor=True, show_progress_bar=False)\n",
    "        passage = df_passage['passage'].tolist()\n",
    "        passage_embeddings = bi_encoder.encode(passage, convert_to_tensor=True, show_progress_bar=False)\n",
    "        hit = util.semantic_search(query_embedding, passage_embeddings, top_k=top_k)[0]\n",
    "        mapping = {index : row['pid'] for index, row in df_passage.iterrows()}\n",
    "\n",
    "    for i in range(len(hit)):\n",
    "        hit[i]['corpus_id'] = mapping[hit[i]['corpus_id']]\n",
    "\n",
    "    hit = sorted(hit, key=lambda x: x['score'], reverse=True)\n",
    "\n",
    "    bm25_biencoder_hit.append(hit)\n"
   ],
   "metadata": {
    "collapsed": false,
    "ExecuteTime": {
     "end_time": "2023-08-11T18:51:41.800460100Z",
     "start_time": "2023-08-11T18:51:01.781191200Z"
    }
   }
  },
  {
   "cell_type": "code",
   "execution_count": 144,
   "outputs": [],
   "source": [
    "bm25_biencoder_hit_df = pd.DataFrame()\n",
    "for i in range(len(bm25_biencoder_hit)):\n",
    "    for j in range(len(bm25_biencoder_hit[i])):\n",
    "        new_record = pd.DataFrame([{\"qid\": df_query_train['qid'].tolist()[i],\n",
    "                \"Q0\": \"Q0\",\n",
    "                \"pid\": bm25_biencoder_hit[i][j]['corpus_id'],\n",
    "                \"rank\": j,\n",
    "                \"score\": bm25_biencoder_hit[i][j]['score'],\n",
    "                \"tag\": tag\n",
    "            }])\n",
    "        bm25_biencoder_hit_df = pd.concat([bm25_biencoder_hit_df, new_record], ignore_index=True)\n"
   ],
   "metadata": {
    "collapsed": false,
    "ExecuteTime": {
     "end_time": "2023-08-11T18:51:42.493340400Z",
     "start_time": "2023-08-11T18:51:41.801460Z"
    }
   }
  },
  {
   "cell_type": "code",
   "execution_count": 145,
   "outputs": [
    {
     "data": {
      "text/plain": "      qid  Q0        pid  rank     score                    tag\n0     101  Q0    7:73-79     0  0.827499  SimCSE_bm25_biencoder\n1     101  Q0   46:29-32     1  0.813496  SimCSE_bm25_biencoder\n2     101  Q0   20:86-94     2  0.769314  SimCSE_bm25_biencoder\n3     101  Q0    13:8-11     3  0.762408  SimCSE_bm25_biencoder\n4     101  Q0   10:79-86     4  0.745519  SimCSE_bm25_biencoder\n...   ...  ..        ...   ...       ...                    ...\n1586  427  Q0  2:104-105     5  0.520318  SimCSE_bm25_biencoder\n1587  427  Q0     18:1-6     6  0.514551  SimCSE_bm25_biencoder\n1588  427  Q0   24:30-31     7  0.507530  SimCSE_bm25_biencoder\n1589  427  Q0   3:98-101     8  0.500259  SimCSE_bm25_biencoder\n1590  427  Q0   36:28-32     9  0.492686  SimCSE_bm25_biencoder\n\n[1591 rows x 6 columns]",
      "text/html": "<div>\n<style scoped>\n    .dataframe tbody tr th:only-of-type {\n        vertical-align: middle;\n    }\n\n    .dataframe tbody tr th {\n        vertical-align: top;\n    }\n\n    .dataframe thead th {\n        text-align: right;\n    }\n</style>\n<table border=\"1\" class=\"dataframe\">\n  <thead>\n    <tr style=\"text-align: right;\">\n      <th></th>\n      <th>qid</th>\n      <th>Q0</th>\n      <th>pid</th>\n      <th>rank</th>\n      <th>score</th>\n      <th>tag</th>\n    </tr>\n  </thead>\n  <tbody>\n    <tr>\n      <th>0</th>\n      <td>101</td>\n      <td>Q0</td>\n      <td>7:73-79</td>\n      <td>0</td>\n      <td>0.827499</td>\n      <td>SimCSE_bm25_biencoder</td>\n    </tr>\n    <tr>\n      <th>1</th>\n      <td>101</td>\n      <td>Q0</td>\n      <td>46:29-32</td>\n      <td>1</td>\n      <td>0.813496</td>\n      <td>SimCSE_bm25_biencoder</td>\n    </tr>\n    <tr>\n      <th>2</th>\n      <td>101</td>\n      <td>Q0</td>\n      <td>20:86-94</td>\n      <td>2</td>\n      <td>0.769314</td>\n      <td>SimCSE_bm25_biencoder</td>\n    </tr>\n    <tr>\n      <th>3</th>\n      <td>101</td>\n      <td>Q0</td>\n      <td>13:8-11</td>\n      <td>3</td>\n      <td>0.762408</td>\n      <td>SimCSE_bm25_biencoder</td>\n    </tr>\n    <tr>\n      <th>4</th>\n      <td>101</td>\n      <td>Q0</td>\n      <td>10:79-86</td>\n      <td>4</td>\n      <td>0.745519</td>\n      <td>SimCSE_bm25_biencoder</td>\n    </tr>\n    <tr>\n      <th>...</th>\n      <td>...</td>\n      <td>...</td>\n      <td>...</td>\n      <td>...</td>\n      <td>...</td>\n      <td>...</td>\n    </tr>\n    <tr>\n      <th>1586</th>\n      <td>427</td>\n      <td>Q0</td>\n      <td>2:104-105</td>\n      <td>5</td>\n      <td>0.520318</td>\n      <td>SimCSE_bm25_biencoder</td>\n    </tr>\n    <tr>\n      <th>1587</th>\n      <td>427</td>\n      <td>Q0</td>\n      <td>18:1-6</td>\n      <td>6</td>\n      <td>0.514551</td>\n      <td>SimCSE_bm25_biencoder</td>\n    </tr>\n    <tr>\n      <th>1588</th>\n      <td>427</td>\n      <td>Q0</td>\n      <td>24:30-31</td>\n      <td>7</td>\n      <td>0.507530</td>\n      <td>SimCSE_bm25_biencoder</td>\n    </tr>\n    <tr>\n      <th>1589</th>\n      <td>427</td>\n      <td>Q0</td>\n      <td>3:98-101</td>\n      <td>8</td>\n      <td>0.500259</td>\n      <td>SimCSE_bm25_biencoder</td>\n    </tr>\n    <tr>\n      <th>1590</th>\n      <td>427</td>\n      <td>Q0</td>\n      <td>36:28-32</td>\n      <td>9</td>\n      <td>0.492686</td>\n      <td>SimCSE_bm25_biencoder</td>\n    </tr>\n  </tbody>\n</table>\n<p>1591 rows × 6 columns</p>\n</div>"
     },
     "execution_count": 145,
     "metadata": {},
     "output_type": "execute_result"
    }
   ],
   "source": [
    "bm25_biencoder_hit_df"
   ],
   "metadata": {
    "collapsed": false,
    "ExecuteTime": {
     "end_time": "2023-08-11T18:51:42.503735700Z",
     "start_time": "2023-08-11T18:51:42.493340400Z"
    }
   }
  },
  {
   "cell_type": "code",
   "execution_count": 146,
   "outputs": [],
   "source": [
    "bm25_biencoder_hit_df.to_csv(\"../data/runs/BM25_BiEncoder.tsv\", sep=\"\\t\", index=False, header=False)"
   ],
   "metadata": {
    "collapsed": false,
    "ExecuteTime": {
     "end_time": "2023-08-11T18:51:42.511753500Z",
     "start_time": "2023-08-11T18:51:42.503735700Z"
    }
   }
  },
  {
   "cell_type": "code",
   "execution_count": 147,
   "outputs": [
    {
     "name": "stdout",
     "output_type": "stream",
     "text": [
      "Format check: Passed\n",
      "     map  recip_rank\n",
      "0.091142    0.184013\n"
     ]
    }
   ],
   "source": [
    "! python QQA23_TaskA_eval.py \\\n",
    "    -r \"../data/runs/BM25_BiEncoder.tsv\" \\\n",
    "    -q \"../data/qrels/QQA23_TaskA_qrels_train.gold\""
   ],
   "metadata": {
    "collapsed": false,
    "ExecuteTime": {
     "end_time": "2023-08-11T18:51:42.919786700Z",
     "start_time": "2023-08-11T18:51:42.511753500Z"
    }
   }
  },
  {
   "cell_type": "markdown",
   "source": [
    "### Re-ranker (Cross-Encoder)"
   ],
   "metadata": {
    "collapsed": false,
    "ExecuteTime": {
     "end_time": "2023-08-11T05:47:42.914442500Z",
     "start_time": "2023-08-11T05:47:22.960408800Z"
    }
   },
   "outputs": [
    {
     "data": {
      "text/plain": "Batches:   0%|          | 0/40 [00:00<?, ?it/s]",
      "application/vnd.jupyter.widget-view+json": {
       "version_major": 2,
       "version_minor": 0,
       "model_id": "d69556b7ac9d45e0b85d4cd432ad3f28"
      }
     },
     "metadata": {},
     "output_type": "display_data"
    },
    {
     "data": {
      "text/plain": "Batches:   0%|          | 0/6 [00:00<?, ?it/s]",
      "application/vnd.jupyter.widget-view+json": {
       "version_major": 2,
       "version_minor": 0,
       "model_id": "a867eb20b7c946c5a9c55f405b333b95"
      }
     },
     "metadata": {},
     "output_type": "display_data"
    },
    {
     "data": {
      "text/plain": "Batches:   0%|          | 0/1 [00:00<?, ?it/s]",
      "application/vnd.jupyter.widget-view+json": {
       "version_major": 2,
       "version_minor": 0,
       "model_id": "36b3a37474e0422b9f4138639d5c3c57"
      }
     },
     "metadata": {},
     "output_type": "display_data"
    }
   ],
   "execution_count": 35
  },
  {
   "cell_type": "code",
   "execution_count": null,
   "outputs": [],
   "source": [
    "# cross_model_name = \"cross-encoder/ms-marco-MiniLM-L-6-v2\"\n",
    "# cross_model_name = \"cross-encoder/ms-marco-TinyBERT-L-2\"\n",
    "cross_model_name = \"distilroberta-base\""
   ],
   "metadata": {
    "collapsed": false
   }
  },
  {
   "cell_type": "code",
   "execution_count": null,
   "outputs": [],
   "source": [
    "cross_encoder = CrossEncoder(cross_model_name)"
   ],
   "metadata": {
    "collapsed": false
   }
  },
  {
   "cell_type": "markdown",
   "source": [
    "#### Train Cross-Encoder"
   ],
   "metadata": {
    "collapsed": false,
    "ExecuteTime": {
     "end_time": "2023-08-11T08:03:32.288313900Z",
     "start_time": "2023-08-11T08:03:32.282907500Z"
    }
   },
   "outputs": [],
   "execution_count": 228
  },
  {
   "cell_type": "code",
   "execution_count": null,
   "outputs": [],
   "source": [
    "# Fine-tune cross-encoder on the query-passage\n",
    "train_cross_loss = losses.ContrastiveLoss(cross_encoder)\n",
    "\n",
    "torch.cuda.empty_cache()\n",
    "\n",
    "warmup_steps = math.ceil(len(train_qp_dataloader) * num_epochs * 0.1) #10% of train data for warm-up\n",
    "logging.info(\"Warmup-steps: {}\".format(warmup_steps))\n",
    "\n",
    "cross_encoder.fit(train_qp_dataloader,\n",
    "          # evaluator=dev_evaluator,\n",
    "          epochs=num_epochs,\n",
    "          evaluation_steps=100,\n",
    "          warmup_steps=warmup_steps,\n",
    "          output_path=model_save_path\n",
    "          )\n"
   ],
   "metadata": {
    "collapsed": false
   }
  },
  {
   "cell_type": "code",
   "execution_count": null,
   "outputs": [],
   "source": [
    "tag = \"SimCSE_cross\"\n",
    "\n",
    "df_final = pd.DataFrame()\n",
    "\n",
    "for qid, filter_passages in df_run.groupby('qid'):\n",
    "    cross_inp = []\n",
    "    q = df_query_train[df_query_train['qid'] == qid]\n",
    "    for x in filter_passages.values:\n",
    "        p = df_passage[df_passage['pid'] == x[2]]\n",
    "        cross_inp.append([q['query'].tolist()[0], p['passage'].tolist()[0]])\n",
    "\n",
    "    cross_scores = cross_encoder.predict(cross_inp, show_progress_bar=False)\n",
    "    df_run = pd.DataFrame({'qid': qid, 'pid': filter_passages['pid'].values, 'score': cross_scores})\n",
    "    df_run = df_run.sort_values(by=['score'], ascending=False)[:10]\n",
    "    df_run['rank'] = range(1, len(df_run) + 1)\n",
    "\n",
    "    df_final = pd.concat([df_final, df_run], ignore_index=True)\n",
    "\n",
    "df_final = save_query_passage_retrieval(df_final, tag, run_save=True)\n",
    "\n",
    "print(\"cross-encoder model name\", cross_model_name)\n",
    "! python QQA23_TaskA_eval.py \\\n",
    "    -r \"../data/runs/SimCSE_cross.tsv\" \\\n",
    "    -q \"../data/qrels/QQA23_TaskA_qrels_train.gold\"\n",
    "df_final"
   ],
   "metadata": {
    "collapsed": false
   }
  },
  {
   "cell_type": "code",
   "execution_count": null,
   "outputs": [],
   "source": [
    "! python QQA23_TaskA_eval.py \\\n",
    "    -r \"../data/runs/SimCSE_cross.tsv\" \\\n",
    "    -q \"../data/qrels/QQA23_TaskA_qrels_train.gold\""
   ],
   "metadata": {
    "collapsed": false
   }
  },
  {
   "cell_type": "markdown",
   "source": [
    "## BM25 - Search\n",
    "Search in the index and find the relevant passages."
   ],
   "metadata": {
    "collapsed": false,
    "ExecuteTime": {
     "end_time": "2023-08-11T07:40:01.030740400Z",
     "start_time": "2023-08-11T07:40:01.013524500Z"
    }
   },
   "outputs": [
    {
     "data": {
      "text/plain": "10"
     },
     "execution_count": 180,
     "metadata": {},
     "output_type": "execute_result"
    }
   ],
   "execution_count": 180
  },
  {
   "cell_type": "code",
   "execution_count": null,
   "outputs": [],
   "source": [
    "# initialize the BM25 retrieval model\n",
    "top_k = 15\n",
    "BM25_model = pt.BatchRetrieve(index, controls = {\"wmodel\": \"BM25\"}, num_results=top_k)\n",
    "# wmodel=\"TF_IDF\""
   ],
   "metadata": {
    "collapsed": false
   }
  },
  {
   "cell_type": "code",
   "execution_count": null,
   "outputs": [],
   "source": [
    " # define some global constants\n",
    "TEXT = \"text\"\n",
    "QUERY = \"query\"\n",
    "LABEL = \"label\"\n",
    "RANK = \"rank\"\n",
    "TAG = \"tag\"\n",
    "SCORE = \"score\"\n",
    "QID = \"qid\"\n",
    "DOC_NO = \"docno\"\n",
    "DOCID = \"docid\"\n",
    "\n",
    "def prepare_query_for_search(query_path, query_column=TEXT,\n",
    "                        id_column=DOC_NO):\n",
    "\n",
    "        names = [DOC_NO, TEXT]\n",
    "        print(\"Cleaning queries and applying preprocessing steps\")\n",
    "        df_query = read_file(query_path, names=names)\n",
    "        # apply the cleaning functions on the queries/questions\n",
    "        df_query[QUERY] =df_query[query_column].apply(clean)\n",
    "\n",
    "        # apply normalization, stemming and stop word removal\n",
    "        print(\"Applying normalization, stemming and stop word removal\")\n",
    "        df_query[QUERY] =df_query[QUERY].apply(preprocess_arabic)\n",
    "\n",
    "        df_query[QID] = df_query[id_column].astype(str) # convert the id column to string\n",
    "        df_query = df_query[[QID, QUERY]] # keep the columns needed for search\n",
    "        print(\"Done with preparation!\")\n",
    "        return df_query\n"
   ],
   "metadata": {
    "collapsed": false
   }
  },
  {
   "cell_type": "code",
   "execution_count": null,
   "outputs": [],
   "source": [
    "tag = \"BM25\"\n",
    "\n",
    "df_query = prepare_query_for_search(query_train_path)\n",
    "# df_query = prepare_query_for_search(query_dev_path)\n",
    "\n",
    "# search using BM25 model\n",
    "df_run = BM25_model.transform(df_query)\n",
    "# df_run\n",
    "# save the run in trec format to a file\n",
    "df_run = save_query_passage_retrieval(df_run, tag, run_save=True)\n",
    "df_run\n",
    "# df_run"
   ],
   "metadata": {
    "collapsed": false
   }
  },
  {
   "cell_type": "code",
   "execution_count": null,
   "outputs": [],
   "source": [
    "! python QQA23_TaskA_eval.py \\\n",
    "    -r \"../data/runs/BM25_Final.tsv\" \\\n",
    "    -q \"../data/qrels/QQA23_TaskA_qrels_dev.gold\""
   ],
   "metadata": {
    "collapsed": false
   }
  },
  {
   "cell_type": "code",
   "execution_count": null,
   "outputs": [],
   "source": [
    "sample = \"عمران\"\n",
    "BM25_model.search(sample)"
   ],
   "metadata": {
    "collapsed": false
   }
  },
  {
   "cell_type": "markdown",
   "source": [],
   "metadata": {
    "collapsed": false,
    "ExecuteTime": {
     "end_time": "2023-08-11T07:14:01.580656900Z",
     "start_time": "2023-08-11T07:14:01.576656600Z"
    }
   },
   "outputs": [
    {
     "data": {
      "text/plain": "[{'corpus_id': 657, 'score': 0.39360111951828003},\n {'corpus_id': 327, 'score': 0.3716529309749603},\n {'corpus_id': 331, 'score': 0.36538270115852356},\n {'corpus_id': 740, 'score': 0.36278414726257324},\n {'corpus_id': 467, 'score': 0.3406820297241211},\n {'corpus_id': 468, 'score': 0.3354790508747101},\n {'corpus_id': 1141, 'score': 0.33013537526130676},\n {'corpus_id': 782, 'score': 0.3261427581310272},\n {'corpus_id': 1094, 'score': 0.31065741181373596},\n {'corpus_id': 634, 'score': 0.29105108976364136}]"
     },
     "execution_count": 158,
     "metadata": {},
     "output_type": "execute_result"
    }
   ],
   "execution_count": 158
  },
  {
   "cell_type": "code",
   "execution_count": null,
   "outputs": [],
   "source": [
    "def batch_emb(l1, l2):\n",
    "    l2 = sentence_embedding.encode(l2)\n",
    "    l1.extend(l2)\n",
    "    return l1\n",
    "\n",
    "def get_embedding(text, n=50):\n",
    "    batched_num = [text[i:i + n] for i in range(0, len(text), n)]\n",
    "    texts_embed = reduce(batch_emb, batched_num, [])\n",
    "    print(len(texts_embed))\n",
    "    return texts_embed\n",
    "\n"
   ],
   "metadata": {
    "collapsed": false
   }
  },
  {
   "cell_type": "markdown",
   "source": [
    "## RocketQA"
   ],
   "metadata": {
    "collapsed": false,
    "ExecuteTime": {
     "end_time": "2023-08-10T18:38:23.618099300Z",
     "start_time": "2023-08-10T18:38:22.771802300Z"
    }
   },
   "outputs": [
    {
     "data": {
      "text/plain": "      qid  Q0         pid  rank      score   tag\n0     101  Q0     7:85-93     0  14.236550  BM25\n1     101  Q0    29:36-37     1  13.002848  BM25\n2     101  Q0    11:89-95     2  12.651979  BM25\n3     101  Q0    11:84-88     3  11.658893  BM25\n4     101  Q0  26:176-191     4   6.080667  BM25\n...   ...  ..         ...   ...        ...   ...\n1546  427  Q0   4:167-169     5   9.738959  BM25\n1547  427  Q0    20:77-79     6   9.738959  BM25\n1548  427  Q0    32:23-27     7   9.723710  BM25\n1549  427  Q0      27:1-6     8   9.499220  BM25\n1550  427  Q0    28:57-59     9   9.497215  BM25\n\n[1551 rows x 6 columns]",
      "text/html": "<div>\n<style scoped>\n    .dataframe tbody tr th:only-of-type {\n        vertical-align: middle;\n    }\n\n    .dataframe tbody tr th {\n        vertical-align: top;\n    }\n\n    .dataframe thead th {\n        text-align: right;\n    }\n</style>\n<table border=\"1\" class=\"dataframe\">\n  <thead>\n    <tr style=\"text-align: right;\">\n      <th></th>\n      <th>qid</th>\n      <th>Q0</th>\n      <th>pid</th>\n      <th>rank</th>\n      <th>score</th>\n      <th>tag</th>\n    </tr>\n  </thead>\n  <tbody>\n    <tr>\n      <th>0</th>\n      <td>101</td>\n      <td>Q0</td>\n      <td>7:85-93</td>\n      <td>0</td>\n      <td>14.236550</td>\n      <td>BM25</td>\n    </tr>\n    <tr>\n      <th>1</th>\n      <td>101</td>\n      <td>Q0</td>\n      <td>29:36-37</td>\n      <td>1</td>\n      <td>13.002848</td>\n      <td>BM25</td>\n    </tr>\n    <tr>\n      <th>2</th>\n      <td>101</td>\n      <td>Q0</td>\n      <td>11:89-95</td>\n      <td>2</td>\n      <td>12.651979</td>\n      <td>BM25</td>\n    </tr>\n    <tr>\n      <th>3</th>\n      <td>101</td>\n      <td>Q0</td>\n      <td>11:84-88</td>\n      <td>3</td>\n      <td>11.658893</td>\n      <td>BM25</td>\n    </tr>\n    <tr>\n      <th>4</th>\n      <td>101</td>\n      <td>Q0</td>\n      <td>26:176-191</td>\n      <td>4</td>\n      <td>6.080667</td>\n      <td>BM25</td>\n    </tr>\n    <tr>\n      <th>...</th>\n      <td>...</td>\n      <td>...</td>\n      <td>...</td>\n      <td>...</td>\n      <td>...</td>\n      <td>...</td>\n    </tr>\n    <tr>\n      <th>1546</th>\n      <td>427</td>\n      <td>Q0</td>\n      <td>4:167-169</td>\n      <td>5</td>\n      <td>9.738959</td>\n      <td>BM25</td>\n    </tr>\n    <tr>\n      <th>1547</th>\n      <td>427</td>\n      <td>Q0</td>\n      <td>20:77-79</td>\n      <td>6</td>\n      <td>9.738959</td>\n      <td>BM25</td>\n    </tr>\n    <tr>\n      <th>1548</th>\n      <td>427</td>\n      <td>Q0</td>\n      <td>32:23-27</td>\n      <td>7</td>\n      <td>9.723710</td>\n      <td>BM25</td>\n    </tr>\n    <tr>\n      <th>1549</th>\n      <td>427</td>\n      <td>Q0</td>\n      <td>27:1-6</td>\n      <td>8</td>\n      <td>9.499220</td>\n      <td>BM25</td>\n    </tr>\n    <tr>\n      <th>1550</th>\n      <td>427</td>\n      <td>Q0</td>\n      <td>28:57-59</td>\n      <td>9</td>\n      <td>9.497215</td>\n      <td>BM25</td>\n    </tr>\n  </tbody>\n</table>\n<p>1551 rows × 6 columns</p>\n</div>"
     },
     "execution_count": 123,
     "metadata": {},
     "output_type": "execute_result"
    }
   ],
   "execution_count": 123
  },
  {
   "attachments": {},
   "cell_type": "markdown",
   "metadata": {},
   "source": [
    "# Evaluation"
   ]
  },
  {
   "cell_type": "code",
   "execution_count": null,
   "metadata": {},
   "outputs": [],
   "source": [
    "! python QQA23_TaskA_eval.py \\\n",
    "    -r \"../data/runs/bigIR_BM25.tsv\" \\\n",
    "    -q \"../data/qrels/QQA23_TaskA_qrels_dev.gold\""
   ]
  },
  {
   "attachments": {},
   "cell_type": "markdown",
   "metadata": {
    "ExecuteTime": {
     "end_time": "2023-08-10T18:38:44.158487Z",
     "start_time": "2023-08-10T18:38:44.140305500Z"
    }
   },
   "source": [
    "Here, we are just evaluating the perfect run for the dev set"
   ],
   "outputs": [],
   "execution_count": 124
  },
  {
   "cell_type": "code",
   "execution_count": null,
   "metadata": {},
   "outputs": [],
   "source": [
    "! python QQA23_TaskA_eval.py \\\n",
    "    -r \"../data/runs/dev_perfect.tsv\" \\\n",
    "    -q \"../data/qrels/QQA23_TaskA_qrels_dev.gold\""
   ]
  }
 ],
 "metadata": {
  "kernelspec": {
   "display_name": "tweetEnv",
   "language": "python",
   "name": "python3"
  },
  "language_info": {
   "codemirror_mode": {
    "name": "ipython",
    "version": 3
   },
   "file_extension": ".py",
   "mimetype": "text/x-python",
   "name": "python",
   "nbconvert_exporter": "python",
   "pygments_lexer": "ipython3",
   "version": "3.8.5"
  },
  "orig_nbformat": 4
 },
 "nbformat": 4,
 "nbformat_minor": 2
}
