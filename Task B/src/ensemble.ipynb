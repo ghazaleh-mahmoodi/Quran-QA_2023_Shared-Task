{
 "cells": [
  {
   "cell_type": "code",
   "execution_count": 1,
   "metadata": {},
   "outputs": [],
   "source": [
    "import json\n",
    "import pandas as pd\n",
    "import numpy as np\n",
    "\n",
    "import warnings\n",
    "warnings.filterwarnings('ignore')  # Ignore everything\n",
    "# ignore everything does not work: ignore specific messages, using regex\n",
    "warnings.filterwarnings('ignore', '.*A value is trying to be set on a copy of a slice from a DataFrame.*')\n",
    "warnings.filterwarnings('ignore', '.*indexing past lexsort depth may impact performance*')"
   ]
  },
  {
   "cell_type": "code",
   "execution_count": 3,
   "metadata": {},
   "outputs": [],
   "source": [
    "# with open(\"../result/Gym_run0.json\", \"r\") as read_file:\n",
    "#     data_run0 = json.load(read_file)\n",
    "\n",
    "# with open(\"../result/Gym_run1.json\", \"r\") as read_file:\n",
    "#     data_run1 = json.load(read_file)\n",
    "\n",
    "with open(\"../result/dev/Gym_dev0.json\", \"r\") as read_file:\n",
    "    data_run0 = json.load(read_file)\n",
    "\n",
    "with open(\"../result/dev/Gym_dev1.json\", \"r\") as read_file:\n",
    "    data_run1 = json.load(read_file)"
   ]
  },
  {
   "cell_type": "code",
   "execution_count": 4,
   "metadata": {},
   "outputs": [],
   "source": [
    "final_result = {}\n",
    "for id in list(data_run0.keys()):\n",
    "    ensemble_result = []\n",
    "    ensemble_result = data_run0[id] + data_run1[id]\n",
    "    df_new = pd.DataFrame(ensemble_result).groupby('answer')\n",
    "    \n",
    "    ensemble_df = pd.DataFrame()\n",
    "    for i, row in df_new:\n",
    "        if len(row) == 1 :\n",
    "            ensemble_df = pd.concat([ensemble_df, row], axis=0)\n",
    "        else:\n",
    "            new_row = row.iloc[0]\n",
    "            new_row['score'] = sum(row['score'])\n",
    "            ensemble_df = pd.concat([ensemble_df, pd.DataFrame(new_row).transpose()], axis=0)\n",
    "\n",
    "\n",
    "    ensemble_df = ensemble_df.sort_values(by=['score'], ascending=False)[:10]\n",
    "    ensemble_df['rank'] = [i for i in range(1, len(ensemble_df)+1)]\n",
    "    final_result[id] = list(ensemble_df.transpose().to_dict().values())\n",
    "\n",
    "\n",
    "    "
   ]
  },
  {
   "cell_type": "code",
   "execution_count": 5,
   "metadata": {},
   "outputs": [],
   "source": [
    "# output_file = '../result/Gym_test_ensemble.json'\n",
    "# with open(output_file, 'w', encoding='utf-8') as outfile:\n",
    "#     json.dump(final_result, outfile, indent=2, ensure_ascii=False, default=int)\n",
    "\n",
    "output_file = '../result/Gym_dev_ensemble.json'\n",
    "with open(output_file, 'w', encoding='utf-8') as outfile:\n",
    "    json.dump(final_result, outfile, indent=2, ensure_ascii=False, default=int)"
   ]
  },
  {
   "cell_type": "code",
   "execution_count": null,
   "metadata": {},
   "outputs": [],
   "source": []
  }
 ],
 "metadata": {
  "kernelspec": {
   "display_name": "base",
   "language": "python",
   "name": "python3"
  },
  "language_info": {
   "codemirror_mode": {
    "name": "ipython",
    "version": 3
   },
   "file_extension": ".py",
   "mimetype": "text/x-python",
   "name": "python",
   "nbconvert_exporter": "python",
   "pygments_lexer": "ipython3",
   "version": "3.8.5"
  },
  "orig_nbformat": 4
 },
 "nbformat": 4,
 "nbformat_minor": 2
}
